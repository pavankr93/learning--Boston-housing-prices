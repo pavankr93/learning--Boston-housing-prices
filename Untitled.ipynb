{
 "cells": [
  {
   "cell_type": "markdown",
   "metadata": {},
   "source": [
    "##import library, data\n",
    "#outlier capping, residual plots,transformation, ridge-lasso,knn , dt,rf,xgboost\n"
   ]
  },
  {
   "cell_type": "code",
   "execution_count": 19,
   "metadata": {},
   "outputs": [],
   "source": [
    "import numpy as np\n",
    "import pandas as pd\n",
    "from sklearn.preprocessing import StandardScaler\n",
    "from sklearn.preprocessing import MinMaxScaler\n",
    "from sklearn.model_selection import train_test_split\n",
    "from sklearn.model_selection import GridSearchCV, cross_val_score\n",
    "from sklearn.metrics import mean_squared_error, r2_score"
   ]
  },
  {
   "cell_type": "code",
   "execution_count": 20,
   "metadata": {},
   "outputs": [],
   "source": [
    "data=pd.read_csv(\"/Users/pavankumar/Documents/mith/multi lr/HousingData copy.csv\")"
   ]
  },
  {
   "cell_type": "code",
   "execution_count": 21,
   "metadata": {},
   "outputs": [
    {
     "data": {
      "text/html": [
       "<div>\n",
       "<style scoped>\n",
       "    .dataframe tbody tr th:only-of-type {\n",
       "        vertical-align: middle;\n",
       "    }\n",
       "\n",
       "    .dataframe tbody tr th {\n",
       "        vertical-align: top;\n",
       "    }\n",
       "\n",
       "    .dataframe thead th {\n",
       "        text-align: right;\n",
       "    }\n",
       "</style>\n",
       "<table border=\"1\" class=\"dataframe\">\n",
       "  <thead>\n",
       "    <tr style=\"text-align: right;\">\n",
       "      <th></th>\n",
       "      <th>CRIM</th>\n",
       "      <th>ZN</th>\n",
       "      <th>INDUS</th>\n",
       "      <th>CHAS</th>\n",
       "      <th>NOX</th>\n",
       "      <th>RM</th>\n",
       "      <th>AGE</th>\n",
       "      <th>DIS</th>\n",
       "      <th>RAD</th>\n",
       "      <th>TAX</th>\n",
       "      <th>PT</th>\n",
       "      <th>B</th>\n",
       "      <th>LSTAT</th>\n",
       "      <th>MV</th>\n",
       "    </tr>\n",
       "  </thead>\n",
       "  <tbody>\n",
       "    <tr>\n",
       "      <th>0</th>\n",
       "      <td>0.00632</td>\n",
       "      <td>18.0</td>\n",
       "      <td>2.31</td>\n",
       "      <td>0.0</td>\n",
       "      <td>0.538</td>\n",
       "      <td>6.575</td>\n",
       "      <td>65.199997</td>\n",
       "      <td>4.0900</td>\n",
       "      <td>1.0</td>\n",
       "      <td>296.0</td>\n",
       "      <td>15.300000</td>\n",
       "      <td>NaN</td>\n",
       "      <td>4.98</td>\n",
       "      <td>24.000000</td>\n",
       "    </tr>\n",
       "    <tr>\n",
       "      <th>1</th>\n",
       "      <td>0.02731</td>\n",
       "      <td>0.0</td>\n",
       "      <td>7.07</td>\n",
       "      <td>0.0</td>\n",
       "      <td>0.469</td>\n",
       "      <td>6.421</td>\n",
       "      <td>78.900002</td>\n",
       "      <td>4.9671</td>\n",
       "      <td>2.0</td>\n",
       "      <td>242.0</td>\n",
       "      <td>17.799999</td>\n",
       "      <td>396.899994</td>\n",
       "      <td>9.14</td>\n",
       "      <td>21.600000</td>\n",
       "    </tr>\n",
       "    <tr>\n",
       "      <th>2</th>\n",
       "      <td>0.02729</td>\n",
       "      <td>0.0</td>\n",
       "      <td>7.07</td>\n",
       "      <td>0.0</td>\n",
       "      <td>0.469</td>\n",
       "      <td>7.185</td>\n",
       "      <td>61.099998</td>\n",
       "      <td>4.9671</td>\n",
       "      <td>2.0</td>\n",
       "      <td>242.0</td>\n",
       "      <td>17.799999</td>\n",
       "      <td>392.829987</td>\n",
       "      <td>4.03</td>\n",
       "      <td>34.700001</td>\n",
       "    </tr>\n",
       "    <tr>\n",
       "      <th>3</th>\n",
       "      <td>0.03237</td>\n",
       "      <td>NaN</td>\n",
       "      <td>2.18</td>\n",
       "      <td>0.0</td>\n",
       "      <td>0.458</td>\n",
       "      <td>6.998</td>\n",
       "      <td>45.799999</td>\n",
       "      <td>6.0622</td>\n",
       "      <td>3.0</td>\n",
       "      <td>222.0</td>\n",
       "      <td>18.700001</td>\n",
       "      <td>394.630005</td>\n",
       "      <td>2.94</td>\n",
       "      <td>33.400002</td>\n",
       "    </tr>\n",
       "    <tr>\n",
       "      <th>4</th>\n",
       "      <td>0.06905</td>\n",
       "      <td>0.0</td>\n",
       "      <td>2.18</td>\n",
       "      <td>0.0</td>\n",
       "      <td>0.458</td>\n",
       "      <td>7.147</td>\n",
       "      <td>54.200001</td>\n",
       "      <td>6.0622</td>\n",
       "      <td>3.0</td>\n",
       "      <td>222.0</td>\n",
       "      <td>18.700001</td>\n",
       "      <td>396.899994</td>\n",
       "      <td>5.33</td>\n",
       "      <td>36.200001</td>\n",
       "    </tr>\n",
       "  </tbody>\n",
       "</table>\n",
       "</div>"
      ],
      "text/plain": [
       "      CRIM    ZN  INDUS  CHAS    NOX     RM        AGE     DIS  RAD    TAX  \\\n",
       "0  0.00632  18.0   2.31   0.0  0.538  6.575  65.199997  4.0900  1.0  296.0   \n",
       "1  0.02731   0.0   7.07   0.0  0.469  6.421  78.900002  4.9671  2.0  242.0   \n",
       "2  0.02729   0.0   7.07   0.0  0.469  7.185  61.099998  4.9671  2.0  242.0   \n",
       "3  0.03237   NaN   2.18   0.0  0.458  6.998  45.799999  6.0622  3.0  222.0   \n",
       "4  0.06905   0.0   2.18   0.0  0.458  7.147  54.200001  6.0622  3.0  222.0   \n",
       "\n",
       "          PT           B  LSTAT         MV  \n",
       "0  15.300000         NaN   4.98  24.000000  \n",
       "1  17.799999  396.899994   9.14  21.600000  \n",
       "2  17.799999  392.829987   4.03  34.700001  \n",
       "3  18.700001  394.630005   2.94  33.400002  \n",
       "4  18.700001  396.899994   5.33  36.200001  "
      ]
     },
     "execution_count": 21,
     "metadata": {},
     "output_type": "execute_result"
    }
   ],
   "source": [
    "data.head()"
   ]
  },
  {
   "cell_type": "code",
   "execution_count": 22,
   "metadata": {},
   "outputs": [
    {
     "data": {
      "image/png": "[encoded data removed]",
      "text/plain": [
       "<Figure size 432x288 with 1 Axes>"
      ]
     },
     "metadata": {
      "needs_background": "light"
     },
     "output_type": "display_data"
    }
   ],
   "source": [
    "import seaborn as sns \n",
    "sns.boxplot(data['MV']) \n",
    "sns.despine()"
   ]
  },
  {
   "cell_type": "code",
   "execution_count": 23,
   "metadata": {},
   "outputs": [
    {
     "data": {
      "text/plain": [
       "0.25    17.075000\n",
       "0.50    21.200001\n",
       "0.75    25.000000\n",
       "Name: MV, dtype: float64"
      ]
     },
     "execution_count": 23,
     "metadata": {},
     "output_type": "execute_result"
    }
   ],
   "source": [
    "data.MV.quantile([0.25,0.5,0.75])"
   ]
  },
  {
   "cell_type": "code",
   "execution_count": 24,
   "metadata": {
    "scrolled": true
   },
   "outputs": [
    {
     "data": {
      "text/html": [
       "<div>\n",
       "<style scoped>\n",
       "    .dataframe tbody tr th:only-of-type {\n",
       "        vertical-align: middle;\n",
       "    }\n",
       "\n",
       "    .dataframe tbody tr th {\n",
       "        vertical-align: top;\n",
       "    }\n",
       "\n",
       "    .dataframe thead th {\n",
       "        text-align: right;\n",
       "    }\n",
       "</style>\n",
       "<table border=\"1\" class=\"dataframe\">\n",
       "  <thead>\n",
       "    <tr style=\"text-align: right;\">\n",
       "      <th></th>\n",
       "      <th>CRIM</th>\n",
       "      <th>ZN</th>\n",
       "      <th>INDUS</th>\n",
       "      <th>CHAS</th>\n",
       "      <th>NOX</th>\n",
       "      <th>RM</th>\n",
       "      <th>AGE</th>\n",
       "      <th>DIS</th>\n",
       "      <th>RAD</th>\n",
       "      <th>TAX</th>\n",
       "      <th>PT</th>\n",
       "      <th>B</th>\n",
       "      <th>LSTAT</th>\n",
       "      <th>MV</th>\n",
       "    </tr>\n",
       "  </thead>\n",
       "  <tbody>\n",
       "    <tr>\n",
       "      <th>0</th>\n",
       "      <td>0.00632</td>\n",
       "      <td>18.0</td>\n",
       "      <td>2.31</td>\n",
       "      <td>0.0</td>\n",
       "      <td>0.538</td>\n",
       "      <td>6.575</td>\n",
       "      <td>65.199997</td>\n",
       "      <td>4.0900</td>\n",
       "      <td>1.0</td>\n",
       "      <td>296.0</td>\n",
       "      <td>15.300000</td>\n",
       "      <td>NaN</td>\n",
       "      <td>4.980000</td>\n",
       "      <td>24.000000</td>\n",
       "    </tr>\n",
       "    <tr>\n",
       "      <th>1</th>\n",
       "      <td>0.02731</td>\n",
       "      <td>0.0</td>\n",
       "      <td>7.07</td>\n",
       "      <td>0.0</td>\n",
       "      <td>0.469</td>\n",
       "      <td>6.421</td>\n",
       "      <td>78.900002</td>\n",
       "      <td>4.9671</td>\n",
       "      <td>2.0</td>\n",
       "      <td>242.0</td>\n",
       "      <td>17.799999</td>\n",
       "      <td>396.899994</td>\n",
       "      <td>9.140000</td>\n",
       "      <td>21.600000</td>\n",
       "    </tr>\n",
       "    <tr>\n",
       "      <th>2</th>\n",
       "      <td>0.02729</td>\n",
       "      <td>0.0</td>\n",
       "      <td>7.07</td>\n",
       "      <td>0.0</td>\n",
       "      <td>0.469</td>\n",
       "      <td>7.185</td>\n",
       "      <td>61.099998</td>\n",
       "      <td>4.9671</td>\n",
       "      <td>2.0</td>\n",
       "      <td>242.0</td>\n",
       "      <td>17.799999</td>\n",
       "      <td>392.829987</td>\n",
       "      <td>4.030000</td>\n",
       "      <td>34.700001</td>\n",
       "    </tr>\n",
       "    <tr>\n",
       "      <th>3</th>\n",
       "      <td>0.03237</td>\n",
       "      <td>NaN</td>\n",
       "      <td>2.18</td>\n",
       "      <td>0.0</td>\n",
       "      <td>0.458</td>\n",
       "      <td>6.998</td>\n",
       "      <td>45.799999</td>\n",
       "      <td>6.0622</td>\n",
       "      <td>3.0</td>\n",
       "      <td>222.0</td>\n",
       "      <td>18.700001</td>\n",
       "      <td>394.630005</td>\n",
       "      <td>2.940000</td>\n",
       "      <td>33.400002</td>\n",
       "    </tr>\n",
       "    <tr>\n",
       "      <th>4</th>\n",
       "      <td>0.06905</td>\n",
       "      <td>0.0</td>\n",
       "      <td>2.18</td>\n",
       "      <td>0.0</td>\n",
       "      <td>0.458</td>\n",
       "      <td>7.147</td>\n",
       "      <td>54.200001</td>\n",
       "      <td>6.0622</td>\n",
       "      <td>3.0</td>\n",
       "      <td>222.0</td>\n",
       "      <td>18.700001</td>\n",
       "      <td>396.899994</td>\n",
       "      <td>5.330000</td>\n",
       "      <td>36.200001</td>\n",
       "    </tr>\n",
       "    <tr>\n",
       "      <th>5</th>\n",
       "      <td>0.02985</td>\n",
       "      <td>0.0</td>\n",
       "      <td>2.18</td>\n",
       "      <td>0.0</td>\n",
       "      <td>0.458</td>\n",
       "      <td>6.430</td>\n",
       "      <td>58.700001</td>\n",
       "      <td>6.0622</td>\n",
       "      <td>3.0</td>\n",
       "      <td>222.0</td>\n",
       "      <td>18.700001</td>\n",
       "      <td>394.119995</td>\n",
       "      <td>5.210000</td>\n",
       "      <td>28.700001</td>\n",
       "    </tr>\n",
       "    <tr>\n",
       "      <th>6</th>\n",
       "      <td>0.08829</td>\n",
       "      <td>12.5</td>\n",
       "      <td>7.87</td>\n",
       "      <td>0.0</td>\n",
       "      <td>0.524</td>\n",
       "      <td>6.012</td>\n",
       "      <td>66.599998</td>\n",
       "      <td>5.5605</td>\n",
       "      <td>5.0</td>\n",
       "      <td>311.0</td>\n",
       "      <td>15.200000</td>\n",
       "      <td>395.600006</td>\n",
       "      <td>12.430000</td>\n",
       "      <td>22.900000</td>\n",
       "    </tr>\n",
       "    <tr>\n",
       "      <th>7</th>\n",
       "      <td>0.14455</td>\n",
       "      <td>12.5</td>\n",
       "      <td>7.87</td>\n",
       "      <td>0.0</td>\n",
       "      <td>0.524</td>\n",
       "      <td>6.172</td>\n",
       "      <td>96.099998</td>\n",
       "      <td>5.9505</td>\n",
       "      <td>5.0</td>\n",
       "      <td>311.0</td>\n",
       "      <td>15.200000</td>\n",
       "      <td>396.899994</td>\n",
       "      <td>19.150000</td>\n",
       "      <td>27.100000</td>\n",
       "    </tr>\n",
       "    <tr>\n",
       "      <th>8</th>\n",
       "      <td>0.21124</td>\n",
       "      <td>12.5</td>\n",
       "      <td>7.87</td>\n",
       "      <td>0.0</td>\n",
       "      <td>0.524</td>\n",
       "      <td>5.631</td>\n",
       "      <td>100.000000</td>\n",
       "      <td>6.0821</td>\n",
       "      <td>5.0</td>\n",
       "      <td>311.0</td>\n",
       "      <td>15.200000</td>\n",
       "      <td>386.630005</td>\n",
       "      <td>NaN</td>\n",
       "      <td>16.500000</td>\n",
       "    </tr>\n",
       "    <tr>\n",
       "      <th>9</th>\n",
       "      <td>0.17004</td>\n",
       "      <td>12.5</td>\n",
       "      <td>7.87</td>\n",
       "      <td>0.0</td>\n",
       "      <td>0.524</td>\n",
       "      <td>6.004</td>\n",
       "      <td>85.900002</td>\n",
       "      <td>6.5921</td>\n",
       "      <td>5.0</td>\n",
       "      <td>311.0</td>\n",
       "      <td>15.200000</td>\n",
       "      <td>386.709992</td>\n",
       "      <td>17.100000</td>\n",
       "      <td>18.900000</td>\n",
       "    </tr>\n",
       "    <tr>\n",
       "      <th>10</th>\n",
       "      <td>0.22489</td>\n",
       "      <td>12.5</td>\n",
       "      <td>7.87</td>\n",
       "      <td>0.0</td>\n",
       "      <td>0.524</td>\n",
       "      <td>6.377</td>\n",
       "      <td>94.300003</td>\n",
       "      <td>6.3467</td>\n",
       "      <td>5.0</td>\n",
       "      <td>311.0</td>\n",
       "      <td>15.200000</td>\n",
       "      <td>392.519989</td>\n",
       "      <td>20.450001</td>\n",
       "      <td>15.000000</td>\n",
       "    </tr>\n",
       "    <tr>\n",
       "      <th>11</th>\n",
       "      <td>0.11747</td>\n",
       "      <td>12.5</td>\n",
       "      <td>7.87</td>\n",
       "      <td>0.0</td>\n",
       "      <td>0.524</td>\n",
       "      <td>6.009</td>\n",
       "      <td>82.900002</td>\n",
       "      <td>6.2267</td>\n",
       "      <td>5.0</td>\n",
       "      <td>311.0</td>\n",
       "      <td>15.200000</td>\n",
       "      <td>396.899994</td>\n",
       "      <td>13.270000</td>\n",
       "      <td>18.900000</td>\n",
       "    </tr>\n",
       "    <tr>\n",
       "      <th>12</th>\n",
       "      <td>0.09378</td>\n",
       "      <td>12.5</td>\n",
       "      <td>7.87</td>\n",
       "      <td>0.0</td>\n",
       "      <td>0.524</td>\n",
       "      <td>5.889</td>\n",
       "      <td>39.000000</td>\n",
       "      <td>5.4509</td>\n",
       "      <td>5.0</td>\n",
       "      <td>311.0</td>\n",
       "      <td>15.200000</td>\n",
       "      <td>390.500000</td>\n",
       "      <td>15.710000</td>\n",
       "      <td>21.700001</td>\n",
       "    </tr>\n",
       "    <tr>\n",
       "      <th>13</th>\n",
       "      <td>0.62976</td>\n",
       "      <td>0.0</td>\n",
       "      <td>8.14</td>\n",
       "      <td>0.0</td>\n",
       "      <td>0.538</td>\n",
       "      <td>5.949</td>\n",
       "      <td>61.799999</td>\n",
       "      <td>4.7075</td>\n",
       "      <td>4.0</td>\n",
       "      <td>307.0</td>\n",
       "      <td>21.000000</td>\n",
       "      <td>396.899994</td>\n",
       "      <td>8.260000</td>\n",
       "      <td>20.400000</td>\n",
       "    </tr>\n",
       "    <tr>\n",
       "      <th>14</th>\n",
       "      <td>0.63796</td>\n",
       "      <td>0.0</td>\n",
       "      <td>8.14</td>\n",
       "      <td>0.0</td>\n",
       "      <td>0.538</td>\n",
       "      <td>6.096</td>\n",
       "      <td>84.500000</td>\n",
       "      <td>4.4619</td>\n",
       "      <td>4.0</td>\n",
       "      <td>307.0</td>\n",
       "      <td>21.000000</td>\n",
       "      <td>380.019989</td>\n",
       "      <td>10.260000</td>\n",
       "      <td>18.200001</td>\n",
       "    </tr>\n",
       "    <tr>\n",
       "      <th>15</th>\n",
       "      <td>0.62739</td>\n",
       "      <td>0.0</td>\n",
       "      <td>8.14</td>\n",
       "      <td>0.0</td>\n",
       "      <td>0.538</td>\n",
       "      <td>5.834</td>\n",
       "      <td>56.500000</td>\n",
       "      <td>4.4986</td>\n",
       "      <td>4.0</td>\n",
       "      <td>307.0</td>\n",
       "      <td>21.000000</td>\n",
       "      <td>395.619995</td>\n",
       "      <td>8.470000</td>\n",
       "      <td>19.900000</td>\n",
       "    </tr>\n",
       "    <tr>\n",
       "      <th>16</th>\n",
       "      <td>1.05393</td>\n",
       "      <td>0.0</td>\n",
       "      <td>8.14</td>\n",
       "      <td>0.0</td>\n",
       "      <td>0.538</td>\n",
       "      <td>5.935</td>\n",
       "      <td>29.299999</td>\n",
       "      <td>4.4986</td>\n",
       "      <td>4.0</td>\n",
       "      <td>307.0</td>\n",
       "      <td>21.000000</td>\n",
       "      <td>386.850006</td>\n",
       "      <td>NaN</td>\n",
       "      <td>23.100000</td>\n",
       "    </tr>\n",
       "    <tr>\n",
       "      <th>17</th>\n",
       "      <td>0.78420</td>\n",
       "      <td>0.0</td>\n",
       "      <td>8.14</td>\n",
       "      <td>0.0</td>\n",
       "      <td>0.538</td>\n",
       "      <td>5.990</td>\n",
       "      <td>81.699997</td>\n",
       "      <td>4.2579</td>\n",
       "      <td>4.0</td>\n",
       "      <td>307.0</td>\n",
       "      <td>21.000000</td>\n",
       "      <td>386.750000</td>\n",
       "      <td>14.670000</td>\n",
       "      <td>17.500000</td>\n",
       "    </tr>\n",
       "    <tr>\n",
       "      <th>18</th>\n",
       "      <td>0.80271</td>\n",
       "      <td>0.0</td>\n",
       "      <td>8.14</td>\n",
       "      <td>0.0</td>\n",
       "      <td>0.538</td>\n",
       "      <td>5.456</td>\n",
       "      <td>36.599998</td>\n",
       "      <td>3.7965</td>\n",
       "      <td>4.0</td>\n",
       "      <td>307.0</td>\n",
       "      <td>21.000000</td>\n",
       "      <td>288.989990</td>\n",
       "      <td>11.690000</td>\n",
       "      <td>20.200001</td>\n",
       "    </tr>\n",
       "    <tr>\n",
       "      <th>19</th>\n",
       "      <td>0.72580</td>\n",
       "      <td>0.0</td>\n",
       "      <td>8.14</td>\n",
       "      <td>0.0</td>\n",
       "      <td>0.538</td>\n",
       "      <td>5.727</td>\n",
       "      <td>69.500000</td>\n",
       "      <td>3.7965</td>\n",
       "      <td>4.0</td>\n",
       "      <td>307.0</td>\n",
       "      <td>21.000000</td>\n",
       "      <td>390.950012</td>\n",
       "      <td>11.280000</td>\n",
       "      <td>18.200001</td>\n",
       "    </tr>\n",
       "    <tr>\n",
       "      <th>20</th>\n",
       "      <td>1.25179</td>\n",
       "      <td>0.0</td>\n",
       "      <td>8.14</td>\n",
       "      <td>0.0</td>\n",
       "      <td>0.538</td>\n",
       "      <td>5.570</td>\n",
       "      <td>98.099998</td>\n",
       "      <td>3.7979</td>\n",
       "      <td>4.0</td>\n",
       "      <td>307.0</td>\n",
       "      <td>21.000000</td>\n",
       "      <td>376.570007</td>\n",
       "      <td>21.020000</td>\n",
       "      <td>13.600000</td>\n",
       "    </tr>\n",
       "    <tr>\n",
       "      <th>21</th>\n",
       "      <td>0.85204</td>\n",
       "      <td>0.0</td>\n",
       "      <td>8.14</td>\n",
       "      <td>0.0</td>\n",
       "      <td>0.538</td>\n",
       "      <td>5.965</td>\n",
       "      <td>89.199997</td>\n",
       "      <td>4.0123</td>\n",
       "      <td>4.0</td>\n",
       "      <td>307.0</td>\n",
       "      <td>21.000000</td>\n",
       "      <td>392.529999</td>\n",
       "      <td>13.830000</td>\n",
       "      <td>19.600000</td>\n",
       "    </tr>\n",
       "    <tr>\n",
       "      <th>22</th>\n",
       "      <td>1.23247</td>\n",
       "      <td>0.0</td>\n",
       "      <td>8.14</td>\n",
       "      <td>0.0</td>\n",
       "      <td>0.538</td>\n",
       "      <td>6.142</td>\n",
       "      <td>91.699997</td>\n",
       "      <td>3.9769</td>\n",
       "      <td>4.0</td>\n",
       "      <td>307.0</td>\n",
       "      <td>21.000000</td>\n",
       "      <td>396.899994</td>\n",
       "      <td>18.719999</td>\n",
       "      <td>15.200000</td>\n",
       "    </tr>\n",
       "    <tr>\n",
       "      <th>23</th>\n",
       "      <td>0.98843</td>\n",
       "      <td>0.0</td>\n",
       "      <td>8.14</td>\n",
       "      <td>0.0</td>\n",
       "      <td>0.538</td>\n",
       "      <td>5.813</td>\n",
       "      <td>100.000000</td>\n",
       "      <td>4.0952</td>\n",
       "      <td>4.0</td>\n",
       "      <td>307.0</td>\n",
       "      <td>21.000000</td>\n",
       "      <td>394.540008</td>\n",
       "      <td>19.879999</td>\n",
       "      <td>14.500000</td>\n",
       "    </tr>\n",
       "    <tr>\n",
       "      <th>24</th>\n",
       "      <td>0.75026</td>\n",
       "      <td>0.0</td>\n",
       "      <td>8.14</td>\n",
       "      <td>0.0</td>\n",
       "      <td>0.538</td>\n",
       "      <td>5.924</td>\n",
       "      <td>94.099998</td>\n",
       "      <td>4.3996</td>\n",
       "      <td>4.0</td>\n",
       "      <td>307.0</td>\n",
       "      <td>21.000000</td>\n",
       "      <td>394.329987</td>\n",
       "      <td>16.299999</td>\n",
       "      <td>15.600000</td>\n",
       "    </tr>\n",
       "    <tr>\n",
       "      <th>25</th>\n",
       "      <td>0.84054</td>\n",
       "      <td>0.0</td>\n",
       "      <td>8.14</td>\n",
       "      <td>0.0</td>\n",
       "      <td>0.538</td>\n",
       "      <td>5.599</td>\n",
       "      <td>85.699997</td>\n",
       "      <td>4.4546</td>\n",
       "      <td>4.0</td>\n",
       "      <td>307.0</td>\n",
       "      <td>21.000000</td>\n",
       "      <td>303.420013</td>\n",
       "      <td>16.510000</td>\n",
       "      <td>13.900000</td>\n",
       "    </tr>\n",
       "    <tr>\n",
       "      <th>26</th>\n",
       "      <td>0.67191</td>\n",
       "      <td>0.0</td>\n",
       "      <td>8.14</td>\n",
       "      <td>0.0</td>\n",
       "      <td>0.538</td>\n",
       "      <td>5.813</td>\n",
       "      <td>90.300003</td>\n",
       "      <td>4.6820</td>\n",
       "      <td>4.0</td>\n",
       "      <td>307.0</td>\n",
       "      <td>21.000000</td>\n",
       "      <td>376.880005</td>\n",
       "      <td>14.810000</td>\n",
       "      <td>16.600000</td>\n",
       "    </tr>\n",
       "    <tr>\n",
       "      <th>27</th>\n",
       "      <td>0.95577</td>\n",
       "      <td>0.0</td>\n",
       "      <td>8.14</td>\n",
       "      <td>0.0</td>\n",
       "      <td>0.538</td>\n",
       "      <td>6.047</td>\n",
       "      <td>88.800003</td>\n",
       "      <td>4.4534</td>\n",
       "      <td>4.0</td>\n",
       "      <td>307.0</td>\n",
       "      <td>21.000000</td>\n",
       "      <td>306.380005</td>\n",
       "      <td>17.280001</td>\n",
       "      <td>14.800000</td>\n",
       "    </tr>\n",
       "    <tr>\n",
       "      <th>28</th>\n",
       "      <td>0.77299</td>\n",
       "      <td>0.0</td>\n",
       "      <td>8.14</td>\n",
       "      <td>0.0</td>\n",
       "      <td>0.538</td>\n",
       "      <td>6.495</td>\n",
       "      <td>94.400002</td>\n",
       "      <td>4.4547</td>\n",
       "      <td>4.0</td>\n",
       "      <td>307.0</td>\n",
       "      <td>21.000000</td>\n",
       "      <td>387.940002</td>\n",
       "      <td>12.800000</td>\n",
       "      <td>18.400000</td>\n",
       "    </tr>\n",
       "    <tr>\n",
       "      <th>29</th>\n",
       "      <td>1.00245</td>\n",
       "      <td>0.0</td>\n",
       "      <td>8.14</td>\n",
       "      <td>0.0</td>\n",
       "      <td>0.538</td>\n",
       "      <td>6.674</td>\n",
       "      <td>87.300003</td>\n",
       "      <td>4.2390</td>\n",
       "      <td>4.0</td>\n",
       "      <td>307.0</td>\n",
       "      <td>21.000000</td>\n",
       "      <td>380.230011</td>\n",
       "      <td>11.980000</td>\n",
       "      <td>21.000000</td>\n",
       "    </tr>\n",
       "    <tr>\n",
       "      <th>...</th>\n",
       "      <td>...</td>\n",
       "      <td>...</td>\n",
       "      <td>...</td>\n",
       "      <td>...</td>\n",
       "      <td>...</td>\n",
       "      <td>...</td>\n",
       "      <td>...</td>\n",
       "      <td>...</td>\n",
       "      <td>...</td>\n",
       "      <td>...</td>\n",
       "      <td>...</td>\n",
       "      <td>...</td>\n",
       "      <td>...</td>\n",
       "      <td>...</td>\n",
       "    </tr>\n",
       "    <tr>\n",
       "      <th>470</th>\n",
       "      <td>6.39312</td>\n",
       "      <td>0.0</td>\n",
       "      <td>18.10</td>\n",
       "      <td>0.0</td>\n",
       "      <td>0.584</td>\n",
       "      <td>6.162</td>\n",
       "      <td>97.400002</td>\n",
       "      <td>2.2060</td>\n",
       "      <td>24.0</td>\n",
       "      <td>666.0</td>\n",
       "      <td>20.200001</td>\n",
       "      <td>302.760010</td>\n",
       "      <td>24.100000</td>\n",
       "      <td>13.300000</td>\n",
       "    </tr>\n",
       "    <tr>\n",
       "      <th>471</th>\n",
       "      <td>4.87141</td>\n",
       "      <td>0.0</td>\n",
       "      <td>18.10</td>\n",
       "      <td>0.0</td>\n",
       "      <td>0.614</td>\n",
       "      <td>6.484</td>\n",
       "      <td>93.599998</td>\n",
       "      <td>2.3053</td>\n",
       "      <td>24.0</td>\n",
       "      <td>666.0</td>\n",
       "      <td>20.200001</td>\n",
       "      <td>396.209992</td>\n",
       "      <td>18.680000</td>\n",
       "      <td>16.700001</td>\n",
       "    </tr>\n",
       "    <tr>\n",
       "      <th>472</th>\n",
       "      <td>15.02340</td>\n",
       "      <td>0.0</td>\n",
       "      <td>18.10</td>\n",
       "      <td>0.0</td>\n",
       "      <td>0.614</td>\n",
       "      <td>5.304</td>\n",
       "      <td>97.300003</td>\n",
       "      <td>2.1007</td>\n",
       "      <td>24.0</td>\n",
       "      <td>666.0</td>\n",
       "      <td>20.200001</td>\n",
       "      <td>349.480011</td>\n",
       "      <td>24.910000</td>\n",
       "      <td>12.000000</td>\n",
       "    </tr>\n",
       "    <tr>\n",
       "      <th>473</th>\n",
       "      <td>10.23300</td>\n",
       "      <td>0.0</td>\n",
       "      <td>18.10</td>\n",
       "      <td>0.0</td>\n",
       "      <td>0.614</td>\n",
       "      <td>6.185</td>\n",
       "      <td>96.699997</td>\n",
       "      <td>2.1705</td>\n",
       "      <td>24.0</td>\n",
       "      <td>666.0</td>\n",
       "      <td>20.200001</td>\n",
       "      <td>379.700012</td>\n",
       "      <td>NaN</td>\n",
       "      <td>14.600000</td>\n",
       "    </tr>\n",
       "    <tr>\n",
       "      <th>474</th>\n",
       "      <td>14.33370</td>\n",
       "      <td>0.0</td>\n",
       "      <td>18.10</td>\n",
       "      <td>0.0</td>\n",
       "      <td>0.614</td>\n",
       "      <td>6.229</td>\n",
       "      <td>88.000000</td>\n",
       "      <td>1.9512</td>\n",
       "      <td>24.0</td>\n",
       "      <td>666.0</td>\n",
       "      <td>20.200001</td>\n",
       "      <td>383.320007</td>\n",
       "      <td>13.110000</td>\n",
       "      <td>21.400000</td>\n",
       "    </tr>\n",
       "    <tr>\n",
       "      <th>475</th>\n",
       "      <td>5.82401</td>\n",
       "      <td>0.0</td>\n",
       "      <td>18.10</td>\n",
       "      <td>0.0</td>\n",
       "      <td>0.532</td>\n",
       "      <td>6.242</td>\n",
       "      <td>64.699997</td>\n",
       "      <td>3.4242</td>\n",
       "      <td>24.0</td>\n",
       "      <td>666.0</td>\n",
       "      <td>20.200001</td>\n",
       "      <td>396.899994</td>\n",
       "      <td>10.740000</td>\n",
       "      <td>23.000000</td>\n",
       "    </tr>\n",
       "    <tr>\n",
       "      <th>476</th>\n",
       "      <td>5.73116</td>\n",
       "      <td>0.0</td>\n",
       "      <td>18.10</td>\n",
       "      <td>0.0</td>\n",
       "      <td>0.532</td>\n",
       "      <td>7.061</td>\n",
       "      <td>77.000000</td>\n",
       "      <td>3.4106</td>\n",
       "      <td>NaN</td>\n",
       "      <td>666.0</td>\n",
       "      <td>20.200001</td>\n",
       "      <td>395.279999</td>\n",
       "      <td>7.010000</td>\n",
       "      <td>25.000000</td>\n",
       "    </tr>\n",
       "    <tr>\n",
       "      <th>477</th>\n",
       "      <td>2.81838</td>\n",
       "      <td>0.0</td>\n",
       "      <td>18.10</td>\n",
       "      <td>0.0</td>\n",
       "      <td>0.532</td>\n",
       "      <td>5.762</td>\n",
       "      <td>40.299999</td>\n",
       "      <td>4.0983</td>\n",
       "      <td>24.0</td>\n",
       "      <td>666.0</td>\n",
       "      <td>20.200001</td>\n",
       "      <td>392.920013</td>\n",
       "      <td>10.420000</td>\n",
       "      <td>21.799999</td>\n",
       "    </tr>\n",
       "    <tr>\n",
       "      <th>478</th>\n",
       "      <td>2.37857</td>\n",
       "      <td>0.0</td>\n",
       "      <td>18.10</td>\n",
       "      <td>0.0</td>\n",
       "      <td>0.583</td>\n",
       "      <td>5.871</td>\n",
       "      <td>41.900002</td>\n",
       "      <td>3.7240</td>\n",
       "      <td>24.0</td>\n",
       "      <td>666.0</td>\n",
       "      <td>20.200001</td>\n",
       "      <td>370.730011</td>\n",
       "      <td>13.340000</td>\n",
       "      <td>20.600000</td>\n",
       "    </tr>\n",
       "    <tr>\n",
       "      <th>479</th>\n",
       "      <td>3.67367</td>\n",
       "      <td>0.0</td>\n",
       "      <td>18.10</td>\n",
       "      <td>0.0</td>\n",
       "      <td>0.583</td>\n",
       "      <td>6.312</td>\n",
       "      <td>51.900002</td>\n",
       "      <td>3.9917</td>\n",
       "      <td>24.0</td>\n",
       "      <td>666.0</td>\n",
       "      <td>20.200001</td>\n",
       "      <td>388.619995</td>\n",
       "      <td>10.580000</td>\n",
       "      <td>21.200001</td>\n",
       "    </tr>\n",
       "    <tr>\n",
       "      <th>480</th>\n",
       "      <td>5.69175</td>\n",
       "      <td>0.0</td>\n",
       "      <td>18.10</td>\n",
       "      <td>0.0</td>\n",
       "      <td>0.583</td>\n",
       "      <td>6.114</td>\n",
       "      <td>79.800003</td>\n",
       "      <td>3.5459</td>\n",
       "      <td>24.0</td>\n",
       "      <td>666.0</td>\n",
       "      <td>20.200001</td>\n",
       "      <td>392.679993</td>\n",
       "      <td>14.980000</td>\n",
       "      <td>19.100000</td>\n",
       "    </tr>\n",
       "    <tr>\n",
       "      <th>481</th>\n",
       "      <td>4.83567</td>\n",
       "      <td>0.0</td>\n",
       "      <td>18.10</td>\n",
       "      <td>0.0</td>\n",
       "      <td>0.583</td>\n",
       "      <td>5.905</td>\n",
       "      <td>53.200001</td>\n",
       "      <td>3.1523</td>\n",
       "      <td>24.0</td>\n",
       "      <td>666.0</td>\n",
       "      <td>20.200001</td>\n",
       "      <td>388.220001</td>\n",
       "      <td>11.450000</td>\n",
       "      <td>20.600000</td>\n",
       "    </tr>\n",
       "    <tr>\n",
       "      <th>482</th>\n",
       "      <td>0.15086</td>\n",
       "      <td>0.0</td>\n",
       "      <td>27.74</td>\n",
       "      <td>0.0</td>\n",
       "      <td>0.609</td>\n",
       "      <td>5.454</td>\n",
       "      <td>92.699997</td>\n",
       "      <td>1.8209</td>\n",
       "      <td>4.0</td>\n",
       "      <td>711.0</td>\n",
       "      <td>20.100000</td>\n",
       "      <td>395.089996</td>\n",
       "      <td>18.059999</td>\n",
       "      <td>15.200000</td>\n",
       "    </tr>\n",
       "    <tr>\n",
       "      <th>483</th>\n",
       "      <td>0.18337</td>\n",
       "      <td>0.0</td>\n",
       "      <td>27.74</td>\n",
       "      <td>0.0</td>\n",
       "      <td>0.609</td>\n",
       "      <td>5.414</td>\n",
       "      <td>98.300003</td>\n",
       "      <td>1.7554</td>\n",
       "      <td>4.0</td>\n",
       "      <td>711.0</td>\n",
       "      <td>20.100000</td>\n",
       "      <td>344.049988</td>\n",
       "      <td>23.969999</td>\n",
       "      <td>7.000000</td>\n",
       "    </tr>\n",
       "    <tr>\n",
       "      <th>484</th>\n",
       "      <td>0.20746</td>\n",
       "      <td>0.0</td>\n",
       "      <td>27.74</td>\n",
       "      <td>0.0</td>\n",
       "      <td>0.609</td>\n",
       "      <td>5.093</td>\n",
       "      <td>98.000000</td>\n",
       "      <td>1.8226</td>\n",
       "      <td>4.0</td>\n",
       "      <td>711.0</td>\n",
       "      <td>20.100000</td>\n",
       "      <td>318.429993</td>\n",
       "      <td>29.680000</td>\n",
       "      <td>8.100000</td>\n",
       "    </tr>\n",
       "    <tr>\n",
       "      <th>485</th>\n",
       "      <td>0.10574</td>\n",
       "      <td>0.0</td>\n",
       "      <td>27.74</td>\n",
       "      <td>0.0</td>\n",
       "      <td>0.609</td>\n",
       "      <td>5.983</td>\n",
       "      <td>98.800003</td>\n",
       "      <td>1.8681</td>\n",
       "      <td>4.0</td>\n",
       "      <td>711.0</td>\n",
       "      <td>20.100000</td>\n",
       "      <td>390.109985</td>\n",
       "      <td>18.070000</td>\n",
       "      <td>13.600000</td>\n",
       "    </tr>\n",
       "    <tr>\n",
       "      <th>486</th>\n",
       "      <td>0.11132</td>\n",
       "      <td>0.0</td>\n",
       "      <td>27.74</td>\n",
       "      <td>0.0</td>\n",
       "      <td>0.609</td>\n",
       "      <td>5.983</td>\n",
       "      <td>83.500000</td>\n",
       "      <td>2.1099</td>\n",
       "      <td>4.0</td>\n",
       "      <td>711.0</td>\n",
       "      <td>20.100000</td>\n",
       "      <td>396.899994</td>\n",
       "      <td>13.350000</td>\n",
       "      <td>20.100000</td>\n",
       "    </tr>\n",
       "    <tr>\n",
       "      <th>487</th>\n",
       "      <td>NaN</td>\n",
       "      <td>0.0</td>\n",
       "      <td>9.69</td>\n",
       "      <td>0.0</td>\n",
       "      <td>0.585</td>\n",
       "      <td>5.707</td>\n",
       "      <td>54.000000</td>\n",
       "      <td>2.3817</td>\n",
       "      <td>6.0</td>\n",
       "      <td>391.0</td>\n",
       "      <td>19.200001</td>\n",
       "      <td>396.899994</td>\n",
       "      <td>12.010000</td>\n",
       "      <td>21.799999</td>\n",
       "    </tr>\n",
       "    <tr>\n",
       "      <th>488</th>\n",
       "      <td>0.27957</td>\n",
       "      <td>0.0</td>\n",
       "      <td>9.69</td>\n",
       "      <td>0.0</td>\n",
       "      <td>0.585</td>\n",
       "      <td>5.926</td>\n",
       "      <td>42.599998</td>\n",
       "      <td>2.3817</td>\n",
       "      <td>6.0</td>\n",
       "      <td>391.0</td>\n",
       "      <td>19.200001</td>\n",
       "      <td>396.899994</td>\n",
       "      <td>13.590000</td>\n",
       "      <td>24.500000</td>\n",
       "    </tr>\n",
       "    <tr>\n",
       "      <th>489</th>\n",
       "      <td>0.17899</td>\n",
       "      <td>0.0</td>\n",
       "      <td>9.69</td>\n",
       "      <td>0.0</td>\n",
       "      <td>0.585</td>\n",
       "      <td>5.670</td>\n",
       "      <td>28.799999</td>\n",
       "      <td>2.7986</td>\n",
       "      <td>6.0</td>\n",
       "      <td>391.0</td>\n",
       "      <td>19.200001</td>\n",
       "      <td>393.290008</td>\n",
       "      <td>17.600000</td>\n",
       "      <td>23.100000</td>\n",
       "    </tr>\n",
       "    <tr>\n",
       "      <th>490</th>\n",
       "      <td>0.28960</td>\n",
       "      <td>0.0</td>\n",
       "      <td>9.69</td>\n",
       "      <td>0.0</td>\n",
       "      <td>0.585</td>\n",
       "      <td>5.390</td>\n",
       "      <td>72.900002</td>\n",
       "      <td>2.7986</td>\n",
       "      <td>6.0</td>\n",
       "      <td>391.0</td>\n",
       "      <td>19.200001</td>\n",
       "      <td>396.899994</td>\n",
       "      <td>21.139999</td>\n",
       "      <td>19.700001</td>\n",
       "    </tr>\n",
       "    <tr>\n",
       "      <th>491</th>\n",
       "      <td>0.26838</td>\n",
       "      <td>0.0</td>\n",
       "      <td>9.69</td>\n",
       "      <td>0.0</td>\n",
       "      <td>0.585</td>\n",
       "      <td>5.794</td>\n",
       "      <td>70.599998</td>\n",
       "      <td>2.8927</td>\n",
       "      <td>6.0</td>\n",
       "      <td>391.0</td>\n",
       "      <td>19.200001</td>\n",
       "      <td>396.899994</td>\n",
       "      <td>14.100000</td>\n",
       "      <td>18.299999</td>\n",
       "    </tr>\n",
       "    <tr>\n",
       "      <th>492</th>\n",
       "      <td>0.23912</td>\n",
       "      <td>0.0</td>\n",
       "      <td>9.69</td>\n",
       "      <td>0.0</td>\n",
       "      <td>0.585</td>\n",
       "      <td>6.019</td>\n",
       "      <td>65.300003</td>\n",
       "      <td>2.4091</td>\n",
       "      <td>6.0</td>\n",
       "      <td>391.0</td>\n",
       "      <td>19.200001</td>\n",
       "      <td>396.899994</td>\n",
       "      <td>12.920000</td>\n",
       "      <td>21.200001</td>\n",
       "    </tr>\n",
       "    <tr>\n",
       "      <th>493</th>\n",
       "      <td>0.17783</td>\n",
       "      <td>0.0</td>\n",
       "      <td>9.69</td>\n",
       "      <td>0.0</td>\n",
       "      <td>0.585</td>\n",
       "      <td>5.569</td>\n",
       "      <td>73.500000</td>\n",
       "      <td>2.3999</td>\n",
       "      <td>6.0</td>\n",
       "      <td>391.0</td>\n",
       "      <td>19.200001</td>\n",
       "      <td>395.769989</td>\n",
       "      <td>15.100000</td>\n",
       "      <td>17.500000</td>\n",
       "    </tr>\n",
       "    <tr>\n",
       "      <th>494</th>\n",
       "      <td>0.22438</td>\n",
       "      <td>0.0</td>\n",
       "      <td>9.69</td>\n",
       "      <td>0.0</td>\n",
       "      <td>0.585</td>\n",
       "      <td>6.027</td>\n",
       "      <td>79.699997</td>\n",
       "      <td>2.4982</td>\n",
       "      <td>6.0</td>\n",
       "      <td>391.0</td>\n",
       "      <td>19.200001</td>\n",
       "      <td>396.899994</td>\n",
       "      <td>14.330000</td>\n",
       "      <td>16.799999</td>\n",
       "    </tr>\n",
       "    <tr>\n",
       "      <th>495</th>\n",
       "      <td>0.06263</td>\n",
       "      <td>0.0</td>\n",
       "      <td>11.93</td>\n",
       "      <td>0.0</td>\n",
       "      <td>0.573</td>\n",
       "      <td>6.593</td>\n",
       "      <td>69.099998</td>\n",
       "      <td>2.4786</td>\n",
       "      <td>1.0</td>\n",
       "      <td>273.0</td>\n",
       "      <td>21.000000</td>\n",
       "      <td>391.989990</td>\n",
       "      <td>9.670000</td>\n",
       "      <td>22.400000</td>\n",
       "    </tr>\n",
       "    <tr>\n",
       "      <th>496</th>\n",
       "      <td>0.04527</td>\n",
       "      <td>0.0</td>\n",
       "      <td>11.93</td>\n",
       "      <td>0.0</td>\n",
       "      <td>0.573</td>\n",
       "      <td>6.120</td>\n",
       "      <td>76.699997</td>\n",
       "      <td>2.2875</td>\n",
       "      <td>1.0</td>\n",
       "      <td>273.0</td>\n",
       "      <td>21.000000</td>\n",
       "      <td>396.899994</td>\n",
       "      <td>9.080000</td>\n",
       "      <td>20.600000</td>\n",
       "    </tr>\n",
       "    <tr>\n",
       "      <th>497</th>\n",
       "      <td>0.06076</td>\n",
       "      <td>0.0</td>\n",
       "      <td>11.93</td>\n",
       "      <td>0.0</td>\n",
       "      <td>NaN</td>\n",
       "      <td>6.976</td>\n",
       "      <td>91.000000</td>\n",
       "      <td>2.1675</td>\n",
       "      <td>1.0</td>\n",
       "      <td>273.0</td>\n",
       "      <td>21.000000</td>\n",
       "      <td>396.899994</td>\n",
       "      <td>5.640000</td>\n",
       "      <td>23.900000</td>\n",
       "    </tr>\n",
       "    <tr>\n",
       "      <th>498</th>\n",
       "      <td>0.10959</td>\n",
       "      <td>0.0</td>\n",
       "      <td>11.93</td>\n",
       "      <td>0.0</td>\n",
       "      <td>0.573</td>\n",
       "      <td>6.794</td>\n",
       "      <td>89.300003</td>\n",
       "      <td>2.3889</td>\n",
       "      <td>1.0</td>\n",
       "      <td>273.0</td>\n",
       "      <td>21.000000</td>\n",
       "      <td>393.450012</td>\n",
       "      <td>6.480000</td>\n",
       "      <td>22.000000</td>\n",
       "    </tr>\n",
       "    <tr>\n",
       "      <th>499</th>\n",
       "      <td>0.04741</td>\n",
       "      <td>0.0</td>\n",
       "      <td>11.93</td>\n",
       "      <td>0.0</td>\n",
       "      <td>0.573</td>\n",
       "      <td>6.030</td>\n",
       "      <td>80.800003</td>\n",
       "      <td>2.5050</td>\n",
       "      <td>1.0</td>\n",
       "      <td>273.0</td>\n",
       "      <td>21.000000</td>\n",
       "      <td>396.899994</td>\n",
       "      <td>7.880000</td>\n",
       "      <td>11.900000</td>\n",
       "    </tr>\n",
       "  </tbody>\n",
       "</table>\n",
       "<p>500 rows × 14 columns</p>\n",
       "</div>"
      ],
      "text/plain": [
       "         CRIM    ZN  INDUS  CHAS    NOX     RM         AGE     DIS   RAD  \\\n",
       "0     0.00632  18.0   2.31   0.0  0.538  6.575   65.199997  4.0900   1.0   \n",
       "1     0.02731   0.0   7.07   0.0  0.469  6.421   78.900002  4.9671   2.0   \n",
       "2     0.02729   0.0   7.07   0.0  0.469  7.185   61.099998  4.9671   2.0   \n",
       "3     0.03237   NaN   2.18   0.0  0.458  6.998   45.799999  6.0622   3.0   \n",
       "4     0.06905   0.0   2.18   0.0  0.458  7.147   54.200001  6.0622   3.0   \n",
       "5     0.02985   0.0   2.18   0.0  0.458  6.430   58.700001  6.0622   3.0   \n",
       "6     0.08829  12.5   7.87   0.0  0.524  6.012   66.599998  5.5605   5.0   \n",
       "7     0.14455  12.5   7.87   0.0  0.524  6.172   96.099998  5.9505   5.0   \n",
       "8     0.21124  12.5   7.87   0.0  0.524  5.631  100.000000  6.0821   5.0   \n",
       "9     0.17004  12.5   7.87   0.0  0.524  6.004   85.900002  6.5921   5.0   \n",
       "10    0.22489  12.5   7.87   0.0  0.524  6.377   94.300003  6.3467   5.0   \n",
       "11    0.11747  12.5   7.87   0.0  0.524  6.009   82.900002  6.2267   5.0   \n",
       "12    0.09378  12.5   7.87   0.0  0.524  5.889   39.000000  5.4509   5.0   \n",
       "13    0.62976   0.0   8.14   0.0  0.538  5.949   61.799999  4.7075   4.0   \n",
       "14    0.63796   0.0   8.14   0.0  0.538  6.096   84.500000  4.4619   4.0   \n",
       "15    0.62739   0.0   8.14   0.0  0.538  5.834   56.500000  4.4986   4.0   \n",
       "16    1.05393   0.0   8.14   0.0  0.538  5.935   29.299999  4.4986   4.0   \n",
       "17    0.78420   0.0   8.14   0.0  0.538  5.990   81.699997  4.2579   4.0   \n",
       "18    0.80271   0.0   8.14   0.0  0.538  5.456   36.599998  3.7965   4.0   \n",
       "19    0.72580   0.0   8.14   0.0  0.538  5.727   69.500000  3.7965   4.0   \n",
       "20    1.25179   0.0   8.14   0.0  0.538  5.570   98.099998  3.7979   4.0   \n",
       "21    0.85204   0.0   8.14   0.0  0.538  5.965   89.199997  4.0123   4.0   \n",
       "22    1.23247   0.0   8.14   0.0  0.538  6.142   91.699997  3.9769   4.0   \n",
       "23    0.98843   0.0   8.14   0.0  0.538  5.813  100.000000  4.0952   4.0   \n",
       "24    0.75026   0.0   8.14   0.0  0.538  5.924   94.099998  4.3996   4.0   \n",
       "25    0.84054   0.0   8.14   0.0  0.538  5.599   85.699997  4.4546   4.0   \n",
       "26    0.67191   0.0   8.14   0.0  0.538  5.813   90.300003  4.6820   4.0   \n",
       "27    0.95577   0.0   8.14   0.0  0.538  6.047   88.800003  4.4534   4.0   \n",
       "28    0.77299   0.0   8.14   0.0  0.538  6.495   94.400002  4.4547   4.0   \n",
       "29    1.00245   0.0   8.14   0.0  0.538  6.674   87.300003  4.2390   4.0   \n",
       "..        ...   ...    ...   ...    ...    ...         ...     ...   ...   \n",
       "470   6.39312   0.0  18.10   0.0  0.584  6.162   97.400002  2.2060  24.0   \n",
       "471   4.87141   0.0  18.10   0.0  0.614  6.484   93.599998  2.3053  24.0   \n",
       "472  15.02340   0.0  18.10   0.0  0.614  5.304   97.300003  2.1007  24.0   \n",
       "473  10.23300   0.0  18.10   0.0  0.614  6.185   96.699997  2.1705  24.0   \n",
       "474  14.33370   0.0  18.10   0.0  0.614  6.229   88.000000  1.9512  24.0   \n",
       "475   5.82401   0.0  18.10   0.0  0.532  6.242   64.699997  3.4242  24.0   \n",
       "476   5.73116   0.0  18.10   0.0  0.532  7.061   77.000000  3.4106   NaN   \n",
       "477   2.81838   0.0  18.10   0.0  0.532  5.762   40.299999  4.0983  24.0   \n",
       "478   2.37857   0.0  18.10   0.0  0.583  5.871   41.900002  3.7240  24.0   \n",
       "479   3.67367   0.0  18.10   0.0  0.583  6.312   51.900002  3.9917  24.0   \n",
       "480   5.69175   0.0  18.10   0.0  0.583  6.114   79.800003  3.5459  24.0   \n",
       "481   4.83567   0.0  18.10   0.0  0.583  5.905   53.200001  3.1523  24.0   \n",
       "482   0.15086   0.0  27.74   0.0  0.609  5.454   92.699997  1.8209   4.0   \n",
       "483   0.18337   0.0  27.74   0.0  0.609  5.414   98.300003  1.7554   4.0   \n",
       "484   0.20746   0.0  27.74   0.0  0.609  5.093   98.000000  1.8226   4.0   \n",
       "485   0.10574   0.0  27.74   0.0  0.609  5.983   98.800003  1.8681   4.0   \n",
       "486   0.11132   0.0  27.74   0.0  0.609  5.983   83.500000  2.1099   4.0   \n",
       "487       NaN   0.0   9.69   0.0  0.585  5.707   54.000000  2.3817   6.0   \n",
       "488   0.27957   0.0   9.69   0.0  0.585  5.926   42.599998  2.3817   6.0   \n",
       "489   0.17899   0.0   9.69   0.0  0.585  5.670   28.799999  2.7986   6.0   \n",
       "490   0.28960   0.0   9.69   0.0  0.585  5.390   72.900002  2.7986   6.0   \n",
       "491   0.26838   0.0   9.69   0.0  0.585  5.794   70.599998  2.8927   6.0   \n",
       "492   0.23912   0.0   9.69   0.0  0.585  6.019   65.300003  2.4091   6.0   \n",
       "493   0.17783   0.0   9.69   0.0  0.585  5.569   73.500000  2.3999   6.0   \n",
       "494   0.22438   0.0   9.69   0.0  0.585  6.027   79.699997  2.4982   6.0   \n",
       "495   0.06263   0.0  11.93   0.0  0.573  6.593   69.099998  2.4786   1.0   \n",
       "496   0.04527   0.0  11.93   0.0  0.573  6.120   76.699997  2.2875   1.0   \n",
       "497   0.06076   0.0  11.93   0.0    NaN  6.976   91.000000  2.1675   1.0   \n",
       "498   0.10959   0.0  11.93   0.0  0.573  6.794   89.300003  2.3889   1.0   \n",
       "499   0.04741   0.0  11.93   0.0  0.573  6.030   80.800003  2.5050   1.0   \n",
       "\n",
       "       TAX         PT           B      LSTAT         MV  \n",
       "0    296.0  15.300000         NaN   4.980000  24.000000  \n",
       "1    242.0  17.799999  396.899994   9.140000  21.600000  \n",
       "2    242.0  17.799999  392.829987   4.030000  34.700001  \n",
       "3    222.0  18.700001  394.630005   2.940000  33.400002  \n",
       "4    222.0  18.700001  396.899994   5.330000  36.200001  \n",
       "5    222.0  18.700001  394.119995   5.210000  28.700001  \n",
       "6    311.0  15.200000  395.600006  12.430000  22.900000  \n",
       "7    311.0  15.200000  396.899994  19.150000  27.100000  \n",
       "8    311.0  15.200000  386.630005        NaN  16.500000  \n",
       "9    311.0  15.200000  386.709992  17.100000  18.900000  \n",
       "10   311.0  15.200000  392.519989  20.450001  15.000000  \n",
       "11   311.0  15.200000  396.899994  13.270000  18.900000  \n",
       "12   311.0  15.200000  390.500000  15.710000  21.700001  \n",
       "13   307.0  21.000000  396.899994   8.260000  20.400000  \n",
       "14   307.0  21.000000  380.019989  10.260000  18.200001  \n",
       "15   307.0  21.000000  395.619995   8.470000  19.900000  \n",
       "16   307.0  21.000000  386.850006        NaN  23.100000  \n",
       "17   307.0  21.000000  386.750000  14.670000  17.500000  \n",
       "18   307.0  21.000000  288.989990  11.690000  20.200001  \n",
       "19   307.0  21.000000  390.950012  11.280000  18.200001  \n",
       "20   307.0  21.000000  376.570007  21.020000  13.600000  \n",
       "21   307.0  21.000000  392.529999  13.830000  19.600000  \n",
       "22   307.0  21.000000  396.899994  18.719999  15.200000  \n",
       "23   307.0  21.000000  394.540008  19.879999  14.500000  \n",
       "24   307.0  21.000000  394.329987  16.299999  15.600000  \n",
       "25   307.0  21.000000  303.420013  16.510000  13.900000  \n",
       "26   307.0  21.000000  376.880005  14.810000  16.600000  \n",
       "27   307.0  21.000000  306.380005  17.280001  14.800000  \n",
       "28   307.0  21.000000  387.940002  12.800000  18.400000  \n",
       "29   307.0  21.000000  380.230011  11.980000  21.000000  \n",
       "..     ...        ...         ...        ...        ...  \n",
       "470  666.0  20.200001  302.760010  24.100000  13.300000  \n",
       "471  666.0  20.200001  396.209992  18.680000  16.700001  \n",
       "472  666.0  20.200001  349.480011  24.910000  12.000000  \n",
       "473  666.0  20.200001  379.700012        NaN  14.600000  \n",
       "474  666.0  20.200001  383.320007  13.110000  21.400000  \n",
       "475  666.0  20.200001  396.899994  10.740000  23.000000  \n",
       "476  666.0  20.200001  395.279999   7.010000  25.000000  \n",
       "477  666.0  20.200001  392.920013  10.420000  21.799999  \n",
       "478  666.0  20.200001  370.730011  13.340000  20.600000  \n",
       "479  666.0  20.200001  388.619995  10.580000  21.200001  \n",
       "480  666.0  20.200001  392.679993  14.980000  19.100000  \n",
       "481  666.0  20.200001  388.220001  11.450000  20.600000  \n",
       "482  711.0  20.100000  395.089996  18.059999  15.200000  \n",
       "483  711.0  20.100000  344.049988  23.969999   7.000000  \n",
       "484  711.0  20.100000  318.429993  29.680000   8.100000  \n",
       "485  711.0  20.100000  390.109985  18.070000  13.600000  \n",
       "486  711.0  20.100000  396.899994  13.350000  20.100000  \n",
       "487  391.0  19.200001  396.899994  12.010000  21.799999  \n",
       "488  391.0  19.200001  396.899994  13.590000  24.500000  \n",
       "489  391.0  19.200001  393.290008  17.600000  23.100000  \n",
       "490  391.0  19.200001  396.899994  21.139999  19.700001  \n",
       "491  391.0  19.200001  396.899994  14.100000  18.299999  \n",
       "492  391.0  19.200001  396.899994  12.920000  21.200001  \n",
       "493  391.0  19.200001  395.769989  15.100000  17.500000  \n",
       "494  391.0  19.200001  396.899994  14.330000  16.799999  \n",
       "495  273.0  21.000000  391.989990   9.670000  22.400000  \n",
       "496  273.0  21.000000  396.899994   9.080000  20.600000  \n",
       "497  273.0  21.000000  396.899994   5.640000  23.900000  \n",
       "498  273.0  21.000000  393.450012   6.480000  22.000000  \n",
       "499  273.0  21.000000  396.899994   7.880000  11.900000  \n",
       "\n",
       "[500 rows x 14 columns]"
      ]
     },
     "execution_count": 24,
     "metadata": {},
     "output_type": "execute_result"
    }
   ],
   "source": [
    "data[data['MV']>0.263965+1.5*(0.263965+0.594930)]"
   ]
  },
  {
   "cell_type": "code",
   "execution_count": 25,
   "metadata": {},
   "outputs": [],
   "source": [
    "def outlier_capping(x):\n",
    "    \"\"\"A funtion to remove and replace the outliers for numerical columns\"\"\"\n",
    "    x = x.clip_upper(x.median)\n",
    "    \n",
    "    return(x)"
   ]
  },
  {
   "cell_type": "code",
   "execution_count": 44,
   "metadata": {},
   "outputs": [
    {
     "ename": "TypeError",
     "evalue": "(\"Could not operate <bound method DataFrame.median of          CRIM    ZN  INDUS  CHAS    NOX     RM         AGE     DIS   RAD  \\\\\\n0     0.00632  18.0   2.31   0.0  0.538  6.575   65.199997  4.0900   1.0   \\n1     0.02731   0.0   7.07   0.0  0.469  6.421   78.900002  4.9671   2.0   \\n2     0.02729   0.0   7.07   0.0  0.469  7.185   61.099998  4.9671   2.0   \\n3     0.03237   NaN   2.18   0.0  0.458  6.998   45.799999  6.0622   3.0   \\n4     0.06905   0.0   2.18   0.0  0.458  7.147   54.200001  6.0622   3.0   \\n5     0.02985   0.0   2.18   0.0  0.458  6.430   58.700001  6.0622   3.0   \\n6     0.08829  12.5   7.87   0.0  0.524  6.012   66.599998  5.5605   5.0   \\n7     0.14455  12.5   7.87   0.0  0.524  6.172   96.099998  5.9505   5.0   \\n8     0.21124  12.5   7.87   0.0  0.524  5.631  100.000000  6.0821   5.0   \\n9     0.17004  12.5   7.87   0.0  0.524  6.004   85.900002  6.5921   5.0   \\n10    0.22489  12.5   7.87   0.0  0.524  6.377   94.300003  6.3467   5.0   \\n11    0.11747  12.5   7.87   0.0  0.524  6.009   82.900002  6.2267   5.0   \\n12    0.09378  12.5   7.87   0.0  0.524  5.889   39.000000  5.4509   5.0   \\n13    0.62976   0.0   8.14   0.0  0.538  5.949   61.799999  4.7075   4.0   \\n14    0.63796   0.0   8.14   0.0  0.538  6.096   84.500000  4.4619   4.0   \\n15    0.62739   0.0   8.14   0.0  0.538  5.834   56.500000  4.4986   4.0   \\n16    1.05393   0.0   8.14   0.0  0.538  5.935   29.299999  4.4986   4.0   \\n17    0.78420   0.0   8.14   0.0  0.538  5.990   81.699997  4.2579   4.0   \\n18    0.80271   0.0   8.14   0.0  0.538  5.456   36.599998  3.7965   4.0   \\n19    0.72580   0.0   8.14   0.0  0.538  5.727   69.500000  3.7965   4.0   \\n20    1.25179   0.0   8.14   0.0  0.538  5.570   98.099998  3.7979   4.0   \\n21    0.85204   0.0   8.14   0.0  0.538  5.965   89.199997  4.0123   4.0   \\n22    1.23247   0.0   8.14   0.0  0.538  6.142   91.699997  3.9769   4.0   \\n23    0.98843   0.0   8.14   0.0  0.538  5.813  100.000000  4.0952   4.0   \\n24    0.75026   0.0   8.14   0.0  0.538  5.924   94.099998  4.3996   4.0   \\n25    0.84054   0.0   8.14   0.0  0.538  5.599   85.699997  4.4546   4.0   \\n26    0.67191   0.0   8.14   0.0  0.538  5.813   90.300003  4.6820   4.0   \\n27    0.95577   0.0   8.14   0.0  0.538  6.047   88.800003  4.4534   4.0   \\n28    0.77299   0.0   8.14   0.0  0.538  6.495   94.400002  4.4547   4.0   \\n29    1.00245   0.0   8.14   0.0  0.538  6.674   87.300003  4.2390   4.0   \\n..        ...   ...    ...   ...    ...    ...         ...     ...   ...   \\n470   6.39312   0.0  18.10   0.0  0.584  6.162   97.400002  2.2060  24.0   \\n471   4.87141   0.0  18.10   0.0  0.614  6.484   93.599998  2.3053  24.0   \\n472  15.02340   0.0  18.10   0.0  0.614  5.304   97.300003  2.1007  24.0   \\n473  10.23300   0.0  18.10   0.0  0.614  6.185   96.699997  2.1705  24.0   \\n474  14.33370   0.0  18.10   0.0  0.614  6.229   88.000000  1.9512  24.0   \\n475   5.82401   0.0  18.10   0.0  0.532  6.242   64.699997  3.4242  24.0   \\n476   5.73116   0.0  18.10   0.0  0.532  7.061   77.000000  3.4106   NaN   \\n477   2.81838   0.0  18.10   0.0  0.532  5.762   40.299999  4.0983  24.0   \\n478   2.37857   0.0  18.10   0.0  0.583  5.871   41.900002  3.7240  24.0   \\n479   3.67367   0.0  18.10   0.0  0.583  6.312   51.900002  3.9917  24.0   \\n480   5.69175   0.0  18.10   0.0  0.583  6.114   79.800003  3.5459  24.0   \\n481   4.83567   0.0  18.10   0.0  0.583  5.905   53.200001  3.1523  24.0   \\n482   0.15086   0.0  27.74   0.0  0.609  5.454   92.699997  1.8209   4.0   \\n483   0.18337   0.0  27.74   0.0  0.609  5.414   98.300003  1.7554   4.0   \\n484   0.20746   0.0  27.74   0.0  0.609  5.093   98.000000  1.8226   4.0   \\n485   0.10574   0.0  27.74   0.0  0.609  5.983   98.800003  1.8681   4.0   \\n486   0.11132   0.0  27.74   0.0  0.609  5.983   83.500000  2.1099   4.0   \\n487       NaN   0.0   9.69   0.0  0.585  5.707   54.000000  2.3817   6.0   \\n488   0.27957   0.0   9.69   0.0  0.585  5.926   42.599998  2.3817   6.0   \\n489   0.17899   0.0   9.69   0.0  0.585  5.670   28.799999  2.7986   6.0   \\n490   0.28960   0.0   9.69   0.0  0.585  5.390   72.900002  2.7986   6.0   \\n491   0.26838   0.0   9.69   0.0  0.585  5.794   70.599998  2.8927   6.0   \\n492   0.23912   0.0   9.69   0.0  0.585  6.019   65.300003  2.4091   6.0   \\n493   0.17783   0.0   9.69   0.0  0.585  5.569   73.500000  2.3999   6.0   \\n494   0.22438   0.0   9.69   0.0  0.585  6.027   79.699997  2.4982   6.0   \\n495   0.06263   0.0  11.93   0.0  0.573  6.593   69.099998  2.4786   1.0   \\n496   0.04527   0.0  11.93   0.0  0.573  6.120   76.699997  2.2875   1.0   \\n497   0.06076   0.0  11.93   0.0    NaN  6.976   91.000000  2.1675   1.0   \\n498   0.10959   0.0  11.93   0.0  0.573  6.794   89.300003  2.3889   1.0   \\n499   0.04741   0.0  11.93   0.0  0.573  6.030   80.800003  2.5050   1.0   \\n\\n       TAX         PT           B      LSTAT         MV  \\n0    296.0  15.300000         NaN   4.980000  24.000000  \\n1    242.0  17.799999  396.899994   9.140000  21.600000  \\n2    242.0  17.799999  392.829987   4.030000  34.700001  \\n3    222.0  18.700001  394.630005   2.940000  33.400002  \\n4    222.0  18.700001  396.899994   5.330000  36.200001  \\n5    222.0  18.700001  394.119995   5.210000  28.700001  \\n6    311.0  15.200000  395.600006  12.430000  22.900000  \\n7    311.0  15.200000  396.899994  19.150000  27.100000  \\n8    311.0  15.200000  386.630005        NaN  16.500000  \\n9    311.0  15.200000  386.709992  17.100000  18.900000  \\n10   311.0  15.200000  392.519989  20.450001  15.000000  \\n11   311.0  15.200000  396.899994  13.270000  18.900000  \\n12   311.0  15.200000  390.500000  15.710000  21.700001  \\n13   307.0  21.000000  396.899994   8.260000  20.400000  \\n14   307.0  21.000000  380.019989  10.260000  18.200001  \\n15   307.0  21.000000  395.619995   8.470000  19.900000  \\n16   307.0  21.000000  386.850006        NaN  23.100000  \\n17   307.0  21.000000  386.750000  14.670000  17.500000  \\n18   307.0  21.000000  288.989990  11.690000  20.200001  \\n19   307.0  21.000000  390.950012  11.280000  18.200001  \\n20   307.0  21.000000  376.570007  21.020000  13.600000  \\n21   307.0  21.000000  392.529999  13.830000  19.600000  \\n22   307.0  21.000000  396.899994  18.719999  15.200000  \\n23   307.0  21.000000  394.540008  19.879999  14.500000  \\n24   307.0  21.000000  394.329987  16.299999  15.600000  \\n25   307.0  21.000000  303.420013  16.510000  13.900000  \\n26   307.0  21.000000  376.880005  14.810000  16.600000  \\n27   307.0  21.000000  306.380005  17.280001  14.800000  \\n28   307.0  21.000000  387.940002  12.800000  18.400000  \\n29   307.0  21.000000  380.230011  11.980000  21.000000  \\n..     ...        ...         ...        ...        ...  \\n470  666.0  20.200001  302.760010  24.100000  13.300000  \\n471  666.0  20.200001  396.209992  18.680000  16.700001  \\n472  666.0  20.200001  349.480011  24.910000  12.000000  \\n473  666.0  20.200001  379.700012        NaN  14.600000  \\n474  666.0  20.200001  383.320007  13.110000  21.400000  \\n475  666.0  20.200001  396.899994  10.740000  23.000000  \\n476  666.0  20.200001  395.279999   7.010000  25.000000  \\n477  666.0  20.200001  392.920013  10.420000  21.799999  \\n478  666.0  20.200001  370.730011  13.340000  20.600000  \\n479  666.0  20.200001  388.619995  10.580000  21.200001  \\n480  666.0  20.200001  392.679993  14.980000  19.100000  \\n481  666.0  20.200001  388.220001  11.450000  20.600000  \\n482  711.0  20.100000  395.089996  18.059999  15.200000  \\n483  711.0  20.100000  344.049988  23.969999   7.000000  \\n484  711.0  20.100000  318.429993  29.680000   8.100000  \\n485  711.0  20.100000  390.109985  18.070000  13.600000  \\n486  711.0  20.100000  396.899994  13.350000  20.100000  \\n487  391.0  19.200001  396.899994  12.010000  21.799999  \\n488  391.0  19.200001  396.899994  13.590000  24.500000  \\n489  391.0  19.200001  393.290008  17.600000  23.100000  \\n490  391.0  19.200001  396.899994  21.139999  19.700001  \\n491  391.0  19.200001  396.899994  14.100000  18.299999  \\n492  391.0  19.200001  396.899994  12.920000  21.200001  \\n493  391.0  19.200001  395.769989  15.100000  17.500000  \\n494  391.0  19.200001  396.899994  14.330000  16.799999  \\n495  273.0  21.000000  391.989990   9.670000  22.400000  \\n496  273.0  21.000000  396.899994   9.080000  20.600000  \\n497  273.0  21.000000  396.899994   5.640000  23.900000  \\n498  273.0  21.000000  393.450012   6.480000  22.000000  \\n499  273.0  21.000000  396.899994   7.880000  11.900000  \\n\\n[500 rows x 14 columns]> with block values '<=' not supported between instances of 'float' and 'method'\", 'occurred at index CRIM')",
     "output_type": "error",
     "traceback": [
      "\u001b[0;31m---------------------------------------------------------------------------\u001b[0m",
      "\u001b[0;31mTypeError\u001b[0m                                 Traceback (most recent call last)",
      "\u001b[0;32m~/anaconda3/lib/python3.7/site-packages/pandas/core/internals.py\u001b[0m in \u001b[0;36meval\u001b[0;34m(self, func, other, errors, try_cast, mgr)\u001b[0m\n\u001b[1;32m   1354\u001b[0m             values, values_mask, other, other_mask = self._try_coerce_args(\n\u001b[0;32m-> 1355\u001b[0;31m                 transf(values), other)\n\u001b[0m\u001b[1;32m   1356\u001b[0m         \u001b[0;32mexcept\u001b[0m \u001b[0mTypeError\u001b[0m\u001b[0;34m:\u001b[0m\u001b[0;34m\u001b[0m\u001b[0;34m\u001b[0m\u001b[0m\n",
      "\u001b[0;32m~/anaconda3/lib/python3.7/site-packages/pandas/core/internals.py\u001b[0m in \u001b[0;36m_try_coerce_args\u001b[0;34m(self, values, other)\u001b[0m\n\u001b[1;32m    741\u001b[0m                 \u001b[0mtype\u001b[0m\u001b[0;34m(\u001b[0m\u001b[0mother\u001b[0m\u001b[0;34m)\u001b[0m\u001b[0;34m.\u001b[0m\u001b[0m__name__\u001b[0m\u001b[0;34m,\u001b[0m\u001b[0;34m\u001b[0m\u001b[0;34m\u001b[0m\u001b[0m\n\u001b[0;32m--> 742\u001b[0;31m                 type(self).__name__.lower().replace('Block', '')))\n\u001b[0m\u001b[1;32m    743\u001b[0m \u001b[0;34m\u001b[0m\u001b[0m\n",
      "\u001b[0;31mTypeError\u001b[0m: cannot convert method to an floatblock",
      "\nDuring handling of the above exception, another exception occurred:\n",
      "\u001b[0;31mTypeError\u001b[0m                                 Traceback (most recent call last)",
      "\u001b[0;32m~/anaconda3/lib/python3.7/site-packages/pandas/core/ops.py\u001b[0m in \u001b[0;36mna_op\u001b[0;34m(x, y)\u001b[0m\n\u001b[1;32m   1573\u001b[0m             \u001b[0;32mwith\u001b[0m \u001b[0mnp\u001b[0m\u001b[0;34m.\u001b[0m\u001b[0merrstate\u001b[0m\u001b[0;34m(\u001b[0m\u001b[0minvalid\u001b[0m\u001b[0;34m=\u001b[0m\u001b[0;34m'ignore'\u001b[0m\u001b[0;34m)\u001b[0m\u001b[0;34m:\u001b[0m\u001b[0;34m\u001b[0m\u001b[0;34m\u001b[0m\u001b[0m\n\u001b[0;32m-> 1574\u001b[0;31m                 \u001b[0mresult\u001b[0m \u001b[0;34m=\u001b[0m \u001b[0mop\u001b[0m\u001b[0;34m(\u001b[0m\u001b[0mx\u001b[0m\u001b[0;34m,\u001b[0m \u001b[0my\u001b[0m\u001b[0;34m)\u001b[0m\u001b[0;34m\u001b[0m\u001b[0;34m\u001b[0m\u001b[0m\n\u001b[0m\u001b[1;32m   1575\u001b[0m         \u001b[0;32mexcept\u001b[0m \u001b[0mTypeError\u001b[0m\u001b[0;34m:\u001b[0m\u001b[0;34m\u001b[0m\u001b[0;34m\u001b[0m\u001b[0m\n",
      "\u001b[0;31mTypeError\u001b[0m: '<=' not supported between instances of 'float' and 'method'",
      "\nDuring handling of the above exception, another exception occurred:\n",
      "\u001b[0;31mTypeError\u001b[0m                                 Traceback (most recent call last)",
      "\u001b[0;32m~/anaconda3/lib/python3.7/site-packages/pandas/core/internals.py\u001b[0m in \u001b[0;36meval\u001b[0;34m(self, func, other, errors, try_cast, mgr)\u001b[0m\n\u001b[1;32m   1414\u001b[0m             \u001b[0;32mwith\u001b[0m \u001b[0mnp\u001b[0m\u001b[0;34m.\u001b[0m\u001b[0merrstate\u001b[0m\u001b[0;34m(\u001b[0m\u001b[0mall\u001b[0m\u001b[0;34m=\u001b[0m\u001b[0;34m'ignore'\u001b[0m\u001b[0;34m)\u001b[0m\u001b[0;34m:\u001b[0m\u001b[0;34m\u001b[0m\u001b[0;34m\u001b[0m\u001b[0m\n\u001b[0;32m-> 1415\u001b[0;31m                 \u001b[0mresult\u001b[0m \u001b[0;34m=\u001b[0m \u001b[0mget_result\u001b[0m\u001b[0;34m(\u001b[0m\u001b[0mother\u001b[0m\u001b[0;34m)\u001b[0m\u001b[0;34m\u001b[0m\u001b[0;34m\u001b[0m\u001b[0m\n\u001b[0m\u001b[1;32m   1416\u001b[0m \u001b[0;34m\u001b[0m\u001b[0m\n",
      "\u001b[0;32m~/anaconda3/lib/python3.7/site-packages/pandas/core/internals.py\u001b[0m in \u001b[0;36mget_result\u001b[0;34m(other)\u001b[0m\n\u001b[1;32m   1382\u001b[0m             \u001b[0;32melse\u001b[0m\u001b[0;34m:\u001b[0m\u001b[0;34m\u001b[0m\u001b[0;34m\u001b[0m\u001b[0m\n\u001b[0;32m-> 1383\u001b[0;31m                 \u001b[0mresult\u001b[0m \u001b[0;34m=\u001b[0m \u001b[0mfunc\u001b[0m\u001b[0;34m(\u001b[0m\u001b[0mvalues\u001b[0m\u001b[0;34m,\u001b[0m \u001b[0mother\u001b[0m\u001b[0;34m)\u001b[0m\u001b[0;34m\u001b[0m\u001b[0;34m\u001b[0m\u001b[0m\n\u001b[0m\u001b[1;32m   1384\u001b[0m \u001b[0;34m\u001b[0m\u001b[0m\n",
      "\u001b[0;32m~/anaconda3/lib/python3.7/site-packages/pandas/core/ops.py\u001b[0m in \u001b[0;36mna_op\u001b[0;34m(x, y)\u001b[0m\n\u001b[1;32m   1575\u001b[0m         \u001b[0;32mexcept\u001b[0m \u001b[0mTypeError\u001b[0m\u001b[0;34m:\u001b[0m\u001b[0;34m\u001b[0m\u001b[0;34m\u001b[0m\u001b[0m\n\u001b[0;32m-> 1576\u001b[0;31m             \u001b[0mresult\u001b[0m \u001b[0;34m=\u001b[0m \u001b[0mmask_cmp_op\u001b[0m\u001b[0;34m(\u001b[0m\u001b[0mx\u001b[0m\u001b[0;34m,\u001b[0m \u001b[0my\u001b[0m\u001b[0;34m,\u001b[0m \u001b[0mop\u001b[0m\u001b[0;34m,\u001b[0m \u001b[0;34m(\u001b[0m\u001b[0mnp\u001b[0m\u001b[0;34m.\u001b[0m\u001b[0mndarray\u001b[0m\u001b[0;34m,\u001b[0m \u001b[0mABCSeries\u001b[0m\u001b[0;34m)\u001b[0m\u001b[0;34m)\u001b[0m\u001b[0;34m\u001b[0m\u001b[0;34m\u001b[0m\u001b[0m\n\u001b[0m\u001b[1;32m   1577\u001b[0m         \u001b[0;32mreturn\u001b[0m \u001b[0mresult\u001b[0m\u001b[0;34m\u001b[0m\u001b[0;34m\u001b[0m\u001b[0m\n",
      "\u001b[0;32m~/anaconda3/lib/python3.7/site-packages/pandas/core/ops.py\u001b[0m in \u001b[0;36mmask_cmp_op\u001b[0;34m(x, y, op, allowed_types)\u001b[0m\n\u001b[1;32m    726\u001b[0m         \u001b[0mmask\u001b[0m \u001b[0;34m=\u001b[0m \u001b[0mnotna\u001b[0m\u001b[0;34m(\u001b[0m\u001b[0mxrav\u001b[0m\u001b[0;34m)\u001b[0m\u001b[0;34m\u001b[0m\u001b[0;34m\u001b[0m\u001b[0m\n\u001b[0;32m--> 727\u001b[0;31m         \u001b[0mresult\u001b[0m\u001b[0;34m[\u001b[0m\u001b[0mmask\u001b[0m\u001b[0;34m]\u001b[0m \u001b[0;34m=\u001b[0m \u001b[0mop\u001b[0m\u001b[0;34m(\u001b[0m\u001b[0mnp\u001b[0m\u001b[0;34m.\u001b[0m\u001b[0marray\u001b[0m\u001b[0;34m(\u001b[0m\u001b[0mlist\u001b[0m\u001b[0;34m(\u001b[0m\u001b[0mxrav\u001b[0m\u001b[0;34m[\u001b[0m\u001b[0mmask\u001b[0m\u001b[0;34m]\u001b[0m\u001b[0;34m)\u001b[0m\u001b[0;34m)\u001b[0m\u001b[0;34m,\u001b[0m \u001b[0my\u001b[0m\u001b[0;34m)\u001b[0m\u001b[0;34m\u001b[0m\u001b[0;34m\u001b[0m\u001b[0m\n\u001b[0m\u001b[1;32m    728\u001b[0m \u001b[0;34m\u001b[0m\u001b[0m\n",
      "\u001b[0;31mTypeError\u001b[0m: '<=' not supported between instances of 'float' and 'method'",
      "\nDuring handling of the above exception, another exception occurred:\n",
      "\u001b[0;31mTypeError\u001b[0m                                 Traceback (most recent call last)",
      "\u001b[0;32m<ipython-input-44-a37d8af31035>\u001b[0m in \u001b[0;36m<module>\u001b[0;34m\u001b[0m\n\u001b[0;32m----> 1\u001b[0;31m \u001b[0mdata\u001b[0m \u001b[0;34m=\u001b[0m \u001b[0mdata\u001b[0m\u001b[0;34m.\u001b[0m\u001b[0mapply\u001b[0m\u001b[0;34m(\u001b[0m\u001b[0;32mlambda\u001b[0m \u001b[0mx\u001b[0m\u001b[0;34m:\u001b[0m \u001b[0moutlier_capping\u001b[0m\u001b[0;34m(\u001b[0m\u001b[0mdata\u001b[0m\u001b[0;34m)\u001b[0m\u001b[0;34m)\u001b[0m\u001b[0;34m\u001b[0m\u001b[0;34m\u001b[0m\u001b[0m\n\u001b[0m",
      "\u001b[0;32m~/anaconda3/lib/python3.7/site-packages/pandas/core/frame.py\u001b[0m in \u001b[0;36mapply\u001b[0;34m(self, func, axis, broadcast, raw, reduce, result_type, args, **kwds)\u001b[0m\n\u001b[1;32m   6012\u001b[0m                          \u001b[0margs\u001b[0m\u001b[0;34m=\u001b[0m\u001b[0margs\u001b[0m\u001b[0;34m,\u001b[0m\u001b[0;34m\u001b[0m\u001b[0;34m\u001b[0m\u001b[0m\n\u001b[1;32m   6013\u001b[0m                          kwds=kwds)\n\u001b[0;32m-> 6014\u001b[0;31m         \u001b[0;32mreturn\u001b[0m \u001b[0mop\u001b[0m\u001b[0;34m.\u001b[0m\u001b[0mget_result\u001b[0m\u001b[0;34m(\u001b[0m\u001b[0;34m)\u001b[0m\u001b[0;34m\u001b[0m\u001b[0;34m\u001b[0m\u001b[0m\n\u001b[0m\u001b[1;32m   6015\u001b[0m \u001b[0;34m\u001b[0m\u001b[0m\n\u001b[1;32m   6016\u001b[0m     \u001b[0;32mdef\u001b[0m \u001b[0mapplymap\u001b[0m\u001b[0;34m(\u001b[0m\u001b[0mself\u001b[0m\u001b[0;34m,\u001b[0m \u001b[0mfunc\u001b[0m\u001b[0;34m)\u001b[0m\u001b[0;34m:\u001b[0m\u001b[0;34m\u001b[0m\u001b[0;34m\u001b[0m\u001b[0m\n",
      "\u001b[0;32m~/anaconda3/lib/python3.7/site-packages/pandas/core/apply.py\u001b[0m in \u001b[0;36mget_result\u001b[0;34m(self)\u001b[0m\n\u001b[1;32m    316\u001b[0m                                       *self.args, **self.kwds)\n\u001b[1;32m    317\u001b[0m \u001b[0;34m\u001b[0m\u001b[0m\n\u001b[0;32m--> 318\u001b[0;31m         \u001b[0;32mreturn\u001b[0m \u001b[0msuper\u001b[0m\u001b[0;34m(\u001b[0m\u001b[0mFrameRowApply\u001b[0m\u001b[0;34m,\u001b[0m \u001b[0mself\u001b[0m\u001b[0;34m)\u001b[0m\u001b[0;34m.\u001b[0m\u001b[0mget_result\u001b[0m\u001b[0;34m(\u001b[0m\u001b[0;34m)\u001b[0m\u001b[0;34m\u001b[0m\u001b[0;34m\u001b[0m\u001b[0m\n\u001b[0m\u001b[1;32m    319\u001b[0m \u001b[0;34m\u001b[0m\u001b[0m\n\u001b[1;32m    320\u001b[0m     \u001b[0;32mdef\u001b[0m \u001b[0mapply_broadcast\u001b[0m\u001b[0;34m(\u001b[0m\u001b[0mself\u001b[0m\u001b[0;34m)\u001b[0m\u001b[0;34m:\u001b[0m\u001b[0;34m\u001b[0m\u001b[0;34m\u001b[0m\u001b[0m\n",
      "\u001b[0;32m~/anaconda3/lib/python3.7/site-packages/pandas/core/apply.py\u001b[0m in \u001b[0;36mget_result\u001b[0;34m(self)\u001b[0m\n\u001b[1;32m    140\u001b[0m             \u001b[0;32mreturn\u001b[0m \u001b[0mself\u001b[0m\u001b[0;34m.\u001b[0m\u001b[0mapply_raw\u001b[0m\u001b[0;34m(\u001b[0m\u001b[0;34m)\u001b[0m\u001b[0;34m\u001b[0m\u001b[0;34m\u001b[0m\u001b[0m\n\u001b[1;32m    141\u001b[0m \u001b[0;34m\u001b[0m\u001b[0m\n\u001b[0;32m--> 142\u001b[0;31m         \u001b[0;32mreturn\u001b[0m \u001b[0mself\u001b[0m\u001b[0;34m.\u001b[0m\u001b[0mapply_standard\u001b[0m\u001b[0;34m(\u001b[0m\u001b[0;34m)\u001b[0m\u001b[0;34m\u001b[0m\u001b[0;34m\u001b[0m\u001b[0m\n\u001b[0m\u001b[1;32m    143\u001b[0m \u001b[0;34m\u001b[0m\u001b[0m\n\u001b[1;32m    144\u001b[0m     \u001b[0;32mdef\u001b[0m \u001b[0mapply_empty_result\u001b[0m\u001b[0;34m(\u001b[0m\u001b[0mself\u001b[0m\u001b[0;34m)\u001b[0m\u001b[0;34m:\u001b[0m\u001b[0;34m\u001b[0m\u001b[0;34m\u001b[0m\u001b[0m\n",
      "\u001b[0;32m~/anaconda3/lib/python3.7/site-packages/pandas/core/apply.py\u001b[0m in \u001b[0;36mapply_standard\u001b[0;34m(self)\u001b[0m\n\u001b[1;32m    246\u001b[0m \u001b[0;34m\u001b[0m\u001b[0m\n\u001b[1;32m    247\u001b[0m         \u001b[0;31m# compute the result using the series generator\u001b[0m\u001b[0;34m\u001b[0m\u001b[0;34m\u001b[0m\u001b[0;34m\u001b[0m\u001b[0m\n\u001b[0;32m--> 248\u001b[0;31m         \u001b[0mself\u001b[0m\u001b[0;34m.\u001b[0m\u001b[0mapply_series_generator\u001b[0m\u001b[0;34m(\u001b[0m\u001b[0;34m)\u001b[0m\u001b[0;34m\u001b[0m\u001b[0;34m\u001b[0m\u001b[0m\n\u001b[0m\u001b[1;32m    249\u001b[0m \u001b[0;34m\u001b[0m\u001b[0m\n\u001b[1;32m    250\u001b[0m         \u001b[0;31m# wrap results\u001b[0m\u001b[0;34m\u001b[0m\u001b[0;34m\u001b[0m\u001b[0;34m\u001b[0m\u001b[0m\n",
      "\u001b[0;32m~/anaconda3/lib/python3.7/site-packages/pandas/core/apply.py\u001b[0m in \u001b[0;36mapply_series_generator\u001b[0;34m(self)\u001b[0m\n\u001b[1;32m    275\u001b[0m             \u001b[0;32mtry\u001b[0m\u001b[0;34m:\u001b[0m\u001b[0;34m\u001b[0m\u001b[0;34m\u001b[0m\u001b[0m\n\u001b[1;32m    276\u001b[0m                 \u001b[0;32mfor\u001b[0m \u001b[0mi\u001b[0m\u001b[0;34m,\u001b[0m \u001b[0mv\u001b[0m \u001b[0;32min\u001b[0m \u001b[0menumerate\u001b[0m\u001b[0;34m(\u001b[0m\u001b[0mseries_gen\u001b[0m\u001b[0;34m)\u001b[0m\u001b[0;34m:\u001b[0m\u001b[0;34m\u001b[0m\u001b[0;34m\u001b[0m\u001b[0m\n\u001b[0;32m--> 277\u001b[0;31m                     \u001b[0mresults\u001b[0m\u001b[0;34m[\u001b[0m\u001b[0mi\u001b[0m\u001b[0;34m]\u001b[0m \u001b[0;34m=\u001b[0m \u001b[0mself\u001b[0m\u001b[0;34m.\u001b[0m\u001b[0mf\u001b[0m\u001b[0;34m(\u001b[0m\u001b[0mv\u001b[0m\u001b[0;34m)\u001b[0m\u001b[0;34m\u001b[0m\u001b[0;34m\u001b[0m\u001b[0m\n\u001b[0m\u001b[1;32m    278\u001b[0m                     \u001b[0mkeys\u001b[0m\u001b[0;34m.\u001b[0m\u001b[0mappend\u001b[0m\u001b[0;34m(\u001b[0m\u001b[0mv\u001b[0m\u001b[0;34m.\u001b[0m\u001b[0mname\u001b[0m\u001b[0;34m)\u001b[0m\u001b[0;34m\u001b[0m\u001b[0;34m\u001b[0m\u001b[0m\n\u001b[1;32m    279\u001b[0m             \u001b[0;32mexcept\u001b[0m \u001b[0mException\u001b[0m \u001b[0;32mas\u001b[0m \u001b[0me\u001b[0m\u001b[0;34m:\u001b[0m\u001b[0;34m\u001b[0m\u001b[0;34m\u001b[0m\u001b[0m\n",
      "\u001b[0;32m<ipython-input-44-a37d8af31035>\u001b[0m in \u001b[0;36m<lambda>\u001b[0;34m(x)\u001b[0m\n\u001b[0;32m----> 1\u001b[0;31m \u001b[0mdata\u001b[0m \u001b[0;34m=\u001b[0m \u001b[0mdata\u001b[0m\u001b[0;34m.\u001b[0m\u001b[0mapply\u001b[0m\u001b[0;34m(\u001b[0m\u001b[0;32mlambda\u001b[0m \u001b[0mx\u001b[0m\u001b[0;34m:\u001b[0m \u001b[0moutlier_capping\u001b[0m\u001b[0;34m(\u001b[0m\u001b[0mdata\u001b[0m\u001b[0;34m)\u001b[0m\u001b[0;34m)\u001b[0m\u001b[0;34m\u001b[0m\u001b[0;34m\u001b[0m\u001b[0m\n\u001b[0m",
      "\u001b[0;32m<ipython-input-25-381140f07409>\u001b[0m in \u001b[0;36moutlier_capping\u001b[0;34m(x)\u001b[0m\n\u001b[1;32m      1\u001b[0m \u001b[0;32mdef\u001b[0m \u001b[0moutlier_capping\u001b[0m\u001b[0;34m(\u001b[0m\u001b[0mx\u001b[0m\u001b[0;34m)\u001b[0m\u001b[0;34m:\u001b[0m\u001b[0;34m\u001b[0m\u001b[0;34m\u001b[0m\u001b[0m\n\u001b[1;32m      2\u001b[0m     \u001b[0;34m\"\"\"A funtion to remove and replace the outliers for numerical columns\"\"\"\u001b[0m\u001b[0;34m\u001b[0m\u001b[0;34m\u001b[0m\u001b[0m\n\u001b[0;32m----> 3\u001b[0;31m     \u001b[0mx\u001b[0m \u001b[0;34m=\u001b[0m \u001b[0mx\u001b[0m\u001b[0;34m.\u001b[0m\u001b[0mclip_upper\u001b[0m\u001b[0;34m(\u001b[0m\u001b[0mx\u001b[0m\u001b[0;34m.\u001b[0m\u001b[0mmedian\u001b[0m\u001b[0;34m)\u001b[0m\u001b[0;34m\u001b[0m\u001b[0;34m\u001b[0m\u001b[0m\n\u001b[0m\u001b[1;32m      4\u001b[0m \u001b[0;34m\u001b[0m\u001b[0m\n\u001b[1;32m      5\u001b[0m     \u001b[0;32mreturn\u001b[0m\u001b[0;34m(\u001b[0m\u001b[0mx\u001b[0m\u001b[0;34m)\u001b[0m\u001b[0;34m\u001b[0m\u001b[0;34m\u001b[0m\u001b[0m\n",
      "\u001b[0;32m~/anaconda3/lib/python3.7/site-packages/pandas/core/generic.py\u001b[0m in \u001b[0;36mclip_upper\u001b[0;34m(self, threshold, axis, inplace)\u001b[0m\n\u001b[1;32m   6484\u001b[0m         \"\"\"\n\u001b[1;32m   6485\u001b[0m         return self._clip_with_one_bound(threshold, method=self.le,\n\u001b[0;32m-> 6486\u001b[0;31m                                          axis=axis, inplace=inplace)\n\u001b[0m\u001b[1;32m   6487\u001b[0m \u001b[0;34m\u001b[0m\u001b[0m\n\u001b[1;32m   6488\u001b[0m     \u001b[0;32mdef\u001b[0m \u001b[0mclip_lower\u001b[0m\u001b[0;34m(\u001b[0m\u001b[0mself\u001b[0m\u001b[0;34m,\u001b[0m \u001b[0mthreshold\u001b[0m\u001b[0;34m,\u001b[0m \u001b[0maxis\u001b[0m\u001b[0;34m=\u001b[0m\u001b[0;32mNone\u001b[0m\u001b[0;34m,\u001b[0m \u001b[0minplace\u001b[0m\u001b[0;34m=\u001b[0m\u001b[0;32mFalse\u001b[0m\u001b[0;34m)\u001b[0m\u001b[0;34m:\u001b[0m\u001b[0;34m\u001b[0m\u001b[0;34m\u001b[0m\u001b[0m\n",
      "\u001b[0;32m~/anaconda3/lib/python3.7/site-packages/pandas/core/generic.py\u001b[0m in \u001b[0;36m_clip_with_one_bound\u001b[0;34m(self, threshold, method, axis, inplace)\u001b[0m\n\u001b[1;32m   6330\u001b[0m             \u001b[0;32mreturn\u001b[0m \u001b[0mself\u001b[0m\u001b[0;34m.\u001b[0m\u001b[0m_clip_with_scalar\u001b[0m\u001b[0;34m(\u001b[0m\u001b[0mthreshold\u001b[0m\u001b[0;34m,\u001b[0m \u001b[0;32mNone\u001b[0m\u001b[0;34m,\u001b[0m \u001b[0minplace\u001b[0m\u001b[0;34m=\u001b[0m\u001b[0minplace\u001b[0m\u001b[0;34m)\u001b[0m\u001b[0;34m\u001b[0m\u001b[0;34m\u001b[0m\u001b[0m\n\u001b[1;32m   6331\u001b[0m \u001b[0;34m\u001b[0m\u001b[0m\n\u001b[0;32m-> 6332\u001b[0;31m         \u001b[0msubset\u001b[0m \u001b[0;34m=\u001b[0m \u001b[0mmethod\u001b[0m\u001b[0;34m(\u001b[0m\u001b[0mthreshold\u001b[0m\u001b[0;34m,\u001b[0m \u001b[0maxis\u001b[0m\u001b[0;34m=\u001b[0m\u001b[0maxis\u001b[0m\u001b[0;34m)\u001b[0m \u001b[0;34m|\u001b[0m \u001b[0misna\u001b[0m\u001b[0;34m(\u001b[0m\u001b[0mself\u001b[0m\u001b[0;34m)\u001b[0m\u001b[0;34m\u001b[0m\u001b[0;34m\u001b[0m\u001b[0m\n\u001b[0m\u001b[1;32m   6333\u001b[0m \u001b[0;34m\u001b[0m\u001b[0m\n\u001b[1;32m   6334\u001b[0m         \u001b[0;31m# GH #15390\u001b[0m\u001b[0;34m\u001b[0m\u001b[0;34m\u001b[0m\u001b[0;34m\u001b[0m\u001b[0m\n",
      "\u001b[0;32m~/anaconda3/lib/python3.7/site-packages/pandas/core/ops.py\u001b[0m in \u001b[0;36mf\u001b[0;34m(self, other, axis, level)\u001b[0m\n\u001b[1;32m   1595\u001b[0m                                          level=level, try_cast=False)\n\u001b[1;32m   1596\u001b[0m         \u001b[0;32melse\u001b[0m\u001b[0;34m:\u001b[0m\u001b[0;34m\u001b[0m\u001b[0;34m\u001b[0m\u001b[0m\n\u001b[0;32m-> 1597\u001b[0;31m             \u001b[0;32mreturn\u001b[0m \u001b[0mself\u001b[0m\u001b[0;34m.\u001b[0m\u001b[0m_combine_const\u001b[0m\u001b[0;34m(\u001b[0m\u001b[0mother\u001b[0m\u001b[0;34m,\u001b[0m \u001b[0mna_op\u001b[0m\u001b[0;34m,\u001b[0m \u001b[0mtry_cast\u001b[0m\u001b[0;34m=\u001b[0m\u001b[0;32mFalse\u001b[0m\u001b[0;34m)\u001b[0m\u001b[0;34m\u001b[0m\u001b[0;34m\u001b[0m\u001b[0m\n\u001b[0m\u001b[1;32m   1598\u001b[0m \u001b[0;34m\u001b[0m\u001b[0m\n\u001b[1;32m   1599\u001b[0m     \u001b[0mf\u001b[0m\u001b[0;34m.\u001b[0m\u001b[0m__name__\u001b[0m \u001b[0;34m=\u001b[0m \u001b[0mop_name\u001b[0m\u001b[0;34m\u001b[0m\u001b[0;34m\u001b[0m\u001b[0m\n",
      "\u001b[0;32m~/anaconda3/lib/python3.7/site-packages/pandas/core/frame.py\u001b[0m in \u001b[0;36m_combine_const\u001b[0;34m(self, other, func, errors, try_cast)\u001b[0m\n\u001b[1;32m   4777\u001b[0m         new_data = self._data.eval(func=func, other=other,\n\u001b[1;32m   4778\u001b[0m                                    \u001b[0merrors\u001b[0m\u001b[0;34m=\u001b[0m\u001b[0merrors\u001b[0m\u001b[0;34m,\u001b[0m\u001b[0;34m\u001b[0m\u001b[0;34m\u001b[0m\u001b[0m\n\u001b[0;32m-> 4779\u001b[0;31m                                    try_cast=try_cast)\n\u001b[0m\u001b[1;32m   4780\u001b[0m         \u001b[0;32mreturn\u001b[0m \u001b[0mself\u001b[0m\u001b[0;34m.\u001b[0m\u001b[0m_constructor\u001b[0m\u001b[0;34m(\u001b[0m\u001b[0mnew_data\u001b[0m\u001b[0;34m)\u001b[0m\u001b[0;34m\u001b[0m\u001b[0;34m\u001b[0m\u001b[0m\n\u001b[1;32m   4781\u001b[0m \u001b[0;34m\u001b[0m\u001b[0m\n",
      "\u001b[0;32m~/anaconda3/lib/python3.7/site-packages/pandas/core/internals.py\u001b[0m in \u001b[0;36meval\u001b[0;34m(self, **kwargs)\u001b[0m\n\u001b[1;32m   3685\u001b[0m \u001b[0;34m\u001b[0m\u001b[0m\n\u001b[1;32m   3686\u001b[0m     \u001b[0;32mdef\u001b[0m \u001b[0meval\u001b[0m\u001b[0;34m(\u001b[0m\u001b[0mself\u001b[0m\u001b[0;34m,\u001b[0m \u001b[0;34m**\u001b[0m\u001b[0mkwargs\u001b[0m\u001b[0;34m)\u001b[0m\u001b[0;34m:\u001b[0m\u001b[0;34m\u001b[0m\u001b[0;34m\u001b[0m\u001b[0m\n\u001b[0;32m-> 3687\u001b[0;31m         \u001b[0;32mreturn\u001b[0m \u001b[0mself\u001b[0m\u001b[0;34m.\u001b[0m\u001b[0mapply\u001b[0m\u001b[0;34m(\u001b[0m\u001b[0;34m'eval'\u001b[0m\u001b[0;34m,\u001b[0m \u001b[0;34m**\u001b[0m\u001b[0mkwargs\u001b[0m\u001b[0;34m)\u001b[0m\u001b[0;34m\u001b[0m\u001b[0;34m\u001b[0m\u001b[0m\n\u001b[0m\u001b[1;32m   3688\u001b[0m \u001b[0;34m\u001b[0m\u001b[0m\n\u001b[1;32m   3689\u001b[0m     \u001b[0;32mdef\u001b[0m \u001b[0mquantile\u001b[0m\u001b[0;34m(\u001b[0m\u001b[0mself\u001b[0m\u001b[0;34m,\u001b[0m \u001b[0;34m**\u001b[0m\u001b[0mkwargs\u001b[0m\u001b[0;34m)\u001b[0m\u001b[0;34m:\u001b[0m\u001b[0;34m\u001b[0m\u001b[0;34m\u001b[0m\u001b[0m\n",
      "\u001b[0;32m~/anaconda3/lib/python3.7/site-packages/pandas/core/internals.py\u001b[0m in \u001b[0;36mapply\u001b[0;34m(self, f, axes, filter, do_integrity_check, consolidate, **kwargs)\u001b[0m\n\u001b[1;32m   3579\u001b[0m \u001b[0;34m\u001b[0m\u001b[0m\n\u001b[1;32m   3580\u001b[0m             \u001b[0mkwargs\u001b[0m\u001b[0;34m[\u001b[0m\u001b[0;34m'mgr'\u001b[0m\u001b[0;34m]\u001b[0m \u001b[0;34m=\u001b[0m \u001b[0mself\u001b[0m\u001b[0;34m\u001b[0m\u001b[0;34m\u001b[0m\u001b[0m\n\u001b[0;32m-> 3581\u001b[0;31m             \u001b[0mapplied\u001b[0m \u001b[0;34m=\u001b[0m \u001b[0mgetattr\u001b[0m\u001b[0;34m(\u001b[0m\u001b[0mb\u001b[0m\u001b[0;34m,\u001b[0m \u001b[0mf\u001b[0m\u001b[0;34m)\u001b[0m\u001b[0;34m(\u001b[0m\u001b[0;34m**\u001b[0m\u001b[0mkwargs\u001b[0m\u001b[0;34m)\u001b[0m\u001b[0;34m\u001b[0m\u001b[0;34m\u001b[0m\u001b[0m\n\u001b[0m\u001b[1;32m   3582\u001b[0m             \u001b[0mresult_blocks\u001b[0m \u001b[0;34m=\u001b[0m \u001b[0m_extend_blocks\u001b[0m\u001b[0;34m(\u001b[0m\u001b[0mapplied\u001b[0m\u001b[0;34m,\u001b[0m \u001b[0mresult_blocks\u001b[0m\u001b[0;34m)\u001b[0m\u001b[0;34m\u001b[0m\u001b[0;34m\u001b[0m\u001b[0m\n\u001b[1;32m   3583\u001b[0m \u001b[0;34m\u001b[0m\u001b[0m\n",
      "\u001b[0;32m~/anaconda3/lib/python3.7/site-packages/pandas/core/internals.py\u001b[0m in \u001b[0;36meval\u001b[0;34m(self, func, other, errors, try_cast, mgr)\u001b[0m\n\u001b[1;32m   1358\u001b[0m             return block.eval(func, orig_other,\n\u001b[1;32m   1359\u001b[0m                               \u001b[0merrors\u001b[0m\u001b[0;34m=\u001b[0m\u001b[0merrors\u001b[0m\u001b[0;34m,\u001b[0m\u001b[0;34m\u001b[0m\u001b[0;34m\u001b[0m\u001b[0m\n\u001b[0;32m-> 1360\u001b[0;31m                               try_cast=try_cast, mgr=mgr)\n\u001b[0m\u001b[1;32m   1361\u001b[0m \u001b[0;34m\u001b[0m\u001b[0m\n\u001b[1;32m   1362\u001b[0m         \u001b[0;31m# get the result, may need to transpose the other\u001b[0m\u001b[0;34m\u001b[0m\u001b[0;34m\u001b[0m\u001b[0;34m\u001b[0m\u001b[0m\n",
      "\u001b[0;32m~/anaconda3/lib/python3.7/site-packages/pandas/core/internals.py\u001b[0m in \u001b[0;36meval\u001b[0;34m(self, func, other, errors, try_cast, mgr)\u001b[0m\n\u001b[1;32m   1420\u001b[0m             \u001b[0;32mraise\u001b[0m\u001b[0;34m\u001b[0m\u001b[0;34m\u001b[0m\u001b[0m\n\u001b[1;32m   1421\u001b[0m         \u001b[0;32mexcept\u001b[0m \u001b[0mException\u001b[0m \u001b[0;32mas\u001b[0m \u001b[0mdetail\u001b[0m\u001b[0;34m:\u001b[0m\u001b[0;34m\u001b[0m\u001b[0;34m\u001b[0m\u001b[0m\n\u001b[0;32m-> 1422\u001b[0;31m             \u001b[0mresult\u001b[0m \u001b[0;34m=\u001b[0m \u001b[0mhandle_error\u001b[0m\u001b[0;34m(\u001b[0m\u001b[0;34m)\u001b[0m\u001b[0;34m\u001b[0m\u001b[0;34m\u001b[0m\u001b[0m\n\u001b[0m\u001b[1;32m   1423\u001b[0m \u001b[0;34m\u001b[0m\u001b[0m\n\u001b[1;32m   1424\u001b[0m         \u001b[0;31m# technically a broadcast error in numpy can 'work' by returning a\u001b[0m\u001b[0;34m\u001b[0m\u001b[0;34m\u001b[0m\u001b[0;34m\u001b[0m\u001b[0m\n",
      "\u001b[0;32m~/anaconda3/lib/python3.7/site-packages/pandas/core/internals.py\u001b[0m in \u001b[0;36mhandle_error\u001b[0;34m()\u001b[0m\n\u001b[1;32m   1403\u001b[0m                 raise TypeError(\n\u001b[1;32m   1404\u001b[0m                     \u001b[0;34m'Could not operate {other!r} with block values '\u001b[0m\u001b[0;34m\u001b[0m\u001b[0;34m\u001b[0m\u001b[0m\n\u001b[0;32m-> 1405\u001b[0;31m                     '{detail!s}'.format(other=other, detail=detail))  # noqa\n\u001b[0m\u001b[1;32m   1406\u001b[0m             \u001b[0;32melse\u001b[0m\u001b[0;34m:\u001b[0m\u001b[0;34m\u001b[0m\u001b[0;34m\u001b[0m\u001b[0m\n\u001b[1;32m   1407\u001b[0m                 \u001b[0;31m# return the values\u001b[0m\u001b[0;34m\u001b[0m\u001b[0;34m\u001b[0m\u001b[0;34m\u001b[0m\u001b[0m\n",
      "\u001b[0;31mTypeError\u001b[0m: (\"Could not operate <bound method DataFrame.median of          CRIM    ZN  INDUS  CHAS    NOX     RM         AGE     DIS   RAD  \\\\\\n0     0.00632  18.0   2.31   0.0  0.538  6.575   65.199997  4.0900   1.0   \\n1     0.02731   0.0   7.07   0.0  0.469  6.421   78.900002  4.9671   2.0   \\n2     0.02729   0.0   7.07   0.0  0.469  7.185   61.099998  4.9671   2.0   \\n3     0.03237   NaN   2.18   0.0  0.458  6.998   45.799999  6.0622   3.0   \\n4     0.06905   0.0   2.18   0.0  0.458  7.147   54.200001  6.0622   3.0   \\n5     0.02985   0.0   2.18   0.0  0.458  6.430   58.700001  6.0622   3.0   \\n6     0.08829  12.5   7.87   0.0  0.524  6.012   66.599998  5.5605   5.0   \\n7     0.14455  12.5   7.87   0.0  0.524  6.172   96.099998  5.9505   5.0   \\n8     0.21124  12.5   7.87   0.0  0.524  5.631  100.000000  6.0821   5.0   \\n9     0.17004  12.5   7.87   0.0  0.524  6.004   85.900002  6.5921   5.0   \\n10    0.22489  12.5   7.87   0.0  0.524  6.377   94.300003  6.3467   5.0   \\n11    0.11747  12.5   7.87   0.0  0.524  6.009   82.900002  6.2267   5.0   \\n12    0.09378  12.5   7.87   0.0  0.524  5.889   39.000000  5.4509   5.0   \\n13    0.62976   0.0   8.14   0.0  0.538  5.949   61.799999  4.7075   4.0   \\n14    0.63796   0.0   8.14   0.0  0.538  6.096   84.500000  4.4619   4.0   \\n15    0.62739   0.0   8.14   0.0  0.538  5.834   56.500000  4.4986   4.0   \\n16    1.05393   0.0   8.14   0.0  0.538  5.935   29.299999  4.4986   4.0   \\n17    0.78420   0.0   8.14   0.0  0.538  5.990   81.699997  4.2579   4.0   \\n18    0.80271   0.0   8.14   0.0  0.538  5.456   36.599998  3.7965   4.0   \\n19    0.72580   0.0   8.14   0.0  0.538  5.727   69.500000  3.7965   4.0   \\n20    1.25179   0.0   8.14   0.0  0.538  5.570   98.099998  3.7979   4.0   \\n21    0.85204   0.0   8.14   0.0  0.538  5.965   89.199997  4.0123   4.0   \\n22    1.23247   0.0   8.14   0.0  0.538  6.142   91.699997  3.9769   4.0   \\n23    0.98843   0.0   8.14   0.0  0.538  5.813  100.000000  4.0952   4.0   \\n24    0.75026   0.0   8.14   0.0  0.538  5.924   94.099998  4.3996   4.0   \\n25    0.84054   0.0   8.14   0.0  0.538  5.599   85.699997  4.4546   4.0   \\n26    0.67191   0.0   8.14   0.0  0.538  5.813   90.300003  4.6820   4.0   \\n27    0.95577   0.0   8.14   0.0  0.538  6.047   88.800003  4.4534   4.0   \\n28    0.77299   0.0   8.14   0.0  0.538  6.495   94.400002  4.4547   4.0   \\n29    1.00245   0.0   8.14   0.0  0.538  6.674   87.300003  4.2390   4.0   \\n..        ...   ...    ...   ...    ...    ...         ...     ...   ...   \\n470   6.39312   0.0  18.10   0.0  0.584  6.162   97.400002  2.2060  24.0   \\n471   4.87141   0.0  18.10   0.0  0.614  6.484   93.599998  2.3053  24.0   \\n472  15.02340   0.0  18.10   0.0  0.614  5.304   97.300003  2.1007  24.0   \\n473  10.23300   0.0  18.10   0.0  0.614  6.185   96.699997  2.1705  24.0   \\n474  14.33370   0.0  18.10   0.0  0.614  6.229   88.000000  1.9512  24.0   \\n475   5.82401   0.0  18.10   0.0  0.532  6.242   64.699997  3.4242  24.0   \\n476   5.73116   0.0  18.10   0.0  0.532  7.061   77.000000  3.4106   NaN   \\n477   2.81838   0.0  18.10   0.0  0.532  5.762   40.299999  4.0983  24.0   \\n478   2.37857   0.0  18.10   0.0  0.583  5.871   41.900002  3.7240  24.0   \\n479   3.67367   0.0  18.10   0.0  0.583  6.312   51.900002  3.9917  24.0   \\n480   5.69175   0.0  18.10   0.0  0.583  6.114   79.800003  3.5459  24.0   \\n481   4.83567   0.0  18.10   0.0  0.583  5.905   53.200001  3.1523  24.0   \\n482   0.15086   0.0  27.74   0.0  0.609  5.454   92.699997  1.8209   4.0   \\n483   0.18337   0.0  27.74   0.0  0.609  5.414   98.300003  1.7554   4.0   \\n484   0.20746   0.0  27.74   0.0  0.609  5.093   98.000000  1.8226   4.0   \\n485   0.10574   0.0  27.74   0.0  0.609  5.983   98.800003  1.8681   4.0   \\n486   0.11132   0.0  27.74   0.0  0.609  5.983   83.500000  2.1099   4.0   \\n487       NaN   0.0   9.69   0.0  0.585  5.707   54.000000  2.3817   6.0   \\n488   0.27957   0.0   9.69   0.0  0.585  5.926   42.599998  2.3817   6.0   \\n489   0.17899   0.0   9.69   0.0  0.585  5.670   28.799999  2.7986   6.0   \\n490   0.28960   0.0   9.69   0.0  0.585  5.390   72.900002  2.7986   6.0   \\n491   0.26838   0.0   9.69   0.0  0.585  5.794   70.599998  2.8927   6.0   \\n492   0.23912   0.0   9.69   0.0  0.585  6.019   65.300003  2.4091   6.0   \\n493   0.17783   0.0   9.69   0.0  0.585  5.569   73.500000  2.3999   6.0   \\n494   0.22438   0.0   9.69   0.0  0.585  6.027   79.699997  2.4982   6.0   \\n495   0.06263   0.0  11.93   0.0  0.573  6.593   69.099998  2.4786   1.0   \\n496   0.04527   0.0  11.93   0.0  0.573  6.120   76.699997  2.2875   1.0   \\n497   0.06076   0.0  11.93   0.0    NaN  6.976   91.000000  2.1675   1.0   \\n498   0.10959   0.0  11.93   0.0  0.573  6.794   89.300003  2.3889   1.0   \\n499   0.04741   0.0  11.93   0.0  0.573  6.030   80.800003  2.5050   1.0   \\n\\n       TAX         PT           B      LSTAT         MV  \\n0    296.0  15.300000         NaN   4.980000  24.000000  \\n1    242.0  17.799999  396.899994   9.140000  21.600000  \\n2    242.0  17.799999  392.829987   4.030000  34.700001  \\n3    222.0  18.700001  394.630005   2.940000  33.400002  \\n4    222.0  18.700001  396.899994   5.330000  36.200001  \\n5    222.0  18.700001  394.119995   5.210000  28.700001  \\n6    311.0  15.200000  395.600006  12.430000  22.900000  \\n7    311.0  15.200000  396.899994  19.150000  27.100000  \\n8    311.0  15.200000  386.630005        NaN  16.500000  \\n9    311.0  15.200000  386.709992  17.100000  18.900000  \\n10   311.0  15.200000  392.519989  20.450001  15.000000  \\n11   311.0  15.200000  396.899994  13.270000  18.900000  \\n12   311.0  15.200000  390.500000  15.710000  21.700001  \\n13   307.0  21.000000  396.899994   8.260000  20.400000  \\n14   307.0  21.000000  380.019989  10.260000  18.200001  \\n15   307.0  21.000000  395.619995   8.470000  19.900000  \\n16   307.0  21.000000  386.850006        NaN  23.100000  \\n17   307.0  21.000000  386.750000  14.670000  17.500000  \\n18   307.0  21.000000  288.989990  11.690000  20.200001  \\n19   307.0  21.000000  390.950012  11.280000  18.200001  \\n20   307.0  21.000000  376.570007  21.020000  13.600000  \\n21   307.0  21.000000  392.529999  13.830000  19.600000  \\n22   307.0  21.000000  396.899994  18.719999  15.200000  \\n23   307.0  21.000000  394.540008  19.879999  14.500000  \\n24   307.0  21.000000  394.329987  16.299999  15.600000  \\n25   307.0  21.000000  303.420013  16.510000  13.900000  \\n26   307.0  21.000000  376.880005  14.810000  16.600000  \\n27   307.0  21.000000  306.380005  17.280001  14.800000  \\n28   307.0  21.000000  387.940002  12.800000  18.400000  \\n29   307.0  21.000000  380.230011  11.980000  21.000000  \\n..     ...        ...         ...        ...        ...  \\n470  666.0  20.200001  302.760010  24.100000  13.300000  \\n471  666.0  20.200001  396.209992  18.680000  16.700001  \\n472  666.0  20.200001  349.480011  24.910000  12.000000  \\n473  666.0  20.200001  379.700012        NaN  14.600000  \\n474  666.0  20.200001  383.320007  13.110000  21.400000  \\n475  666.0  20.200001  396.899994  10.740000  23.000000  \\n476  666.0  20.200001  395.279999   7.010000  25.000000  \\n477  666.0  20.200001  392.920013  10.420000  21.799999  \\n478  666.0  20.200001  370.730011  13.340000  20.600000  \\n479  666.0  20.200001  388.619995  10.580000  21.200001  \\n480  666.0  20.200001  392.679993  14.980000  19.100000  \\n481  666.0  20.200001  388.220001  11.450000  20.600000  \\n482  711.0  20.100000  395.089996  18.059999  15.200000  \\n483  711.0  20.100000  344.049988  23.969999   7.000000  \\n484  711.0  20.100000  318.429993  29.680000   8.100000  \\n485  711.0  20.100000  390.109985  18.070000  13.600000  \\n486  711.0  20.100000  396.899994  13.350000  20.100000  \\n487  391.0  19.200001  396.899994  12.010000  21.799999  \\n488  391.0  19.200001  396.899994  13.590000  24.500000  \\n489  391.0  19.200001  393.290008  17.600000  23.100000  \\n490  391.0  19.200001  396.899994  21.139999  19.700001  \\n491  391.0  19.200001  396.899994  14.100000  18.299999  \\n492  391.0  19.200001  396.899994  12.920000  21.200001  \\n493  391.0  19.200001  395.769989  15.100000  17.500000  \\n494  391.0  19.200001  396.899994  14.330000  16.799999  \\n495  273.0  21.000000  391.989990   9.670000  22.400000  \\n496  273.0  21.000000  396.899994   9.080000  20.600000  \\n497  273.0  21.000000  396.899994   5.640000  23.900000  \\n498  273.0  21.000000  393.450012   6.480000  22.000000  \\n499  273.0  21.000000  396.899994   7.880000  11.900000  \\n\\n[500 rows x 14 columns]> with block values '<=' not supported between instances of 'float' and 'method'\", 'occurred at index CRIM')"
     ]
    }
   ],
   "source": [
    "data = data.apply(lambda x: outlier_capping(data))"
   ]
  },
  {
   "cell_type": "code",
   "execution_count": 43,
   "metadata": {},
   "outputs": [],
   "source": [
    "coltobeindx=data.columns.difference(['MV'])  #can be used for imputation split,numeric, cteg ex;"
   ]
  },
  {
   "cell_type": "code",
   "execution_count": 39,
   "metadata": {},
   "outputs": [
    {
     "data": {
      "text/html": [
       "<div>\n",
       "<style scoped>\n",
       "    .dataframe tbody tr th:only-of-type {\n",
       "        vertical-align: middle;\n",
       "    }\n",
       "\n",
       "    .dataframe tbody tr th {\n",
       "        vertical-align: top;\n",
       "    }\n",
       "\n",
       "    .dataframe thead th {\n",
       "        text-align: right;\n",
       "    }\n",
       "</style>\n",
       "<table border=\"1\" class=\"dataframe\">\n",
       "  <thead>\n",
       "    <tr style=\"text-align: right;\">\n",
       "      <th></th>\n",
       "      <th>CRIM</th>\n",
       "      <th>ZN</th>\n",
       "      <th>INDUS</th>\n",
       "      <th>CHAS</th>\n",
       "      <th>NOX</th>\n",
       "      <th>RM</th>\n",
       "      <th>AGE</th>\n",
       "      <th>DIS</th>\n",
       "      <th>RAD</th>\n",
       "      <th>TAX</th>\n",
       "      <th>PT</th>\n",
       "      <th>B</th>\n",
       "      <th>LSTAT</th>\n",
       "      <th>MV</th>\n",
       "    </tr>\n",
       "  </thead>\n",
       "  <tbody>\n",
       "    <tr>\n",
       "      <th>0</th>\n",
       "      <td>0.00632</td>\n",
       "      <td>18.0</td>\n",
       "      <td>2.31</td>\n",
       "      <td>0.0</td>\n",
       "      <td>0.538</td>\n",
       "      <td>6.575</td>\n",
       "      <td>65.199997</td>\n",
       "      <td>4.0900</td>\n",
       "      <td>1.0</td>\n",
       "      <td>296.0</td>\n",
       "      <td>15.300000</td>\n",
       "      <td>NaN</td>\n",
       "      <td>4.98</td>\n",
       "      <td>24.000000</td>\n",
       "    </tr>\n",
       "    <tr>\n",
       "      <th>1</th>\n",
       "      <td>0.02731</td>\n",
       "      <td>0.0</td>\n",
       "      <td>7.07</td>\n",
       "      <td>0.0</td>\n",
       "      <td>0.469</td>\n",
       "      <td>6.421</td>\n",
       "      <td>78.900002</td>\n",
       "      <td>4.9671</td>\n",
       "      <td>2.0</td>\n",
       "      <td>242.0</td>\n",
       "      <td>17.799999</td>\n",
       "      <td>396.899994</td>\n",
       "      <td>9.14</td>\n",
       "      <td>21.600000</td>\n",
       "    </tr>\n",
       "    <tr>\n",
       "      <th>2</th>\n",
       "      <td>0.02729</td>\n",
       "      <td>0.0</td>\n",
       "      <td>7.07</td>\n",
       "      <td>0.0</td>\n",
       "      <td>0.469</td>\n",
       "      <td>7.185</td>\n",
       "      <td>61.099998</td>\n",
       "      <td>4.9671</td>\n",
       "      <td>2.0</td>\n",
       "      <td>242.0</td>\n",
       "      <td>17.799999</td>\n",
       "      <td>392.829987</td>\n",
       "      <td>4.03</td>\n",
       "      <td>34.700001</td>\n",
       "    </tr>\n",
       "    <tr>\n",
       "      <th>3</th>\n",
       "      <td>0.03237</td>\n",
       "      <td>NaN</td>\n",
       "      <td>2.18</td>\n",
       "      <td>0.0</td>\n",
       "      <td>0.458</td>\n",
       "      <td>6.998</td>\n",
       "      <td>45.799999</td>\n",
       "      <td>6.0622</td>\n",
       "      <td>3.0</td>\n",
       "      <td>222.0</td>\n",
       "      <td>18.700001</td>\n",
       "      <td>394.630005</td>\n",
       "      <td>2.94</td>\n",
       "      <td>33.400002</td>\n",
       "    </tr>\n",
       "    <tr>\n",
       "      <th>4</th>\n",
       "      <td>0.06905</td>\n",
       "      <td>0.0</td>\n",
       "      <td>2.18</td>\n",
       "      <td>0.0</td>\n",
       "      <td>0.458</td>\n",
       "      <td>7.147</td>\n",
       "      <td>54.200001</td>\n",
       "      <td>6.0622</td>\n",
       "      <td>3.0</td>\n",
       "      <td>222.0</td>\n",
       "      <td>18.700001</td>\n",
       "      <td>396.899994</td>\n",
       "      <td>5.33</td>\n",
       "      <td>36.200001</td>\n",
       "    </tr>\n",
       "  </tbody>\n",
       "</table>\n",
       "</div>"
      ],
      "text/plain": [
       "      CRIM    ZN  INDUS  CHAS    NOX     RM        AGE     DIS  RAD    TAX  \\\n",
       "0  0.00632  18.0   2.31   0.0  0.538  6.575  65.199997  4.0900  1.0  296.0   \n",
       "1  0.02731   0.0   7.07   0.0  0.469  6.421  78.900002  4.9671  2.0  242.0   \n",
       "2  0.02729   0.0   7.07   0.0  0.469  7.185  61.099998  4.9671  2.0  242.0   \n",
       "3  0.03237   NaN   2.18   0.0  0.458  6.998  45.799999  6.0622  3.0  222.0   \n",
       "4  0.06905   0.0   2.18   0.0  0.458  7.147  54.200001  6.0622  3.0  222.0   \n",
       "\n",
       "          PT           B  LSTAT         MV  \n",
       "0  15.300000         NaN   4.98  24.000000  \n",
       "1  17.799999  396.899994   9.14  21.600000  \n",
       "2  17.799999  392.829987   4.03  34.700001  \n",
       "3  18.700001  394.630005   2.94  33.400002  \n",
       "4  18.700001  396.899994   5.33  36.200001  "
      ]
     },
     "execution_count": 39,
     "metadata": {},
     "output_type": "execute_result"
    }
   ],
   "source": [
    "data.head()"
   ]
  },
  {
   "cell_type": "code",
   "execution_count": 27,
   "metadata": {},
   "outputs": [
    {
     "data": {
      "text/html": [
       "<div>\n",
       "<style scoped>\n",
       "    .dataframe tbody tr th:only-of-type {\n",
       "        vertical-align: middle;\n",
       "    }\n",
       "\n",
       "    .dataframe tbody tr th {\n",
       "        vertical-align: top;\n",
       "    }\n",
       "\n",
       "    .dataframe thead th {\n",
       "        text-align: right;\n",
       "    }\n",
       "</style>\n",
       "<table border=\"1\" class=\"dataframe\">\n",
       "  <thead>\n",
       "    <tr style=\"text-align: right;\">\n",
       "      <th></th>\n",
       "      <th>CRIM</th>\n",
       "      <th>ZN</th>\n",
       "      <th>INDUS</th>\n",
       "      <th>CHAS</th>\n",
       "      <th>NOX</th>\n",
       "      <th>RM</th>\n",
       "      <th>AGE</th>\n",
       "      <th>DIS</th>\n",
       "      <th>RAD</th>\n",
       "      <th>TAX</th>\n",
       "      <th>PT</th>\n",
       "      <th>B</th>\n",
       "      <th>LSTAT</th>\n",
       "      <th>MV</th>\n",
       "    </tr>\n",
       "  </thead>\n",
       "  <tbody>\n",
       "    <tr>\n",
       "      <th>count</th>\n",
       "      <td>493.000000</td>\n",
       "      <td>493.000000</td>\n",
       "      <td>496.000000</td>\n",
       "      <td>495.000000</td>\n",
       "      <td>494.000000</td>\n",
       "      <td>496.000000</td>\n",
       "      <td>497.000000</td>\n",
       "      <td>496.000000</td>\n",
       "      <td>495.000000</td>\n",
       "      <td>494.000000</td>\n",
       "      <td>491.000000</td>\n",
       "      <td>496.000000</td>\n",
       "      <td>494.000000</td>\n",
       "      <td>500.000000</td>\n",
       "    </tr>\n",
       "    <tr>\n",
       "      <th>mean</th>\n",
       "      <td>3.655323</td>\n",
       "      <td>11.247465</td>\n",
       "      <td>11.124819</td>\n",
       "      <td>0.070707</td>\n",
       "      <td>0.553837</td>\n",
       "      <td>6.288677</td>\n",
       "      <td>68.575252</td>\n",
       "      <td>3.785060</td>\n",
       "      <td>9.539394</td>\n",
       "      <td>407.489879</td>\n",
       "      <td>18.465784</td>\n",
       "      <td>356.595966</td>\n",
       "      <td>12.648178</td>\n",
       "      <td>22.564400</td>\n",
       "    </tr>\n",
       "    <tr>\n",
       "      <th>std</th>\n",
       "      <td>8.695102</td>\n",
       "      <td>23.233824</td>\n",
       "      <td>6.862173</td>\n",
       "      <td>0.256594</td>\n",
       "      <td>0.114877</td>\n",
       "      <td>0.707249</td>\n",
       "      <td>28.181075</td>\n",
       "      <td>2.104649</td>\n",
       "      <td>8.707922</td>\n",
       "      <td>168.483364</td>\n",
       "      <td>2.170162</td>\n",
       "      <td>91.632923</td>\n",
       "      <td>7.117030</td>\n",
       "      <td>9.236213</td>\n",
       "    </tr>\n",
       "    <tr>\n",
       "      <th>min</th>\n",
       "      <td>0.006320</td>\n",
       "      <td>0.000000</td>\n",
       "      <td>0.460000</td>\n",
       "      <td>0.000000</td>\n",
       "      <td>0.385000</td>\n",
       "      <td>3.561000</td>\n",
       "      <td>2.900000</td>\n",
       "      <td>1.129600</td>\n",
       "      <td>1.000000</td>\n",
       "      <td>187.000000</td>\n",
       "      <td>12.600000</td>\n",
       "      <td>0.320000</td>\n",
       "      <td>1.730000</td>\n",
       "      <td>5.000000</td>\n",
       "    </tr>\n",
       "    <tr>\n",
       "      <th>25%</th>\n",
       "      <td>0.081990</td>\n",
       "      <td>0.000000</td>\n",
       "      <td>5.190000</td>\n",
       "      <td>0.000000</td>\n",
       "      <td>0.448250</td>\n",
       "      <td>5.884750</td>\n",
       "      <td>44.400002</td>\n",
       "      <td>2.097050</td>\n",
       "      <td>4.000000</td>\n",
       "      <td>279.000000</td>\n",
       "      <td>17.400000</td>\n",
       "      <td>375.299988</td>\n",
       "      <td>6.950000</td>\n",
       "      <td>17.075000</td>\n",
       "    </tr>\n",
       "    <tr>\n",
       "      <th>50%</th>\n",
       "      <td>0.261690</td>\n",
       "      <td>0.000000</td>\n",
       "      <td>9.690000</td>\n",
       "      <td>0.000000</td>\n",
       "      <td>0.538000</td>\n",
       "      <td>6.209000</td>\n",
       "      <td>77.699997</td>\n",
       "      <td>3.190950</td>\n",
       "      <td>5.000000</td>\n",
       "      <td>330.000000</td>\n",
       "      <td>19.100000</td>\n",
       "      <td>391.339996</td>\n",
       "      <td>11.430000</td>\n",
       "      <td>21.200001</td>\n",
       "    </tr>\n",
       "    <tr>\n",
       "      <th>75%</th>\n",
       "      <td>3.678220</td>\n",
       "      <td>12.500000</td>\n",
       "      <td>18.100000</td>\n",
       "      <td>0.000000</td>\n",
       "      <td>0.624000</td>\n",
       "      <td>6.629250</td>\n",
       "      <td>94.099998</td>\n",
       "      <td>5.118000</td>\n",
       "      <td>24.000000</td>\n",
       "      <td>666.000000</td>\n",
       "      <td>20.200001</td>\n",
       "      <td>396.209992</td>\n",
       "      <td>16.954999</td>\n",
       "      <td>25.000000</td>\n",
       "    </tr>\n",
       "    <tr>\n",
       "      <th>max</th>\n",
       "      <td>88.976196</td>\n",
       "      <td>100.000000</td>\n",
       "      <td>27.740000</td>\n",
       "      <td>1.000000</td>\n",
       "      <td>0.871000</td>\n",
       "      <td>8.780000</td>\n",
       "      <td>100.000000</td>\n",
       "      <td>12.126500</td>\n",
       "      <td>24.000000</td>\n",
       "      <td>711.000000</td>\n",
       "      <td>22.000000</td>\n",
       "      <td>396.899994</td>\n",
       "      <td>37.970001</td>\n",
       "      <td>50.000000</td>\n",
       "    </tr>\n",
       "  </tbody>\n",
       "</table>\n",
       "</div>"
      ],
      "text/plain": [
       "             CRIM          ZN       INDUS        CHAS         NOX          RM  \\\n",
       "count  493.000000  493.000000  496.000000  495.000000  494.000000  496.000000   \n",
       "mean     3.655323   11.247465   11.124819    0.070707    0.553837    6.288677   \n",
       "std      8.695102   23.233824    6.862173    0.256594    0.114877    0.707249   \n",
       "min      0.006320    0.000000    0.460000    0.000000    0.385000    3.561000   \n",
       "25%      0.081990    0.000000    5.190000    0.000000    0.448250    5.884750   \n",
       "50%      0.261690    0.000000    9.690000    0.000000    0.538000    6.209000   \n",
       "75%      3.678220   12.500000   18.100000    0.000000    0.624000    6.629250   \n",
       "max     88.976196  100.000000   27.740000    1.000000    0.871000    8.780000   \n",
       "\n",
       "              AGE         DIS         RAD         TAX          PT           B  \\\n",
       "count  497.000000  496.000000  495.000000  494.000000  491.000000  496.000000   \n",
       "mean    68.575252    3.785060    9.539394  407.489879   18.465784  356.595966   \n",
       "std     28.181075    2.104649    8.707922  168.483364    2.170162   91.632923   \n",
       "min      2.900000    1.129600    1.000000  187.000000   12.600000    0.320000   \n",
       "25%     44.400002    2.097050    4.000000  279.000000   17.400000  375.299988   \n",
       "50%     77.699997    3.190950    5.000000  330.000000   19.100000  391.339996   \n",
       "75%     94.099998    5.118000   24.000000  666.000000   20.200001  396.209992   \n",
       "max    100.000000   12.126500   24.000000  711.000000   22.000000  396.899994   \n",
       "\n",
       "            LSTAT          MV  \n",
       "count  494.000000  500.000000  \n",
       "mean    12.648178   22.564400  \n",
       "std      7.117030    9.236213  \n",
       "min      1.730000    5.000000  \n",
       "25%      6.950000   17.075000  \n",
       "50%     11.430000   21.200001  \n",
       "75%     16.954999   25.000000  \n",
       "max     37.970001   50.000000  "
      ]
     },
     "execution_count": 27,
     "metadata": {},
     "output_type": "execute_result"
    }
   ],
   "source": [
    "data.describe()"
   ]
  },
  {
   "cell_type": "code",
   "execution_count": null,
   "metadata": {},
   "outputs": [],
   "source": []
  },
  {
   "cell_type": "code",
   "execution_count": 28,
   "metadata": {
    "scrolled": true
   },
   "outputs": [
    {
     "data": {
      "text/html": [
       "<div>\n",
       "<style scoped>\n",
       "    .dataframe tbody tr th:only-of-type {\n",
       "        vertical-align: middle;\n",
       "    }\n",
       "\n",
       "    .dataframe tbody tr th {\n",
       "        vertical-align: top;\n",
       "    }\n",
       "\n",
       "    .dataframe thead th {\n",
       "        text-align: right;\n",
       "    }\n",
       "</style>\n",
       "<table border=\"1\" class=\"dataframe\">\n",
       "  <thead>\n",
       "    <tr style=\"text-align: right;\">\n",
       "      <th></th>\n",
       "      <th>CRIM</th>\n",
       "      <th>ZN</th>\n",
       "      <th>INDUS</th>\n",
       "      <th>CHAS</th>\n",
       "      <th>NOX</th>\n",
       "      <th>RM</th>\n",
       "      <th>AGE</th>\n",
       "      <th>DIS</th>\n",
       "      <th>RAD</th>\n",
       "      <th>TAX</th>\n",
       "      <th>PT</th>\n",
       "      <th>B</th>\n",
       "      <th>LSTAT</th>\n",
       "      <th>MV</th>\n",
       "    </tr>\n",
       "  </thead>\n",
       "  <tbody>\n",
       "    <tr>\n",
       "      <th>count</th>\n",
       "      <td>493.000000</td>\n",
       "      <td>493.000000</td>\n",
       "      <td>496.000000</td>\n",
       "      <td>495.000000</td>\n",
       "      <td>494.000000</td>\n",
       "      <td>496.000000</td>\n",
       "      <td>497.000000</td>\n",
       "      <td>496.000000</td>\n",
       "      <td>495.000000</td>\n",
       "      <td>494.000000</td>\n",
       "      <td>491.000000</td>\n",
       "      <td>496.000000</td>\n",
       "      <td>494.000000</td>\n",
       "      <td>500.000000</td>\n",
       "    </tr>\n",
       "    <tr>\n",
       "      <th>mean</th>\n",
       "      <td>3.655323</td>\n",
       "      <td>11.247465</td>\n",
       "      <td>11.124819</td>\n",
       "      <td>0.070707</td>\n",
       "      <td>0.553837</td>\n",
       "      <td>6.288677</td>\n",
       "      <td>68.575252</td>\n",
       "      <td>3.785060</td>\n",
       "      <td>9.539394</td>\n",
       "      <td>407.489879</td>\n",
       "      <td>18.465784</td>\n",
       "      <td>356.595966</td>\n",
       "      <td>12.648178</td>\n",
       "      <td>22.564400</td>\n",
       "    </tr>\n",
       "    <tr>\n",
       "      <th>std</th>\n",
       "      <td>8.695102</td>\n",
       "      <td>23.233824</td>\n",
       "      <td>6.862173</td>\n",
       "      <td>0.256594</td>\n",
       "      <td>0.114877</td>\n",
       "      <td>0.707249</td>\n",
       "      <td>28.181075</td>\n",
       "      <td>2.104649</td>\n",
       "      <td>8.707922</td>\n",
       "      <td>168.483364</td>\n",
       "      <td>2.170162</td>\n",
       "      <td>91.632923</td>\n",
       "      <td>7.117030</td>\n",
       "      <td>9.236213</td>\n",
       "    </tr>\n",
       "    <tr>\n",
       "      <th>min</th>\n",
       "      <td>0.006320</td>\n",
       "      <td>0.000000</td>\n",
       "      <td>0.460000</td>\n",
       "      <td>0.000000</td>\n",
       "      <td>0.385000</td>\n",
       "      <td>3.561000</td>\n",
       "      <td>2.900000</td>\n",
       "      <td>1.129600</td>\n",
       "      <td>1.000000</td>\n",
       "      <td>187.000000</td>\n",
       "      <td>12.600000</td>\n",
       "      <td>0.320000</td>\n",
       "      <td>1.730000</td>\n",
       "      <td>5.000000</td>\n",
       "    </tr>\n",
       "    <tr>\n",
       "      <th>25%</th>\n",
       "      <td>0.081990</td>\n",
       "      <td>0.000000</td>\n",
       "      <td>5.190000</td>\n",
       "      <td>0.000000</td>\n",
       "      <td>0.448250</td>\n",
       "      <td>5.884750</td>\n",
       "      <td>44.400002</td>\n",
       "      <td>2.097050</td>\n",
       "      <td>4.000000</td>\n",
       "      <td>279.000000</td>\n",
       "      <td>17.400000</td>\n",
       "      <td>375.299988</td>\n",
       "      <td>6.950000</td>\n",
       "      <td>17.075000</td>\n",
       "    </tr>\n",
       "    <tr>\n",
       "      <th>50%</th>\n",
       "      <td>0.261690</td>\n",
       "      <td>0.000000</td>\n",
       "      <td>9.690000</td>\n",
       "      <td>0.000000</td>\n",
       "      <td>0.538000</td>\n",
       "      <td>6.209000</td>\n",
       "      <td>77.699997</td>\n",
       "      <td>3.190950</td>\n",
       "      <td>5.000000</td>\n",
       "      <td>330.000000</td>\n",
       "      <td>19.100000</td>\n",
       "      <td>391.339996</td>\n",
       "      <td>11.430000</td>\n",
       "      <td>21.200001</td>\n",
       "    </tr>\n",
       "    <tr>\n",
       "      <th>75%</th>\n",
       "      <td>3.678220</td>\n",
       "      <td>12.500000</td>\n",
       "      <td>18.100000</td>\n",
       "      <td>0.000000</td>\n",
       "      <td>0.624000</td>\n",
       "      <td>6.629250</td>\n",
       "      <td>94.099998</td>\n",
       "      <td>5.118000</td>\n",
       "      <td>24.000000</td>\n",
       "      <td>666.000000</td>\n",
       "      <td>20.200001</td>\n",
       "      <td>396.209992</td>\n",
       "      <td>16.954999</td>\n",
       "      <td>25.000000</td>\n",
       "    </tr>\n",
       "    <tr>\n",
       "      <th>max</th>\n",
       "      <td>88.976196</td>\n",
       "      <td>100.000000</td>\n",
       "      <td>27.740000</td>\n",
       "      <td>1.000000</td>\n",
       "      <td>0.871000</td>\n",
       "      <td>8.780000</td>\n",
       "      <td>100.000000</td>\n",
       "      <td>12.126500</td>\n",
       "      <td>24.000000</td>\n",
       "      <td>711.000000</td>\n",
       "      <td>22.000000</td>\n",
       "      <td>396.899994</td>\n",
       "      <td>37.970001</td>\n",
       "      <td>50.000000</td>\n",
       "    </tr>\n",
       "  </tbody>\n",
       "</table>\n",
       "</div>"
      ],
      "text/plain": [
       "             CRIM          ZN       INDUS        CHAS         NOX          RM  \\\n",
       "count  493.000000  493.000000  496.000000  495.000000  494.000000  496.000000   \n",
       "mean     3.655323   11.247465   11.124819    0.070707    0.553837    6.288677   \n",
       "std      8.695102   23.233824    6.862173    0.256594    0.114877    0.707249   \n",
       "min      0.006320    0.000000    0.460000    0.000000    0.385000    3.561000   \n",
       "25%      0.081990    0.000000    5.190000    0.000000    0.448250    5.884750   \n",
       "50%      0.261690    0.000000    9.690000    0.000000    0.538000    6.209000   \n",
       "75%      3.678220   12.500000   18.100000    0.000000    0.624000    6.629250   \n",
       "max     88.976196  100.000000   27.740000    1.000000    0.871000    8.780000   \n",
       "\n",
       "              AGE         DIS         RAD         TAX          PT           B  \\\n",
       "count  497.000000  496.000000  495.000000  494.000000  491.000000  496.000000   \n",
       "mean    68.575252    3.785060    9.539394  407.489879   18.465784  356.595966   \n",
       "std     28.181075    2.104649    8.707922  168.483364    2.170162   91.632923   \n",
       "min      2.900000    1.129600    1.000000  187.000000   12.600000    0.320000   \n",
       "25%     44.400002    2.097050    4.000000  279.000000   17.400000  375.299988   \n",
       "50%     77.699997    3.190950    5.000000  330.000000   19.100000  391.339996   \n",
       "75%     94.099998    5.118000   24.000000  666.000000   20.200001  396.209992   \n",
       "max    100.000000   12.126500   24.000000  711.000000   22.000000  396.899994   \n",
       "\n",
       "            LSTAT          MV  \n",
       "count  494.000000  500.000000  \n",
       "mean    12.648178   22.564400  \n",
       "std      7.117030    9.236213  \n",
       "min      1.730000    5.000000  \n",
       "25%      6.950000   17.075000  \n",
       "50%     11.430000   21.200001  \n",
       "75%     16.954999   25.000000  \n",
       "max     37.970001   50.000000  "
      ]
     },
     "execution_count": 28,
     "metadata": {},
     "output_type": "execute_result"
    }
   ],
   "source": [
    "data.describe()"
   ]
  },
  {
   "cell_type": "code",
   "execution_count": null,
   "metadata": {},
   "outputs": [],
   "source": [
    "features=pd.Series(data.columns)\n"
   ]
  },
  {
   "cell_type": "code",
   "execution_count": null,
   "metadata": {},
   "outputs": [],
   "source": [
    "data.shape"
   ]
  },
  {
   "cell_type": "code",
   "execution_count": null,
   "metadata": {},
   "outputs": [],
   "source": [
    "data.isnull().sum()"
   ]
  },
  {
   "cell_type": "code",
   "execution_count": null,
   "metadata": {},
   "outputs": [],
   "source": [
    "data.dtypes"
   ]
  },
  {
   "cell_type": "code",
   "execution_count": null,
   "metadata": {
    "scrolled": true
   },
   "outputs": [],
   "source": [
    "import matplotlib.pyplot as plt\n",
    "fig=plt.figure()\n",
    "ax = fig.add_subplot(1,1,1)\n",
    "ax.scatter(data['NOX'],data['MV'])\n",
    "plt.title('nox and price')\n",
    "plt.xlabel('nox')\n",
    "plt.ylabel('price')\n",
    "plt.show()"
   ]
  },
  {
   "cell_type": "code",
   "execution_count": null,
   "metadata": {},
   "outputs": [],
   "source": [
    "fig1=plt.figure()\n",
    "\n",
    "ax = fig1.add_subplot(1,1,1)\n",
    "ax.hist(data['MV'],bins = 100)\n",
    "plt.title('price')\n",
    "\n",
    "plt.show()"
   ]
  },
  {
   "cell_type": "code",
   "execution_count": null,
   "metadata": {
    "scrolled": true
   },
   "outputs": [],
   "source": [
    "import seaborn as sns\n",
    "cmap = cmap=sns.diverging_palette(5, 250, as_cmap=True)\n",
    "corr=data.corr()\n",
    "def magnify():\n",
    "    return [dict(selector=\"th\",\n",
    "                 props=[(\"font-size\", \"7pt\")]),\n",
    "            dict(selector=\"td\",\n",
    "                 props=[('padding', \"0em 0em\")]),\n",
    "            dict(selector=\"th:hover\",\n",
    "                 props=[(\"font-size\", \"12pt\")]),\n",
    "            dict(selector=\"tr:hover td:hover\",\n",
    "                 props=[('max-width', '200px'),\n",
    "                        ('font-size', '12pt')])\n",
    "]\n",
    "\n",
    "corr.style.background_gradient(cmap, axis=1)\\\n",
    "    .set_properties(**{'max-width': '80px', 'font-size': '10pt'})\\\n",
    "    .set_caption(\"Hover to magify\")\\\n",
    "    .set_precision(2)\\\n",
    "    .set_table_styles(magnify())"
   ]
  },
  {
   "cell_type": "code",
   "execution_count": null,
   "metadata": {},
   "outputs": [],
   "source": [
    "sj= sns.jointplot(\"NOX\", \"MV\", data=data)"
   ]
  },
  {
   "cell_type": "code",
   "execution_count": null,
   "metadata": {},
   "outputs": [],
   "source": [
    "#b = sns.pairplot(data=data)"
   ]
  },
  {
   "cell_type": "code",
   "execution_count": 18,
   "metadata": {},
   "outputs": [
    {
     "ename": "NameError",
     "evalue": "name 'plt' is not defined",
     "output_type": "error",
     "traceback": [
      "\u001b[0;31m---------------------------------------------------------------------------\u001b[0m",
      "\u001b[0;31mNameError\u001b[0m                                 Traceback (most recent call last)",
      "\u001b[0;32m<ipython-input-18-d8c4f657bdb2>\u001b[0m in \u001b[0;36m<module>\u001b[0;34m\u001b[0m\n\u001b[1;32m     19\u001b[0m \u001b[0;34m\u001b[0m\u001b[0m\n\u001b[1;32m     20\u001b[0m \u001b[0;31m# start with a rectangular Figure\u001b[0m\u001b[0;34m\u001b[0m\u001b[0;34m\u001b[0m\u001b[0;34m\u001b[0m\u001b[0m\n\u001b[0;32m---> 21\u001b[0;31m \u001b[0mplt\u001b[0m\u001b[0;34m.\u001b[0m\u001b[0mfigure\u001b[0m\u001b[0;34m(\u001b[0m\u001b[0mfigsize\u001b[0m\u001b[0;34m=\u001b[0m\u001b[0;34m(\u001b[0m\u001b[0;36m8\u001b[0m\u001b[0;34m,\u001b[0m \u001b[0;36m8\u001b[0m\u001b[0;34m)\u001b[0m\u001b[0;34m)\u001b[0m\u001b[0;34m\u001b[0m\u001b[0;34m\u001b[0m\u001b[0m\n\u001b[0m\u001b[1;32m     22\u001b[0m \u001b[0;34m\u001b[0m\u001b[0m\n\u001b[1;32m     23\u001b[0m \u001b[0max_scatter\u001b[0m \u001b[0;34m=\u001b[0m \u001b[0mplt\u001b[0m\u001b[0;34m.\u001b[0m\u001b[0maxes\u001b[0m\u001b[0;34m(\u001b[0m\u001b[0mrect_scatter\u001b[0m\u001b[0;34m)\u001b[0m\u001b[0;34m\u001b[0m\u001b[0;34m\u001b[0m\u001b[0m\n",
      "\u001b[0;31mNameError\u001b[0m: name 'plt' is not defined"
     ]
    }
   ],
   "source": [
    "\n",
    "\n",
    "# Fixing random state for reproducibility\n",
    "np.random.seed(19680801)\n",
    "\n",
    "# the random data\n",
    "x = np.random.randn(1000)\n",
    "y = np.random.randn(1000)\n",
    "\n",
    "# definitions for the axes\n",
    "left, width = 0.1, 0.65\n",
    "bottom, height = 0.1, 0.65\n",
    "spacing = 0.005\n",
    "\n",
    "\n",
    "rect_scatter = [left, bottom, width, height]\n",
    "rect_histx = [left, bottom + height + spacing, width, 0.2]\n",
    "rect_histy = [left + width + spacing, bottom, 0.2, height]\n",
    "\n",
    "# start with a rectangular Figure\n",
    "plt.figure(figsize=(8, 8))\n",
    "\n",
    "ax_scatter = plt.axes(rect_scatter)\n",
    "ax_scatter.tick_params(direction='in', top=True, right=True)\n",
    "ax_histx = plt.axes(rect_histx)\n",
    "ax_histx.tick_params(direction='in', labelbottom=False)\n",
    "ax_histy = plt.axes(rect_histy)\n",
    "ax_histy.tick_params(direction='in', labelleft=False)\n",
    "\n",
    "# the scatter plot:\n",
    "ax_scatter.scatter(x, y)\n",
    "\n",
    "# now determine nice limits by hand:\n",
    "binwidth = 0.25\n",
    "lim = np.ceil(np.abs([x, y]).max() / binwidth) * binwidth\n",
    "ax_scatter.set_xlim((-lim, lim))\n",
    "ax_scatter.set_ylim((-lim, lim))\n",
    "\n",
    "bins = np.arange(-lim, lim + binwidth, binwidth)\n",
    "ax_histx.hist(x, bins=bins)\n",
    "ax_histy.hist(y, bins=bins, orientation='horizontal')\n",
    "\n",
    "ax_histx.set_xlim(ax_scatter.get_xlim())\n",
    "ax_histy.set_ylim(ax_scatter.get_ylim())\n",
    "\n",
    "plt.show()"
   ]
  },
  {
   "cell_type": "code",
   "execution_count": 142,
   "metadata": {
    "scrolled": false
   },
   "outputs": [
    {
     "data": {
      "image/png": "[encoded data removed]",
      "text/plain": [
       "<Figure size 360x360 with 1 Axes>"
      ]
     },
     "metadata": {
      "needs_background": "light"
     },
     "output_type": "display_data"
    }
   ],
   "source": [
    "c = sns.lmplot(\"AGE\", \"MV\", data=data)"
   ]
  },
  {
   "cell_type": "code",
   "execution_count": null,
   "metadata": {},
   "outputs": [],
   "source": []
  },
  {
   "cell_type": "code",
   "execution_count": 143,
   "metadata": {},
   "outputs": [],
   "source": [
    "data['new']=data['RAD']*data['TAX']"
   ]
  },
  {
   "cell_type": "code",
   "execution_count": 144,
   "metadata": {},
   "outputs": [
    {
     "data": {
      "text/html": [
       "<div>\n",
       "<style scoped>\n",
       "    .dataframe tbody tr th:only-of-type {\n",
       "        vertical-align: middle;\n",
       "    }\n",
       "\n",
       "    .dataframe tbody tr th {\n",
       "        vertical-align: top;\n",
       "    }\n",
       "\n",
       "    .dataframe thead th {\n",
       "        text-align: right;\n",
       "    }\n",
       "</style>\n",
       "<table border=\"1\" class=\"dataframe\">\n",
       "  <thead>\n",
       "    <tr style=\"text-align: right;\">\n",
       "      <th></th>\n",
       "      <th>CRIM</th>\n",
       "      <th>ZN</th>\n",
       "      <th>INDUS</th>\n",
       "      <th>CHAS</th>\n",
       "      <th>NOX</th>\n",
       "      <th>RM</th>\n",
       "      <th>AGE</th>\n",
       "      <th>DIS</th>\n",
       "      <th>RAD</th>\n",
       "      <th>TAX</th>\n",
       "      <th>PT</th>\n",
       "      <th>B</th>\n",
       "      <th>LSTAT</th>\n",
       "      <th>MV</th>\n",
       "      <th>new</th>\n",
       "    </tr>\n",
       "  </thead>\n",
       "  <tbody>\n",
       "    <tr>\n",
       "      <th>495</th>\n",
       "      <td>0.06263</td>\n",
       "      <td>0.0</td>\n",
       "      <td>11.93</td>\n",
       "      <td>0.0</td>\n",
       "      <td>0.573</td>\n",
       "      <td>6.593</td>\n",
       "      <td>69.099998</td>\n",
       "      <td>2.4786</td>\n",
       "      <td>1.0</td>\n",
       "      <td>273.0</td>\n",
       "      <td>21.0</td>\n",
       "      <td>391.989990</td>\n",
       "      <td>9.67</td>\n",
       "      <td>22.4</td>\n",
       "      <td>273.0</td>\n",
       "    </tr>\n",
       "    <tr>\n",
       "      <th>496</th>\n",
       "      <td>0.04527</td>\n",
       "      <td>0.0</td>\n",
       "      <td>11.93</td>\n",
       "      <td>0.0</td>\n",
       "      <td>0.573</td>\n",
       "      <td>6.120</td>\n",
       "      <td>76.699997</td>\n",
       "      <td>2.2875</td>\n",
       "      <td>1.0</td>\n",
       "      <td>273.0</td>\n",
       "      <td>21.0</td>\n",
       "      <td>396.899994</td>\n",
       "      <td>9.08</td>\n",
       "      <td>20.6</td>\n",
       "      <td>273.0</td>\n",
       "    </tr>\n",
       "    <tr>\n",
       "      <th>497</th>\n",
       "      <td>0.06076</td>\n",
       "      <td>0.0</td>\n",
       "      <td>11.93</td>\n",
       "      <td>0.0</td>\n",
       "      <td>NaN</td>\n",
       "      <td>6.976</td>\n",
       "      <td>91.000000</td>\n",
       "      <td>2.1675</td>\n",
       "      <td>1.0</td>\n",
       "      <td>273.0</td>\n",
       "      <td>21.0</td>\n",
       "      <td>396.899994</td>\n",
       "      <td>5.64</td>\n",
       "      <td>23.9</td>\n",
       "      <td>273.0</td>\n",
       "    </tr>\n",
       "    <tr>\n",
       "      <th>498</th>\n",
       "      <td>0.10959</td>\n",
       "      <td>0.0</td>\n",
       "      <td>11.93</td>\n",
       "      <td>0.0</td>\n",
       "      <td>0.573</td>\n",
       "      <td>6.794</td>\n",
       "      <td>89.300003</td>\n",
       "      <td>2.3889</td>\n",
       "      <td>1.0</td>\n",
       "      <td>273.0</td>\n",
       "      <td>21.0</td>\n",
       "      <td>393.450012</td>\n",
       "      <td>6.48</td>\n",
       "      <td>22.0</td>\n",
       "      <td>273.0</td>\n",
       "    </tr>\n",
       "    <tr>\n",
       "      <th>499</th>\n",
       "      <td>0.04741</td>\n",
       "      <td>0.0</td>\n",
       "      <td>11.93</td>\n",
       "      <td>0.0</td>\n",
       "      <td>0.573</td>\n",
       "      <td>6.030</td>\n",
       "      <td>80.800003</td>\n",
       "      <td>2.5050</td>\n",
       "      <td>1.0</td>\n",
       "      <td>273.0</td>\n",
       "      <td>21.0</td>\n",
       "      <td>396.899994</td>\n",
       "      <td>7.88</td>\n",
       "      <td>11.9</td>\n",
       "      <td>273.0</td>\n",
       "    </tr>\n",
       "  </tbody>\n",
       "</table>\n",
       "</div>"
      ],
      "text/plain": [
       "        CRIM   ZN  INDUS  CHAS    NOX     RM        AGE     DIS  RAD    TAX  \\\n",
       "495  0.06263  0.0  11.93   0.0  0.573  6.593  69.099998  2.4786  1.0  273.0   \n",
       "496  0.04527  0.0  11.93   0.0  0.573  6.120  76.699997  2.2875  1.0  273.0   \n",
       "497  0.06076  0.0  11.93   0.0    NaN  6.976  91.000000  2.1675  1.0  273.0   \n",
       "498  0.10959  0.0  11.93   0.0  0.573  6.794  89.300003  2.3889  1.0  273.0   \n",
       "499  0.04741  0.0  11.93   0.0  0.573  6.030  80.800003  2.5050  1.0  273.0   \n",
       "\n",
       "       PT           B  LSTAT    MV    new  \n",
       "495  21.0  391.989990   9.67  22.4  273.0  \n",
       "496  21.0  396.899994   9.08  20.6  273.0  \n",
       "497  21.0  396.899994   5.64  23.9  273.0  \n",
       "498  21.0  393.450012   6.48  22.0  273.0  \n",
       "499  21.0  396.899994   7.88  11.9  273.0  "
      ]
     },
     "execution_count": 144,
     "metadata": {},
     "output_type": "execute_result"
    }
   ],
   "source": [
    "data.tail()"
   ]
  },
  {
   "cell_type": "code",
   "execution_count": 145,
   "metadata": {},
   "outputs": [],
   "source": [
    "data.fillna(data.median(),inplace = True)"
   ]
  },
  {
   "cell_type": "markdown",
   "metadata": {},
   "source": []
  },
  {
   "cell_type": "code",
   "execution_count": 146,
   "metadata": {
    "scrolled": true
   },
   "outputs": [
    {
     "data": {
      "text/plain": [
       "CRIM     0\n",
       "ZN       0\n",
       "INDUS    0\n",
       "CHAS     0\n",
       "NOX      0\n",
       "RM       0\n",
       "AGE      0\n",
       "DIS      0\n",
       "RAD      0\n",
       "TAX      0\n",
       "PT       0\n",
       "B        0\n",
       "LSTAT    0\n",
       "MV       0\n",
       "new      0\n",
       "dtype: int64"
      ]
     },
     "execution_count": 146,
     "metadata": {},
     "output_type": "execute_result"
    }
   ],
   "source": [
    "data.isnull().sum()"
   ]
  },
  {
   "cell_type": "code",
   "execution_count": 147,
   "metadata": {},
   "outputs": [
    {
     "data": {
      "text/html": [
       "<div>\n",
       "<style scoped>\n",
       "    .dataframe tbody tr th:only-of-type {\n",
       "        vertical-align: middle;\n",
       "    }\n",
       "\n",
       "    .dataframe tbody tr th {\n",
       "        vertical-align: top;\n",
       "    }\n",
       "\n",
       "    .dataframe thead th {\n",
       "        text-align: right;\n",
       "    }\n",
       "</style>\n",
       "<table border=\"1\" class=\"dataframe\">\n",
       "  <thead>\n",
       "    <tr style=\"text-align: right;\">\n",
       "      <th></th>\n",
       "      <th>CRIM</th>\n",
       "      <th>ZN</th>\n",
       "      <th>INDUS</th>\n",
       "      <th>CHAS</th>\n",
       "      <th>NOX</th>\n",
       "      <th>RM</th>\n",
       "      <th>AGE</th>\n",
       "      <th>DIS</th>\n",
       "      <th>RAD</th>\n",
       "      <th>TAX</th>\n",
       "      <th>PT</th>\n",
       "      <th>B</th>\n",
       "      <th>LSTAT</th>\n",
       "      <th>MV</th>\n",
       "      <th>new</th>\n",
       "    </tr>\n",
       "  </thead>\n",
       "  <tbody>\n",
       "    <tr>\n",
       "      <th>0</th>\n",
       "      <td>0.00632</td>\n",
       "      <td>18.0</td>\n",
       "      <td>2.31</td>\n",
       "      <td>0.0</td>\n",
       "      <td>0.538</td>\n",
       "      <td>6.575</td>\n",
       "      <td>65.199997</td>\n",
       "      <td>4.0900</td>\n",
       "      <td>1.0</td>\n",
       "      <td>296.0</td>\n",
       "      <td>15.300000</td>\n",
       "      <td>391.339996</td>\n",
       "      <td>4.98</td>\n",
       "      <td>24.000000</td>\n",
       "      <td>296.0</td>\n",
       "    </tr>\n",
       "    <tr>\n",
       "      <th>1</th>\n",
       "      <td>0.02731</td>\n",
       "      <td>0.0</td>\n",
       "      <td>7.07</td>\n",
       "      <td>0.0</td>\n",
       "      <td>0.469</td>\n",
       "      <td>6.421</td>\n",
       "      <td>78.900002</td>\n",
       "      <td>4.9671</td>\n",
       "      <td>2.0</td>\n",
       "      <td>242.0</td>\n",
       "      <td>17.799999</td>\n",
       "      <td>396.899994</td>\n",
       "      <td>9.14</td>\n",
       "      <td>21.600000</td>\n",
       "      <td>484.0</td>\n",
       "    </tr>\n",
       "    <tr>\n",
       "      <th>2</th>\n",
       "      <td>0.02729</td>\n",
       "      <td>0.0</td>\n",
       "      <td>7.07</td>\n",
       "      <td>0.0</td>\n",
       "      <td>0.469</td>\n",
       "      <td>7.185</td>\n",
       "      <td>61.099998</td>\n",
       "      <td>4.9671</td>\n",
       "      <td>2.0</td>\n",
       "      <td>242.0</td>\n",
       "      <td>17.799999</td>\n",
       "      <td>392.829987</td>\n",
       "      <td>4.03</td>\n",
       "      <td>34.700001</td>\n",
       "      <td>484.0</td>\n",
       "    </tr>\n",
       "    <tr>\n",
       "      <th>3</th>\n",
       "      <td>0.03237</td>\n",
       "      <td>0.0</td>\n",
       "      <td>2.18</td>\n",
       "      <td>0.0</td>\n",
       "      <td>0.458</td>\n",
       "      <td>6.998</td>\n",
       "      <td>45.799999</td>\n",
       "      <td>6.0622</td>\n",
       "      <td>3.0</td>\n",
       "      <td>222.0</td>\n",
       "      <td>18.700001</td>\n",
       "      <td>394.630005</td>\n",
       "      <td>2.94</td>\n",
       "      <td>33.400002</td>\n",
       "      <td>666.0</td>\n",
       "    </tr>\n",
       "    <tr>\n",
       "      <th>4</th>\n",
       "      <td>0.06905</td>\n",
       "      <td>0.0</td>\n",
       "      <td>2.18</td>\n",
       "      <td>0.0</td>\n",
       "      <td>0.458</td>\n",
       "      <td>7.147</td>\n",
       "      <td>54.200001</td>\n",
       "      <td>6.0622</td>\n",
       "      <td>3.0</td>\n",
       "      <td>222.0</td>\n",
       "      <td>18.700001</td>\n",
       "      <td>396.899994</td>\n",
       "      <td>5.33</td>\n",
       "      <td>36.200001</td>\n",
       "      <td>666.0</td>\n",
       "    </tr>\n",
       "  </tbody>\n",
       "</table>\n",
       "</div>"
      ],
      "text/plain": [
       "      CRIM    ZN  INDUS  CHAS    NOX     RM        AGE     DIS  RAD    TAX  \\\n",
       "0  0.00632  18.0   2.31   0.0  0.538  6.575  65.199997  4.0900  1.0  296.0   \n",
       "1  0.02731   0.0   7.07   0.0  0.469  6.421  78.900002  4.9671  2.0  242.0   \n",
       "2  0.02729   0.0   7.07   0.0  0.469  7.185  61.099998  4.9671  2.0  242.0   \n",
       "3  0.03237   0.0   2.18   0.0  0.458  6.998  45.799999  6.0622  3.0  222.0   \n",
       "4  0.06905   0.0   2.18   0.0  0.458  7.147  54.200001  6.0622  3.0  222.0   \n",
       "\n",
       "          PT           B  LSTAT         MV    new  \n",
       "0  15.300000  391.339996   4.98  24.000000  296.0  \n",
       "1  17.799999  396.899994   9.14  21.600000  484.0  \n",
       "2  17.799999  392.829987   4.03  34.700001  484.0  \n",
       "3  18.700001  394.630005   2.94  33.400002  666.0  \n",
       "4  18.700001  396.899994   5.33  36.200001  666.0  "
      ]
     },
     "execution_count": 147,
     "metadata": {},
     "output_type": "execute_result"
    }
   ],
   "source": [
    "data.head()"
   ]
  },
  {
   "cell_type": "code",
   "execution_count": 159,
   "metadata": {},
   "outputs": [
    {
     "data": {
      "text/html": [
       "<div>\n",
       "<style scoped>\n",
       "    .dataframe tbody tr th:only-of-type {\n",
       "        vertical-align: middle;\n",
       "    }\n",
       "\n",
       "    .dataframe tbody tr th {\n",
       "        vertical-align: top;\n",
       "    }\n",
       "\n",
       "    .dataframe thead th {\n",
       "        text-align: right;\n",
       "    }\n",
       "</style>\n",
       "<table border=\"1\" class=\"dataframe\">\n",
       "  <thead>\n",
       "    <tr style=\"text-align: right;\">\n",
       "      <th></th>\n",
       "      <th>CRIM</th>\n",
       "      <th>ZN</th>\n",
       "      <th>INDUS</th>\n",
       "      <th>CHAS</th>\n",
       "      <th>NOX</th>\n",
       "      <th>RM</th>\n",
       "      <th>AGE</th>\n",
       "      <th>DIS</th>\n",
       "      <th>RAD</th>\n",
       "      <th>TAX</th>\n",
       "      <th>PT</th>\n",
       "      <th>B</th>\n",
       "      <th>LSTAT</th>\n",
       "      <th>MV</th>\n",
       "      <th>new</th>\n",
       "    </tr>\n",
       "  </thead>\n",
       "  <tbody>\n",
       "    <tr>\n",
       "      <th>0</th>\n",
       "      <td>-0.417106</td>\n",
       "      <td>0.299328</td>\n",
       "      <td>-1.289116</td>\n",
       "      <td>-0.274352</td>\n",
       "      <td>-0.137158</td>\n",
       "      <td>0.407764</td>\n",
       "      <td>-0.122164</td>\n",
       "      <td>0.147841</td>\n",
       "      <td>-0.980006</td>\n",
       "      <td>-0.660011</td>\n",
       "      <td>-1.477764</td>\n",
       "      <td>0.377809</td>\n",
       "      <td>-1.082804</td>\n",
       "      <td>0.155587</td>\n",
       "      <td>-0.761637</td>\n",
       "    </tr>\n",
       "    <tr>\n",
       "      <th>1</th>\n",
       "      <td>-0.414675</td>\n",
       "      <td>-0.480397</td>\n",
       "      <td>-0.592086</td>\n",
       "      <td>-0.274352</td>\n",
       "      <td>-0.741977</td>\n",
       "      <td>0.188934</td>\n",
       "      <td>0.365780</td>\n",
       "      <td>0.566551</td>\n",
       "      <td>-0.864630</td>\n",
       "      <td>-0.982375</td>\n",
       "      <td>-0.314976</td>\n",
       "      <td>0.438757</td>\n",
       "      <td>-0.494259</td>\n",
       "      <td>-0.104520</td>\n",
       "      <td>-0.732051</td>\n",
       "    </tr>\n",
       "    <tr>\n",
       "      <th>2</th>\n",
       "      <td>-0.414678</td>\n",
       "      <td>-0.480397</td>\n",
       "      <td>-0.592086</td>\n",
       "      <td>-0.274352</td>\n",
       "      <td>-0.741977</td>\n",
       "      <td>1.274563</td>\n",
       "      <td>-0.268191</td>\n",
       "      <td>0.566551</td>\n",
       "      <td>-0.864630</td>\n",
       "      <td>-0.982375</td>\n",
       "      <td>-0.314976</td>\n",
       "      <td>0.394142</td>\n",
       "      <td>-1.217207</td>\n",
       "      <td>1.315231</td>\n",
       "      <td>-0.732051</td>\n",
       "    </tr>\n",
       "    <tr>\n",
       "      <th>3</th>\n",
       "      <td>-0.414089</td>\n",
       "      <td>-0.480397</td>\n",
       "      <td>-1.308153</td>\n",
       "      <td>-0.274352</td>\n",
       "      <td>-0.838398</td>\n",
       "      <td>1.008839</td>\n",
       "      <td>-0.813122</td>\n",
       "      <td>1.089329</td>\n",
       "      <td>-0.749254</td>\n",
       "      <td>-1.101769</td>\n",
       "      <td>0.103628</td>\n",
       "      <td>0.413874</td>\n",
       "      <td>-1.371417</td>\n",
       "      <td>1.174340</td>\n",
       "      <td>-0.703410</td>\n",
       "    </tr>\n",
       "    <tr>\n",
       "      <th>4</th>\n",
       "      <td>-0.409841</td>\n",
       "      <td>-0.480397</td>\n",
       "      <td>-1.308153</td>\n",
       "      <td>-0.274352</td>\n",
       "      <td>-0.838398</td>\n",
       "      <td>1.220565</td>\n",
       "      <td>-0.513944</td>\n",
       "      <td>1.089329</td>\n",
       "      <td>-0.749254</td>\n",
       "      <td>-1.101769</td>\n",
       "      <td>0.103628</td>\n",
       "      <td>0.438757</td>\n",
       "      <td>-1.033287</td>\n",
       "      <td>1.477798</td>\n",
       "      <td>-0.703410</td>\n",
       "    </tr>\n",
       "  </tbody>\n",
       "</table>\n",
       "</div>"
      ],
      "text/plain": [
       "       CRIM        ZN     INDUS      CHAS       NOX        RM       AGE  \\\n",
       "0 -0.417106  0.299328 -1.289116 -0.274352 -0.137158  0.407764 -0.122164   \n",
       "1 -0.414675 -0.480397 -0.592086 -0.274352 -0.741977  0.188934  0.365780   \n",
       "2 -0.414678 -0.480397 -0.592086 -0.274352 -0.741977  1.274563 -0.268191   \n",
       "3 -0.414089 -0.480397 -1.308153 -0.274352 -0.838398  1.008839 -0.813122   \n",
       "4 -0.409841 -0.480397 -1.308153 -0.274352 -0.838398  1.220565 -0.513944   \n",
       "\n",
       "        DIS       RAD       TAX        PT         B     LSTAT        MV  \\\n",
       "0  0.147841 -0.980006 -0.660011 -1.477764  0.377809 -1.082804  0.155587   \n",
       "1  0.566551 -0.864630 -0.982375 -0.314976  0.438757 -0.494259 -0.104520   \n",
       "2  0.566551 -0.864630 -0.982375 -0.314976  0.394142 -1.217207  1.315231   \n",
       "3  1.089329 -0.749254 -1.101769  0.103628  0.413874 -1.371417  1.174340   \n",
       "4  1.089329 -0.749254 -1.101769  0.103628  0.438757 -1.033287  1.477798   \n",
       "\n",
       "        new  \n",
       "0 -0.761637  \n",
       "1 -0.732051  \n",
       "2 -0.732051  \n",
       "3 -0.703410  \n",
       "4 -0.703410  "
      ]
     },
     "execution_count": 159,
     "metadata": {},
     "output_type": "execute_result"
    }
   ],
   "source": [
    "from sklearn import preprocessing\n",
    "# Get column names first\n",
    "names = data.columns\n",
    "# Create the Scaler object\n",
    "scaler = preprocessing.StandardScaler()\n",
    "# Fit your data on the scaler object\n",
    "data = scaler.fit_transform(data)\n",
    "data = pd.DataFrame(data, columns=names)\n",
    "data.head()"
   ]
  },
  {
   "cell_type": "code",
   "execution_count": null,
   "metadata": {},
   "outputs": [],
   "source": []
  },
  {
   "cell_type": "code",
   "execution_count": null,
   "metadata": {},
   "outputs": [],
   "source": []
  },
  {
   "cell_type": "code",
   "execution_count": 148,
   "metadata": {},
   "outputs": [],
   "source": [
    "from sklearn.model_selection import train_test_split\n",
    "from sklearn.linear_model import LinearRegression\n",
    "X , Y = data.loc[:,data.columns!='MV'].values , data.loc[:, 'MV'].values\n",
    "X_train, X_test, Y_train, Y_test = train_test_split(X, Y, test_size = 0.3, random_state = 199)"
   ]
  },
  {
   "cell_type": "code",
   "execution_count": 149,
   "metadata": {},
   "outputs": [
    {
     "data": {
      "text/plain": [
       "(150, 14)"
      ]
     },
     "execution_count": 149,
     "metadata": {},
     "output_type": "execute_result"
    }
   ],
   "source": [
    "X_test.shape"
   ]
  },
  {
   "cell_type": "code",
   "execution_count": 150,
   "metadata": {},
   "outputs": [
    {
     "data": {
      "text/plain": [
       "(500, 15)"
      ]
     },
     "execution_count": 150,
     "metadata": {},
     "output_type": "execute_result"
    }
   ],
   "source": [
    "data.shape"
   ]
  },
  {
   "cell_type": "code",
   "execution_count": 151,
   "metadata": {},
   "outputs": [
    {
     "data": {
      "text/plain": [
       "(150,)"
      ]
     },
     "execution_count": 151,
     "metadata": {},
     "output_type": "execute_result"
    }
   ],
   "source": [
    "Y_test.shape"
   ]
  },
  {
   "cell_type": "code",
   "execution_count": 66,
   "metadata": {},
   "outputs": [],
   "source": [
    "lm  = LinearRegression(normalize=True)\n",
    "res=lm.fit(X_train, Y_train)"
   ]
  },
  {
   "cell_type": "code",
   "execution_count": 67,
   "metadata": {},
   "outputs": [],
   "source": [
    "predictions = lm.predict(X_test)"
   ]
  },
  {
   "cell_type": "code",
   "execution_count": 68,
   "metadata": {},
   "outputs": [
    {
     "data": {
      "text/plain": [
       "0.7387144797609498"
      ]
     },
     "execution_count": 68,
     "metadata": {},
     "output_type": "execute_result"
    }
   ],
   "source": [
    "#train score\n",
    "lm.score(X_train, Y_train)"
   ]
  },
  {
   "cell_type": "code",
   "execution_count": 70,
   "metadata": {},
   "outputs": [
    {
     "data": {
      "text/plain": [
       "0.704701756957707"
      ]
     },
     "execution_count": 70,
     "metadata": {},
     "output_type": "execute_result"
    }
   ],
   "source": [
    "#test score\n",
    "lm.score(X_test,Y_test)"
   ]
  },
  {
   "cell_type": "code",
   "execution_count": 90,
   "metadata": {},
   "outputs": [
    {
     "data": {
      "text/plain": [
       "0.6764747190198408"
      ]
     },
     "execution_count": 90,
     "metadata": {},
     "output_type": "execute_result"
    }
   ],
   "source": [
    "#adj r2\n",
    "1 - (1-lm.score(X_test, Y_test))*(len(Y_test)-1)/(len(Y_test)-X_test.shape[1])"
   ]
  },
  {
   "cell_type": "code",
   "execution_count": 109,
   "metadata": {},
   "outputs": [],
   "source": [
    "data = np.sqrt(data)"
   ]
  },
  {
   "cell_type": "code",
   "execution_count": 110,
   "metadata": {},
   "outputs": [
    {
     "data": {
      "text/html": [
       "<div>\n",
       "<style scoped>\n",
       "    .dataframe tbody tr th:only-of-type {\n",
       "        vertical-align: middle;\n",
       "    }\n",
       "\n",
       "    .dataframe tbody tr th {\n",
       "        vertical-align: top;\n",
       "    }\n",
       "\n",
       "    .dataframe thead th {\n",
       "        text-align: right;\n",
       "    }\n",
       "</style>\n",
       "<table border=\"1\" class=\"dataframe\">\n",
       "  <thead>\n",
       "    <tr style=\"text-align: right;\">\n",
       "      <th></th>\n",
       "      <th>CRIM</th>\n",
       "      <th>ZN</th>\n",
       "      <th>INDUS</th>\n",
       "      <th>CHAS</th>\n",
       "      <th>NOX</th>\n",
       "      <th>RM</th>\n",
       "      <th>AGE</th>\n",
       "      <th>DIS</th>\n",
       "      <th>RAD</th>\n",
       "      <th>TAX</th>\n",
       "      <th>PT</th>\n",
       "      <th>B</th>\n",
       "      <th>LSTAT</th>\n",
       "      <th>MV</th>\n",
       "      <th>new</th>\n",
       "    </tr>\n",
       "  </thead>\n",
       "  <tbody>\n",
       "    <tr>\n",
       "      <th>0</th>\n",
       "      <td>0.079498</td>\n",
       "      <td>4.242641</td>\n",
       "      <td>1.519868</td>\n",
       "      <td>0.0</td>\n",
       "      <td>0.733485</td>\n",
       "      <td>2.564176</td>\n",
       "      <td>8.074652</td>\n",
       "      <td>2.022375</td>\n",
       "      <td>1.000000</td>\n",
       "      <td>17.204651</td>\n",
       "      <td>3.911521</td>\n",
       "      <td>19.782315</td>\n",
       "      <td>2.231591</td>\n",
       "      <td>4.898979</td>\n",
       "      <td>17.204651</td>\n",
       "    </tr>\n",
       "    <tr>\n",
       "      <th>1</th>\n",
       "      <td>0.165257</td>\n",
       "      <td>0.000000</td>\n",
       "      <td>2.658947</td>\n",
       "      <td>0.0</td>\n",
       "      <td>0.684836</td>\n",
       "      <td>2.533969</td>\n",
       "      <td>8.882567</td>\n",
       "      <td>2.228699</td>\n",
       "      <td>1.414214</td>\n",
       "      <td>15.556349</td>\n",
       "      <td>4.219005</td>\n",
       "      <td>19.922349</td>\n",
       "      <td>3.023243</td>\n",
       "      <td>4.647580</td>\n",
       "      <td>22.000000</td>\n",
       "    </tr>\n",
       "    <tr>\n",
       "      <th>2</th>\n",
       "      <td>0.165197</td>\n",
       "      <td>0.000000</td>\n",
       "      <td>2.658947</td>\n",
       "      <td>0.0</td>\n",
       "      <td>0.684836</td>\n",
       "      <td>2.680485</td>\n",
       "      <td>7.816649</td>\n",
       "      <td>2.228699</td>\n",
       "      <td>1.414214</td>\n",
       "      <td>15.556349</td>\n",
       "      <td>4.219005</td>\n",
       "      <td>19.819939</td>\n",
       "      <td>2.007486</td>\n",
       "      <td>5.890671</td>\n",
       "      <td>22.000000</td>\n",
       "    </tr>\n",
       "    <tr>\n",
       "      <th>3</th>\n",
       "      <td>0.179917</td>\n",
       "      <td>0.000000</td>\n",
       "      <td>1.476482</td>\n",
       "      <td>0.0</td>\n",
       "      <td>0.676757</td>\n",
       "      <td>2.645373</td>\n",
       "      <td>6.767570</td>\n",
       "      <td>2.462154</td>\n",
       "      <td>1.732051</td>\n",
       "      <td>14.899664</td>\n",
       "      <td>4.324350</td>\n",
       "      <td>19.865296</td>\n",
       "      <td>1.714643</td>\n",
       "      <td>5.779273</td>\n",
       "      <td>25.806976</td>\n",
       "    </tr>\n",
       "    <tr>\n",
       "      <th>4</th>\n",
       "      <td>0.262774</td>\n",
       "      <td>0.000000</td>\n",
       "      <td>1.476482</td>\n",
       "      <td>0.0</td>\n",
       "      <td>0.676757</td>\n",
       "      <td>2.673387</td>\n",
       "      <td>7.362065</td>\n",
       "      <td>2.462154</td>\n",
       "      <td>1.732051</td>\n",
       "      <td>14.899664</td>\n",
       "      <td>4.324350</td>\n",
       "      <td>19.922349</td>\n",
       "      <td>2.308679</td>\n",
       "      <td>6.016644</td>\n",
       "      <td>25.806976</td>\n",
       "    </tr>\n",
       "  </tbody>\n",
       "</table>\n",
       "</div>"
      ],
      "text/plain": [
       "       CRIM        ZN     INDUS  CHAS       NOX        RM       AGE       DIS  \\\n",
       "0  0.079498  4.242641  1.519868   0.0  0.733485  2.564176  8.074652  2.022375   \n",
       "1  0.165257  0.000000  2.658947   0.0  0.684836  2.533969  8.882567  2.228699   \n",
       "2  0.165197  0.000000  2.658947   0.0  0.684836  2.680485  7.816649  2.228699   \n",
       "3  0.179917  0.000000  1.476482   0.0  0.676757  2.645373  6.767570  2.462154   \n",
       "4  0.262774  0.000000  1.476482   0.0  0.676757  2.673387  7.362065  2.462154   \n",
       "\n",
       "        RAD        TAX        PT          B     LSTAT        MV        new  \n",
       "0  1.000000  17.204651  3.911521  19.782315  2.231591  4.898979  17.204651  \n",
       "1  1.414214  15.556349  4.219005  19.922349  3.023243  4.647580  22.000000  \n",
       "2  1.414214  15.556349  4.219005  19.819939  2.007486  5.890671  22.000000  \n",
       "3  1.732051  14.899664  4.324350  19.865296  1.714643  5.779273  25.806976  \n",
       "4  1.732051  14.899664  4.324350  19.922349  2.308679  6.016644  25.806976  "
      ]
     },
     "execution_count": 110,
     "metadata": {},
     "output_type": "execute_result"
    }
   ],
   "source": [
    "data.head()"
   ]
  },
  {
   "cell_type": "code",
   "execution_count": null,
   "metadata": {},
   "outputs": [],
   "source": [
    "rmse = np.sqrt(mean_squared_error(Y_test, predictions))\n",
    "print(\"RMSE: %f\" % (rmse))"
   ]
  },
  {
   "cell_type": "code",
   "execution_count": null,
   "metadata": {
    "scrolled": false
   },
   "outputs": [],
   "source": [
    "print('Slope:',lm.coef_)"
   ]
  },
  {
   "cell_type": "code",
   "execution_count": null,
   "metadata": {},
   "outputs": [],
   "source": [
    "coefficient_df =  pd.DataFrame({'Features' : pd.Series(features),\n",
    "                        \"Coefficients\" : pd.Series(lm.coef_)})\n",
    "coefficient_df"
   ]
  },
  {
   "cell_type": "code",
   "execution_count": null,
   "metadata": {},
   "outputs": [],
   "source": [
    "predd = pd.DataFrame({'actual':Y_test, 'predicted': lm.predict(X_test)})  #compare actual and predicted\n",
    "predd= predd.reset_index()\n",
    "predd.head()"
   ]
  },
  {
   "cell_type": "code",
   "execution_count": null,
   "metadata": {},
   "outputs": [],
   "source": [
    "\n",
    "metrics.mean_squared_error(Y_test,predictions)"
   ]
  },
  {
   "cell_type": "code",
   "execution_count": 29,
   "metadata": {
    "scrolled": true
   },
   "outputs": [
    {
     "data": {
      "text/plain": [
       "Text(0, 0.5, 'Predicted Y')"
      ]
     },
     "execution_count": 29,
     "metadata": {},
     "output_type": "execute_result"
    },
    {
     "data": {
      "image/png": "[encoded data removed]",
      "text/plain": [
       "<Figure size 432x288 with 1 Axes>"
      ]
     },
     "metadata": {
      "needs_background": "light"
     },
     "output_type": "display_data"
    }
   ],
   "source": [
    "plt.scatter(Y_test,predictions)\n",
    "plt.xlabel('Y Test')\n",
    "plt.ylabel('Predicted Y')\n"
   ]
  },
  {
   "cell_type": "code",
   "execution_count": 30,
   "metadata": {},
   "outputs": [
    {
     "data": {
      "text/plain": [
       "Text(0, 0.5, 'residual')"
      ]
     },
     "execution_count": 30,
     "metadata": {},
     "output_type": "execute_result"
    },
    {
     "data": {
      "image/png": "[encoded data removed]",
      "text/plain": [
       "<Figure size 432x288 with 1 Axes>"
      ]
     },
     "metadata": {
      "needs_background": "light"
     },
     "output_type": "display_data"
    }
   ],
   "source": [
    "x_plot = plt.scatter(predictions, (predictions - Y_test), c='b')\n",
    "\n",
    "plt.hlines(y=0, xmin= -10, xmax=50)\n",
    "\n",
    "plt.title('Residual plot')\n",
    "plt.xlabel('predicted')\n",
    "plt.ylabel('residual')"
   ]
  },
  {
   "cell_type": "code",
   "execution_count": null,
   "metadata": {},
   "outputs": [],
   "source": []
  },
  {
   "cell_type": "code",
   "execution_count": 43,
   "metadata": {
    "scrolled": true
   },
   "outputs": [
    {
     "name": "stderr",
     "output_type": "stream",
     "text": [
      "/Users/pavankumar/anaconda3/lib/python3.7/site-packages/scipy/stats/stats.py:1713: FutureWarning: Using a non-tuple sequence for multidimensional indexing is deprecated; use `arr[tuple(seq)]` instead of `arr[seq]`. In the future this will be interpreted as an array index, `arr[np.array(seq)]`, which will result either in an error or a different result.\n",
      "  return np.add.reduce(sorted[indexer] * weights, axis=axis) / sumval\n"
     ]
    },
    {
     "data": {
      "text/plain": [
       "Text(0.5, 1.0, 'residual')"
      ]
     },
     "execution_count": 43,
     "metadata": {},
     "output_type": "execute_result"
    },
    {
     "data": {
      "image/png": "[encoded data removed]",
      "text/plain": [
       "<Figure size 432x288 with 1 Axes>"
      ]
     },
     "metadata": {
      "needs_background": "light"
     },
     "output_type": "display_data"
    }
   ],
   "source": [
    "sns.distplot((Y_test-predictions),bins=50);\n",
    "plt.title(\"residuals\")\n"
   ]
  },
  {
   "cell_type": "code",
   "execution_count": 42,
   "metadata": {},
   "outputs": [
    {
     "name": "stdout",
     "output_type": "stream",
     "text": [
      "{'alpha': 1e-15}\n",
      "0.6908049984190391\n"
     ]
    }
   ],
   "source": [
    "from sklearn.linear_model import Ridge\n",
    "ridge = Ridge()\n",
    "parameters = {'alpha' : [1e-15, 1e-10, 1e-8,1 , 5, 10, 20]}\n",
    "ridge_regressor = GridSearchCV(ridge,parameters,cv=5)\n",
    "ridge_regressor.fit(X_train,Y_train)\n",
    "print(ridge_regressor.best_params_)\n",
    "print(ridge_regressor.best_score_)\n",
    "\n",
    "pred=ridge_regressor.predict(X_test)\n",
    "\n"
   ]
  },
  {
   "cell_type": "code",
   "execution_count": 43,
   "metadata": {},
   "outputs": [
    {
     "data": {
      "text/plain": [
       "0.7387144797609497"
      ]
     },
     "execution_count": 43,
     "metadata": {},
     "output_type": "execute_result"
    }
   ],
   "source": [
    "ridge_regressor.score(X_train,Y_train)"
   ]
  },
  {
   "cell_type": "code",
   "execution_count": 44,
   "metadata": {},
   "outputs": [
    {
     "data": {
      "text/plain": [
       "0.704701756957707"
      ]
     },
     "execution_count": 44,
     "metadata": {},
     "output_type": "execute_result"
    }
   ],
   "source": [
    "ridge_regressor.score(X_test,Y_test)"
   ]
  },
  {
   "cell_type": "code",
   "execution_count": 45,
   "metadata": {},
   "outputs": [
    {
     "name": "stdout",
     "output_type": "stream",
     "text": [
      "RMSE:  4.832883733324836\n"
     ]
    }
   ],
   "source": [
    "from sklearn import metrics\n",
    "print('RMSE: ',np.sqrt(metrics.mean_squared_error(Y_test,pred)))"
   ]
  },
  {
   "cell_type": "code",
   "execution_count": 46,
   "metadata": {},
   "outputs": [
    {
     "name": "stdout",
     "output_type": "stream",
     "text": [
      "MSE:  23.356765179835808\n"
     ]
    }
   ],
   "source": [
    "print('MSE: ',metrics.mean_squared_error(Y_test,pred))"
   ]
  },
  {
   "cell_type": "code",
   "execution_count": null,
   "metadata": {},
   "outputs": [],
   "source": []
  },
  {
   "cell_type": "code",
   "execution_count": null,
   "metadata": {},
   "outputs": [],
   "source": []
  },
  {
   "cell_type": "code",
   "execution_count": null,
   "metadata": {},
   "outputs": [],
   "source": []
  },
  {
   "cell_type": "code",
   "execution_count": 47,
   "metadata": {},
   "outputs": [
    {
     "name": "stdout",
     "output_type": "stream",
     "text": [
      "{'alpha': 1e-08}\n",
      "0.6908049985492529\n"
     ]
    },
    {
     "name": "stderr",
     "output_type": "stream",
     "text": [
      "/Users/pavankumar/anaconda3/lib/python3.7/site-packages/sklearn/linear_model/coordinate_descent.py:492: ConvergenceWarning: Objective did not converge. You might want to increase the number of iterations. Fitting data with very small alpha may cause precision problems.\n",
      "  ConvergenceWarning)\n",
      "/Users/pavankumar/anaconda3/lib/python3.7/site-packages/sklearn/linear_model/coordinate_descent.py:492: ConvergenceWarning: Objective did not converge. You might want to increase the number of iterations. Fitting data with very small alpha may cause precision problems.\n",
      "  ConvergenceWarning)\n",
      "/Users/pavankumar/anaconda3/lib/python3.7/site-packages/sklearn/linear_model/coordinate_descent.py:492: ConvergenceWarning: Objective did not converge. You might want to increase the number of iterations. Fitting data with very small alpha may cause precision problems.\n",
      "  ConvergenceWarning)\n",
      "/Users/pavankumar/anaconda3/lib/python3.7/site-packages/sklearn/linear_model/coordinate_descent.py:492: ConvergenceWarning: Objective did not converge. You might want to increase the number of iterations. Fitting data with very small alpha may cause precision problems.\n",
      "  ConvergenceWarning)\n",
      "/Users/pavankumar/anaconda3/lib/python3.7/site-packages/sklearn/linear_model/coordinate_descent.py:492: ConvergenceWarning: Objective did not converge. You might want to increase the number of iterations. Fitting data with very small alpha may cause precision problems.\n",
      "  ConvergenceWarning)\n",
      "/Users/pavankumar/anaconda3/lib/python3.7/site-packages/sklearn/linear_model/coordinate_descent.py:492: ConvergenceWarning: Objective did not converge. You might want to increase the number of iterations. Fitting data with very small alpha may cause precision problems.\n",
      "  ConvergenceWarning)\n",
      "/Users/pavankumar/anaconda3/lib/python3.7/site-packages/sklearn/linear_model/coordinate_descent.py:492: ConvergenceWarning: Objective did not converge. You might want to increase the number of iterations. Fitting data with very small alpha may cause precision problems.\n",
      "  ConvergenceWarning)\n"
     ]
    }
   ],
   "source": [
    "from sklearn.linear_model import Lasso\n",
    "lasso = Lasso()\n",
    "parameters = {'alpha' : [1e-15, 1e-10, 1e-8,1 , 5, 10, 20]}\n",
    "lasso_regressor = GridSearchCV(lasso,parameters,cv=5)\n",
    "lasso_regressor.fit(X_train,Y_train)\n",
    "print(lasso_regressor.best_params_)\n",
    "print(lasso_regressor.best_score_)\n",
    "\n",
    "predlasso=lasso_regressor.predict(X_test)"
   ]
  },
  {
   "cell_type": "code",
   "execution_count": 48,
   "metadata": {},
   "outputs": [
    {
     "name": "stdout",
     "output_type": "stream",
     "text": [
      "MSE:  23.356764969073033\n"
     ]
    }
   ],
   "source": [
    "from sklearn import metrics\n",
    "print('MSE: ',metrics.mean_squared_error(Y_test,predlasso))"
   ]
  },
  {
   "cell_type": "code",
   "execution_count": 49,
   "metadata": {},
   "outputs": [
    {
     "name": "stdout",
     "output_type": "stream",
     "text": [
      "RMSE:  4.832883711519762\n"
     ]
    }
   ],
   "source": [
    "print('RMSE: ',np.sqrt(metrics.mean_squared_error(Y_test,predlasso)))"
   ]
  },
  {
   "cell_type": "code",
   "execution_count": 50,
   "metadata": {},
   "outputs": [
    {
     "data": {
      "text/plain": [
       "0.7387144797609493"
      ]
     },
     "execution_count": 50,
     "metadata": {},
     "output_type": "execute_result"
    }
   ],
   "source": [
    "lasso_regressor.score(X_train,Y_train)"
   ]
  },
  {
   "cell_type": "code",
   "execution_count": 51,
   "metadata": {},
   "outputs": [
    {
     "data": {
      "text/plain": [
       "0.7047017596223686"
      ]
     },
     "execution_count": 51,
     "metadata": {},
     "output_type": "execute_result"
    }
   ],
   "source": [
    "lasso_regressor.score(X_test,Y_test)"
   ]
  },
  {
   "cell_type": "code",
   "execution_count": null,
   "metadata": {},
   "outputs": [],
   "source": []
  },
  {
   "cell_type": "code",
   "execution_count": 52,
   "metadata": {
    "scrolled": true
   },
   "outputs": [
    {
     "name": "stdout",
     "output_type": "stream",
     "text": [
      "RMSE value for k=  1 is: 6.654632377006508\n",
      "RMSE value for k=  2 is: 6.315883390250151\n",
      "RMSE value for k=  3 is: 6.501480169698186\n",
      "RMSE value for k=  4 is: 6.825699264927484\n",
      "RMSE value for k=  5 is: 6.745148348379787\n",
      "RMSE value for k=  6 is: 6.759776420080921\n",
      "RMSE value for k=  7 is: 6.727496291112565\n",
      "RMSE value for k=  8 is: 6.756612857915721\n",
      "RMSE value for k=  9 is: 6.772527581407963\n",
      "RMSE value for k=  10 is: 6.8873724365825835\n",
      "RMSE value for k=  11 is: 6.989212763963211\n",
      "RMSE value for k=  12 is: 7.034942273320504\n",
      "RMSE value for k=  13 is: 7.022470967700068\n",
      "RMSE value for k=  14 is: 7.067493024411015\n",
      "RMSE value for k=  15 is: 7.100353689502485\n",
      "RMSE value for k=  16 is: 7.180323646913094\n",
      "RMSE value for k=  17 is: 7.203896866851056\n",
      "RMSE value for k=  18 is: 7.241449321283069\n",
      "RMSE value for k=  19 is: 7.250612368927724\n",
      "RMSE value for k=  20 is: 7.224514461163689\n"
     ]
    }
   ],
   "source": [
    "from sklearn import neighbors\n",
    "from sklearn.metrics import mean_squared_error \n",
    "from math import sqrt\n",
    "\n",
    "rmse_val = [] #to store rmse values for different k\n",
    "for K in range(20):\n",
    "    K = K+1\n",
    "    model = neighbors.KNeighborsRegressor(n_neighbors = K)\n",
    "\n",
    "    model.fit(X_train, Y_train)  #fit the model\n",
    "    predknn=model.predict(X_test) #make prediction on test set\n",
    "    error = sqrt(mean_squared_error(Y_test,predknn)) #calculate rmse\n",
    "    rmse_val.append(error) #store rmse values\n",
    "    print('RMSE value for k= ' , K , 'is:', error)\n",
    "\n",
    "#knn = KNeighborsRegressor(n_neighbors=5)\n",
    "#knn.fit(X_train,Y_train)"
   ]
  },
  {
   "cell_type": "code",
   "execution_count": 67,
   "metadata": {},
   "outputs": [
    {
     "data": {
      "text/plain": [
       "0.7191748179181892"
      ]
     },
     "execution_count": 67,
     "metadata": {},
     "output_type": "execute_result"
    }
   ],
   "source": [
    "model.score(X_train,Y_train)"
   ]
  },
  {
   "cell_type": "code",
   "execution_count": 68,
   "metadata": {},
   "outputs": [
    {
     "data": {
      "text/plain": [
       "0.41096314611458723"
      ]
     },
     "execution_count": 68,
     "metadata": {},
     "output_type": "execute_result"
    }
   ],
   "source": [
    "model.score(X_test,Y_test)"
   ]
  },
  {
   "cell_type": "code",
   "execution_count": 74,
   "metadata": {},
   "outputs": [
    {
     "data": {
      "text/plain": [
       "<matplotlib.axes._subplots.AxesSubplot at 0x1a26932320>"
      ]
     },
     "execution_count": 74,
     "metadata": {},
     "output_type": "execute_result"
    },
    {
     "data": {
      "image/png": "[encoded data removed]",
      "text/plain": [
       "<Figure size 432x288 with 1 Axes>"
      ]
     },
     "metadata": {
      "needs_background": "light"
     },
     "output_type": "display_data"
    }
   ],
   "source": [
    "curve = pd.DataFrame(rmse_val) #elbow curve \n",
    "curve.plot()"
   ]
  },
  {
   "cell_type": "code",
   "execution_count": 70,
   "metadata": {},
   "outputs": [
    {
     "data": {
      "text/plain": [
       "{'n_neighbors': 4}"
      ]
     },
     "execution_count": 70,
     "metadata": {},
     "output_type": "execute_result"
    }
   ],
   "source": [
    "from sklearn.model_selection import GridSearchCV\n",
    "params = {'n_neighbors':[2,3,4,5,6,7,8,9]}\n",
    "\n",
    "knn = neighbors.KNeighborsRegressor()\n",
    "\n",
    "model1 = GridSearchCV(knn, params, cv=5)\n",
    "model1.fit(X_train,Y_train)\n",
    "model1.best_params_\n"
   ]
  },
  {
   "cell_type": "code",
   "execution_count": 71,
   "metadata": {},
   "outputs": [
    {
     "data": {
      "text/plain": [
       "0.41096314611458723"
      ]
     },
     "execution_count": 71,
     "metadata": {},
     "output_type": "execute_result"
    }
   ],
   "source": [
    "model1.score(X_test,Y_test)"
   ]
  },
  {
   "cell_type": "code",
   "execution_count": 72,
   "metadata": {},
   "outputs": [
    {
     "data": {
      "text/plain": [
       "0.7191748179181892"
      ]
     },
     "execution_count": 72,
     "metadata": {},
     "output_type": "execute_result"
    }
   ],
   "source": [
    "model1.score(X_train,Y_train)"
   ]
  },
  {
   "cell_type": "code",
   "execution_count": 59,
   "metadata": {},
   "outputs": [],
   "source": [
    "#def mse(predicknn,Y):\n",
    "   # mse = (((predicknn - Y) ** 2).sum()) / len(predicknn)\n",
    "   # return mse"
   ]
  },
  {
   "cell_type": "code",
   "execution_count": 60,
   "metadata": {},
   "outputs": [],
   "source": [
    "#mse(predicknn,Y_test)"
   ]
  },
  {
   "cell_type": "code",
   "execution_count": 61,
   "metadata": {},
   "outputs": [
    {
     "name": "stdout",
     "output_type": "stream",
     "text": [
      "Requirement already satisfied: graphviz in /Users/pavankumar/anaconda3/lib/python3.7/site-packages (0.11)\r\n"
     ]
    },
    {
     "data": {
      "text/html": [
       "<div>\n",
       "<style scoped>\n",
       "    .dataframe tbody tr th:only-of-type {\n",
       "        vertical-align: middle;\n",
       "    }\n",
       "\n",
       "    .dataframe tbody tr th {\n",
       "        vertical-align: top;\n",
       "    }\n",
       "\n",
       "    .dataframe thead th {\n",
       "        text-align: right;\n",
       "    }\n",
       "</style>\n",
       "<table border=\"1\" class=\"dataframe\">\n",
       "  <thead>\n",
       "    <tr style=\"text-align: right;\">\n",
       "      <th></th>\n",
       "      <th>0</th>\n",
       "      <th>1</th>\n",
       "      <th>2</th>\n",
       "      <th>3</th>\n",
       "      <th>4</th>\n",
       "      <th>5</th>\n",
       "      <th>6</th>\n",
       "      <th>7</th>\n",
       "      <th>8</th>\n",
       "      <th>9</th>\n",
       "      <th>10</th>\n",
       "      <th>11</th>\n",
       "      <th>12</th>\n",
       "      <th>13</th>\n",
       "    </tr>\n",
       "  </thead>\n",
       "  <tbody>\n",
       "    <tr>\n",
       "      <th>0</th>\n",
       "      <td>LSTAT</td>\n",
       "      <td>RM</td>\n",
       "      <td>DIS</td>\n",
       "      <td>CRIM</td>\n",
       "      <td>TAX</td>\n",
       "      <td>MV</td>\n",
       "      <td>B</td>\n",
       "      <td>PT</td>\n",
       "      <td>RAD</td>\n",
       "      <td>AGE</td>\n",
       "      <td>NOX</td>\n",
       "      <td>CHAS</td>\n",
       "      <td>INDUS</td>\n",
       "      <td>ZN</td>\n",
       "    </tr>\n",
       "    <tr>\n",
       "      <th>1</th>\n",
       "      <td>0.614157</td>\n",
       "      <td>0.24022</td>\n",
       "      <td>0.0852842</td>\n",
       "      <td>0.0522461</td>\n",
       "      <td>0.00809324</td>\n",
       "      <td>0</td>\n",
       "      <td>0</td>\n",
       "      <td>0</td>\n",
       "      <td>0</td>\n",
       "      <td>0</td>\n",
       "      <td>0</td>\n",
       "      <td>0</td>\n",
       "      <td>0</td>\n",
       "      <td>0</td>\n",
       "    </tr>\n",
       "  </tbody>\n",
       "</table>\n",
       "</div>"
      ],
      "text/plain": [
       "         0        1          2          3           4   5  6   7    8    9   \\\n",
       "0     LSTAT       RM        DIS       CRIM         TAX  MV  B  PT  RAD  AGE   \n",
       "1  0.614157  0.24022  0.0852842  0.0522461  0.00809324   0  0   0    0    0   \n",
       "\n",
       "    10    11     12  13  \n",
       "0  NOX  CHAS  INDUS  ZN  \n",
       "1    0     0      0   0  "
      ]
     },
     "execution_count": 61,
     "metadata": {},
     "output_type": "execute_result"
    }
   ],
   "source": [
    "#!pip install graphviz\n",
    "from sklearn.preprocessing import StandardScaler, FunctionTransformer\n",
    "from sklearn.metrics import mean_squared_error, mean_absolute_error, r2_score\n",
    "from sklearn import tree\n",
    "\n",
    "import graphviz\n",
    "import math\n",
    "clf = tree.DecisionTreeRegressor(max_depth=3)\n",
    "clf = clf.fit(X_train, Y_train)\n",
    "importances = clf.feature_importances_\n",
    "indices = np.argsort(importances)[::-1]\n",
    "pd.DataFrame([data.columns[indices],np.sort(importances)[::-1]])"
   ]
  },
  {
   "cell_type": "code",
   "execution_count": 62,
   "metadata": {},
   "outputs": [],
   "source": [
    "select = indices[0:3].tolist()\n",
    "clf = tree.DecisionTreeRegressor(max_depth=3)\n",
    "clf = clf.fit(X_train[:,select], Y_train)"
   ]
  },
  {
   "cell_type": "code",
   "execution_count": 63,
   "metadata": {},
   "outputs": [],
   "source": [
    "train_pred = clf.predict(X_train[:,select])\n",
    "test_pred = clf.predict(X_test[:,select])"
   ]
  },
  {
   "cell_type": "code",
   "execution_count": 64,
   "metadata": {},
   "outputs": [
    {
     "name": "stdout",
     "output_type": "stream",
     "text": [
      "[11.56346157 19.97395836 16.87234049 16.87234049 19.97395836]\n",
      "[26.47983882 26.47983882 26.47983882 19.97395836 11.56346157]\n"
     ]
    }
   ],
   "source": [
    "print(train_pred[:5])\n",
    "print(test_pred[:5])"
   ]
  },
  {
   "cell_type": "code",
   "execution_count": 65,
   "metadata": {},
   "outputs": [
    {
     "name": "stdout",
     "output_type": "stream",
     "text": [
      "The Mean Absolute Error on train dataset: 3.2405233033058414 \n",
      "\n",
      "The Mean Absolute Error on test dataset: 3.4676771198837346 \n",
      "\n",
      "The Mean Squared Error on train dataset: 16.137287750729527 \n",
      "\n",
      "The Mean Squared Error on test dataset: 20.721737167429836 \n",
      "\n",
      "The Root Mean Squared Error on train dataset: 4.0171243135767565 \n",
      "\n",
      "The Root Mean Squared Error on test dataset: 4.552113483584283 \n",
      "\n",
      "The Mean Absolute Percentage Error on train dataset: 16.904393173886895 \n",
      "\n",
      "The Mean Absolute Percentage Error on test dataset: 17.149319002915803 \n",
      "\n"
     ]
    }
   ],
   "source": [
    "print(\"The Mean Absolute Error on train dataset: {} \\n\".format(mean_absolute_error(y_pred=train_pred,y_true=Y_train)))\n",
    "print(\"The Mean Absolute Error on test dataset: {} \\n\".format(mean_absolute_error(y_pred=test_pred,y_true=Y_test)))\n",
    "\n",
    "print(\"The Mean Squared Error on train dataset: {} \\n\".format(mean_squared_error(y_pred=train_pred,y_true=Y_train)))\n",
    "print(\"The Mean Squared Error on test dataset: {} \\n\".format(mean_squared_error(y_pred=test_pred,y_true=Y_test)))\n",
    "\n",
    "print(\"The Root Mean Squared Error on train dataset: {} \\n\".format(math.sqrt(mean_squared_error(y_pred=train_pred,y_true=Y_train))))\n",
    "print(\"The Root Mean Squared Error on test dataset: {} \\n\".format(math.sqrt(mean_squared_error(y_pred=test_pred,y_true=Y_test))))\n",
    "\n",
    "def mean_absolute_percentage_error(y_true, y_pred): \n",
    "    y_true, y_pred = np.array(y_true), np.array(y_pred)\n",
    "    return np.mean(np.abs((y_true - y_pred) / y_true)) * 100\n",
    "\n",
    "print(\"The Mean Absolute Percentage Error on train dataset: {} \\n\".format(mean_absolute_percentage_error(y_pred=train_pred,y_true=Y_train)))\n",
    "print(\"The Mean Absolute Percentage Error on test dataset: {} \\n\".format(mean_absolute_percentage_error(y_pred=test_pred,y_true=Y_test)))\n"
   ]
  },
  {
   "cell_type": "code",
   "execution_count": 66,
   "metadata": {},
   "outputs": [],
   "source": [
    "#random forest\n",
    "from sklearn.ensemble import RandomForestRegressor\n",
    "rfc = RandomForestRegressor()"
   ]
  },
  {
   "cell_type": "code",
   "execution_count": 67,
   "metadata": {},
   "outputs": [
    {
     "name": "stdout",
     "output_type": "stream",
     "text": [
      "CPU times: user 32.7 ms, sys: 4.26 ms, total: 36.9 ms\n",
      "Wall time: 40.5 ms\n"
     ]
    },
    {
     "name": "stderr",
     "output_type": "stream",
     "text": [
      "/Users/pavankumar/anaconda3/lib/python3.7/site-packages/sklearn/ensemble/forest.py:246: FutureWarning: The default value of n_estimators will change from 10 in version 0.20 to 100 in 0.22.\n",
      "  \"10 in version 0.20 to 100 in 0.22.\", FutureWarning)\n"
     ]
    },
    {
     "data": {
      "text/plain": [
       "RandomForestRegressor(bootstrap=True, criterion='mse', max_depth=None,\n",
       "           max_features='auto', max_leaf_nodes=None,\n",
       "           min_impurity_decrease=0.0, min_impurity_split=None,\n",
       "           min_samples_leaf=1, min_samples_split=2,\n",
       "           min_weight_fraction_leaf=0.0, n_estimators=10, n_jobs=None,\n",
       "           oob_score=False, random_state=None, verbose=0, warm_start=False)"
      ]
     },
     "execution_count": 67,
     "metadata": {},
     "output_type": "execute_result"
    }
   ],
   "source": [
    "%time rfc.fit(X = X_train,y = Y_train)"
   ]
  },
  {
   "cell_type": "code",
   "execution_count": 68,
   "metadata": {},
   "outputs": [],
   "source": [
    "train_predictions = rfc.predict(X_train)\n",
    "test_predictions = rfc.predict(X_test)\n",
    "\n"
   ]
  },
  {
   "cell_type": "code",
   "execution_count": 69,
   "metadata": {},
   "outputs": [
    {
     "data": {
      "text/plain": [
       "0.8629034171300259"
      ]
     },
     "execution_count": 69,
     "metadata": {},
     "output_type": "execute_result"
    }
   ],
   "source": [
    "rfc.score(X_test,Y_test)"
   ]
  },
  {
   "cell_type": "code",
   "execution_count": 70,
   "metadata": {},
   "outputs": [
    {
     "data": {
      "text/plain": [
       "0.9698002411538991"
      ]
     },
     "execution_count": 70,
     "metadata": {},
     "output_type": "execute_result"
    }
   ],
   "source": [
    "metrics.r2_score(Y_train,train_predictions)"
   ]
  },
  {
   "cell_type": "code",
   "execution_count": 71,
   "metadata": {},
   "outputs": [
    {
     "data": {
      "text/plain": [
       "0.8629034171300259"
      ]
     },
     "execution_count": 71,
     "metadata": {},
     "output_type": "execute_result"
    }
   ],
   "source": [
    "metrics.r2_score(Y_test,test_predictions)"
   ]
  },
  {
   "cell_type": "code",
   "execution_count": 72,
   "metadata": {},
   "outputs": [
    {
     "data": {
      "text/plain": [
       "0.9698002411538991"
      ]
     },
     "execution_count": 72,
     "metadata": {},
     "output_type": "execute_result"
    }
   ],
   "source": [
    "rfc.score(X_train,Y_train)"
   ]
  },
  {
   "cell_type": "code",
   "execution_count": 73,
   "metadata": {},
   "outputs": [
    {
     "name": "stdout",
     "output_type": "stream",
     "text": [
      "The Root Mean Squared Error on train dataset: 1.6276644422137985 \n",
      "\n",
      "The Root Mean Squared Error on test dataset: 3.2929810448779655 \n",
      "\n"
     ]
    }
   ],
   "source": [
    "print(\"The Root Mean Squared Error on train dataset: {} \\n\".format(math.sqrt(mean_squared_error(y_pred=train_predictions,y_true=Y_train))))\n",
    "print(\"The Root Mean Squared Error on test dataset: {} \\n\".format(math.sqrt(mean_squared_error(y_pred=test_predictions,y_true=Y_test))))"
   ]
  },
  {
   "cell_type": "code",
   "execution_count": 74,
   "metadata": {},
   "outputs": [
    {
     "data": {
      "text/plain": [
       "array([0.03373075, 0.00191902, 0.0082863 , 0.0012847 , 0.00923679,\n",
       "       0.29651581, 0.01199449, 0.06122363, 0.00917522, 0.01516501,\n",
       "       0.01399284, 0.01919253, 0.51402131, 0.00426161])"
      ]
     },
     "execution_count": 74,
     "metadata": {},
     "output_type": "execute_result"
    }
   ],
   "source": [
    "rfc.feature_importances_"
   ]
  },
  {
   "cell_type": "code",
   "execution_count": 75,
   "metadata": {},
   "outputs": [],
   "source": [
    "feat_importances = pd.Series(rfc.feature_importances_, index = data.drop('MV',axis=1).columns)\n"
   ]
  },
  {
   "cell_type": "code",
   "execution_count": 76,
   "metadata": {},
   "outputs": [
    {
     "data": {
      "text/plain": [
       "<matplotlib.axes._subplots.AxesSubplot at 0x1a1e130208>"
      ]
     },
     "execution_count": 76,
     "metadata": {},
     "output_type": "execute_result"
    },
    {
     "data": {
      "image/png": "[encoded data removed]",
      "text/plain": [
       "<Figure size 432x288 with 1 Axes>"
      ]
     },
     "metadata": {
      "needs_background": "light"
     },
     "output_type": "display_data"
    }
   ],
   "source": [
    "feat_importances.plot(kind='bar')"
   ]
  },
  {
   "cell_type": "code",
   "execution_count": 116,
   "metadata": {},
   "outputs": [],
   "source": [
    "#grid search random forest\n",
    "rfc_grid = RandomForestRegressor(n_jobs=-1, max_features='sqrt')"
   ]
  },
  {
   "cell_type": "code",
   "execution_count": 119,
   "metadata": {},
   "outputs": [],
   "source": [
    "from sklearn.model_selection import RandomizedSearchCV"
   ]
  },
  {
   "cell_type": "code",
   "execution_count": 120,
   "metadata": {},
   "outputs": [],
   "source": [
    "param_grid = {\"n_estimators\" : [10, 20, 30],\n",
    "           \"max_depth\" : [8,10, 12, 14]}\n",
    "          \n",
    " \n",
    "rfc_cv_grid = RandomizedSearchCV(estimator = rfc_grid, param_distributions = param_grid, cv = 3)"
   ]
  },
  {
   "cell_type": "code",
   "execution_count": 121,
   "metadata": {},
   "outputs": [
    {
     "name": "stdout",
     "output_type": "stream",
     "text": [
      "CPU times: user 1.36 s, sys: 265 ms, total: 1.62 s\n",
      "Wall time: 9.88 s\n"
     ]
    },
    {
     "data": {
      "text/plain": [
       "RandomizedSearchCV(cv=3, error_score='raise-deprecating',\n",
       "          estimator=RandomForestRegressor(bootstrap=True, criterion='mse', max_depth=None,\n",
       "           max_features='sqrt', max_leaf_nodes=None,\n",
       "           min_impurity_decrease=0.0, min_impurity_split=None,\n",
       "           min_samples_leaf=1, min_samples_split=2,\n",
       "           min_weight_fraction_leaf=0.0, n_estimators='warn', n_jobs=-1,\n",
       "           oob_score=False, random_state=None, verbose=0, warm_start=False),\n",
       "          fit_params=None, iid='warn', n_iter=10, n_jobs=None,\n",
       "          param_distributions={'n_estimators': [10, 20, 30], 'max_depth': [8, 10, 12, 14]},\n",
       "          pre_dispatch='2*n_jobs', random_state=None, refit=True,\n",
       "          return_train_score='warn', scoring=None, verbose=0)"
      ]
     },
     "execution_count": 121,
     "metadata": {},
     "output_type": "execute_result"
    }
   ],
   "source": [
    "%time rfc_cv_grid.fit(X_train, Y_train)"
   ]
  },
  {
   "cell_type": "code",
   "execution_count": 122,
   "metadata": {},
   "outputs": [
    {
     "data": {
      "text/plain": [
       "{'n_estimators': 20, 'max_depth': 12}"
      ]
     },
     "execution_count": 122,
     "metadata": {},
     "output_type": "execute_result"
    }
   ],
   "source": [
    "rfc_cv_grid.best_params_"
   ]
  },
  {
   "cell_type": "code",
   "execution_count": 123,
   "metadata": {},
   "outputs": [],
   "source": [
    "train_predictions = rfc_cv_grid.predict(X_train)\n",
    "test_predictions = rfc_cv_grid.predict(X_test)"
   ]
  },
  {
   "cell_type": "code",
   "execution_count": 125,
   "metadata": {},
   "outputs": [
    {
     "data": {
      "text/plain": [
       "1.7647947757163813"
      ]
     },
     "execution_count": 125,
     "metadata": {},
     "output_type": "execute_result"
    }
   ],
   "source": [
    "metrics.mean_squared_error(Y_train,train_predictions)"
   ]
  },
  {
   "cell_type": "code",
   "execution_count": 126,
   "metadata": {},
   "outputs": [
    {
     "data": {
      "text/plain": [
       "9.636115034082387"
      ]
     },
     "execution_count": 126,
     "metadata": {},
     "output_type": "execute_result"
    }
   ],
   "source": [
    "metrics.mean_squared_error(Y_test,test_predictions)"
   ]
  },
  {
   "cell_type": "code",
   "execution_count": 77,
   "metadata": {
    "scrolled": true
   },
   "outputs": [
    {
     "name": "stdout",
     "output_type": "stream",
     "text": [
      "Requirement already satisfied: xgboost in /Users/pavankumar/anaconda3/lib/python3.7/site-packages (0.90)\n",
      "Requirement already satisfied: numpy in /Users/pavankumar/anaconda3/lib/python3.7/site-packages (from xgboost) (1.15.4)\n",
      "Requirement already satisfied: scipy in /Users/pavankumar/anaconda3/lib/python3.7/site-packages (from xgboost) (1.1.0)\n"
     ]
    }
   ],
   "source": [
    "#XGBOOST\n",
    "!pip install xgboost\n",
    "import xgboost as xgb"
   ]
  },
  {
   "cell_type": "code",
   "execution_count": 111,
   "metadata": {},
   "outputs": [],
   "source": [
    "xg_reg = xgb.XGBRegressor(objective ='reg:linear', colsample_bytree = 1, learning_rate = 0.3,\n",
    "                max_depth = 7, alpha = 10, n_estimators = 20)"
   ]
  },
  {
   "cell_type": "code",
   "execution_count": 112,
   "metadata": {},
   "outputs": [
    {
     "name": "stdout",
     "output_type": "stream",
     "text": [
      "[16:24:42] WARNING: src/objective/regression_obj.cu:152: reg:linear is now deprecated in favor of reg:squarederror.\n"
     ]
    }
   ],
   "source": [
    "xg_reg.fit(X_train,Y_train)\n",
    "\n",
    "predsxg = xg_reg.predict(X_test)"
   ]
  },
  {
   "cell_type": "code",
   "execution_count": 113,
   "metadata": {},
   "outputs": [
    {
     "name": "stdout",
     "output_type": "stream",
     "text": [
      "RMSE: 2.627991\n"
     ]
    }
   ],
   "source": [
    "rmse = np.sqrt(mean_squared_error(Y_test, predsxg))\n",
    "print(\"RMSE: %f\" % (rmse))"
   ]
  },
  {
   "cell_type": "code",
   "execution_count": 111,
   "metadata": {},
   "outputs": [],
   "source": [
    "model_lr = LinearRegression()\n",
    "def vif_cal(input_data):\n",
    "    for i in range(0, input_data.shape[1]):\n",
    "        selector=[j for j in range(0,input_data.shape[1]) if j !=i]\n",
    "        y=input_data[:,i]\n",
    "        x=input_data[:,selector]\n",
    "        model_lr.fit(x,y)\n",
    "        train_pred = model_lr.predict(x)\n",
    "        rsq=r2_score(train_pred,y)\n",
    "        vif=round(1/(1-rsq),2)\n",
    "        print (i, \" VIF = \" , vif)"
   ]
  },
  {
   "cell_type": "code",
   "execution_count": 124,
   "metadata": {},
   "outputs": [
    {
     "data": {
      "text/html": [
       "<div>\n",
       "<style scoped>\n",
       "    .dataframe tbody tr th:only-of-type {\n",
       "        vertical-align: middle;\n",
       "    }\n",
       "\n",
       "    .dataframe tbody tr th {\n",
       "        vertical-align: top;\n",
       "    }\n",
       "\n",
       "    .dataframe thead th {\n",
       "        text-align: right;\n",
       "    }\n",
       "</style>\n",
       "<table border=\"1\" class=\"dataframe\">\n",
       "  <thead>\n",
       "    <tr style=\"text-align: right;\">\n",
       "      <th></th>\n",
       "      <th>CRIM</th>\n",
       "      <th>ZN</th>\n",
       "      <th>INDUS</th>\n",
       "      <th>CHAS</th>\n",
       "      <th>NOX</th>\n",
       "      <th>RM</th>\n",
       "      <th>AGE</th>\n",
       "      <th>DIS</th>\n",
       "      <th>RAD</th>\n",
       "      <th>TAX</th>\n",
       "      <th>PT</th>\n",
       "      <th>B</th>\n",
       "      <th>LSTAT</th>\n",
       "      <th>MV</th>\n",
       "      <th>new</th>\n",
       "    </tr>\n",
       "  </thead>\n",
       "  <tbody>\n",
       "    <tr>\n",
       "      <th>0</th>\n",
       "      <td>0.079498</td>\n",
       "      <td>4.242641</td>\n",
       "      <td>1.519868</td>\n",
       "      <td>0.0</td>\n",
       "      <td>0.733485</td>\n",
       "      <td>2.564176</td>\n",
       "      <td>8.074652</td>\n",
       "      <td>2.022375</td>\n",
       "      <td>1.000000</td>\n",
       "      <td>17.204651</td>\n",
       "      <td>3.911521</td>\n",
       "      <td>19.782315</td>\n",
       "      <td>2.231591</td>\n",
       "      <td>4.898979</td>\n",
       "      <td>17.204651</td>\n",
       "    </tr>\n",
       "    <tr>\n",
       "      <th>1</th>\n",
       "      <td>0.165257</td>\n",
       "      <td>0.000000</td>\n",
       "      <td>2.658947</td>\n",
       "      <td>0.0</td>\n",
       "      <td>0.684836</td>\n",
       "      <td>2.533969</td>\n",
       "      <td>8.882567</td>\n",
       "      <td>2.228699</td>\n",
       "      <td>1.414214</td>\n",
       "      <td>15.556349</td>\n",
       "      <td>4.219005</td>\n",
       "      <td>19.922349</td>\n",
       "      <td>3.023243</td>\n",
       "      <td>4.647580</td>\n",
       "      <td>22.000000</td>\n",
       "    </tr>\n",
       "    <tr>\n",
       "      <th>2</th>\n",
       "      <td>0.165197</td>\n",
       "      <td>0.000000</td>\n",
       "      <td>2.658947</td>\n",
       "      <td>0.0</td>\n",
       "      <td>0.684836</td>\n",
       "      <td>2.680485</td>\n",
       "      <td>7.816649</td>\n",
       "      <td>2.228699</td>\n",
       "      <td>1.414214</td>\n",
       "      <td>15.556349</td>\n",
       "      <td>4.219005</td>\n",
       "      <td>19.819939</td>\n",
       "      <td>2.007486</td>\n",
       "      <td>5.890671</td>\n",
       "      <td>22.000000</td>\n",
       "    </tr>\n",
       "    <tr>\n",
       "      <th>3</th>\n",
       "      <td>0.179917</td>\n",
       "      <td>0.000000</td>\n",
       "      <td>1.476482</td>\n",
       "      <td>0.0</td>\n",
       "      <td>0.676757</td>\n",
       "      <td>2.645373</td>\n",
       "      <td>6.767570</td>\n",
       "      <td>2.462154</td>\n",
       "      <td>1.732051</td>\n",
       "      <td>14.899664</td>\n",
       "      <td>4.324350</td>\n",
       "      <td>19.865296</td>\n",
       "      <td>1.714643</td>\n",
       "      <td>5.779273</td>\n",
       "      <td>25.806976</td>\n",
       "    </tr>\n",
       "    <tr>\n",
       "      <th>4</th>\n",
       "      <td>0.262774</td>\n",
       "      <td>0.000000</td>\n",
       "      <td>1.476482</td>\n",
       "      <td>0.0</td>\n",
       "      <td>0.676757</td>\n",
       "      <td>2.673387</td>\n",
       "      <td>7.362065</td>\n",
       "      <td>2.462154</td>\n",
       "      <td>1.732051</td>\n",
       "      <td>14.899664</td>\n",
       "      <td>4.324350</td>\n",
       "      <td>19.922349</td>\n",
       "      <td>2.308679</td>\n",
       "      <td>6.016644</td>\n",
       "      <td>25.806976</td>\n",
       "    </tr>\n",
       "  </tbody>\n",
       "</table>\n",
       "</div>"
      ],
      "text/plain": [
       "       CRIM        ZN     INDUS  CHAS       NOX        RM       AGE       DIS  \\\n",
       "0  0.079498  4.242641  1.519868   0.0  0.733485  2.564176  8.074652  2.022375   \n",
       "1  0.165257  0.000000  2.658947   0.0  0.684836  2.533969  8.882567  2.228699   \n",
       "2  0.165197  0.000000  2.658947   0.0  0.684836  2.680485  7.816649  2.228699   \n",
       "3  0.179917  0.000000  1.476482   0.0  0.676757  2.645373  6.767570  2.462154   \n",
       "4  0.262774  0.000000  1.476482   0.0  0.676757  2.673387  7.362065  2.462154   \n",
       "\n",
       "        RAD        TAX        PT          B     LSTAT        MV        new  \n",
       "0  1.000000  17.204651  3.911521  19.782315  2.231591  4.898979  17.204651  \n",
       "1  1.414214  15.556349  4.219005  19.922349  3.023243  4.647580  22.000000  \n",
       "2  1.414214  15.556349  4.219005  19.819939  2.007486  5.890671  22.000000  \n",
       "3  1.732051  14.899664  4.324350  19.865296  1.714643  5.779273  25.806976  \n",
       "4  1.732051  14.899664  4.324350  19.922349  2.308679  6.016644  25.806976  "
      ]
     },
     "execution_count": 124,
     "metadata": {},
     "output_type": "execute_result"
    }
   ],
   "source": [
    "data.head()"
   ]
  },
  {
   "cell_type": "code",
   "execution_count": null,
   "metadata": {},
   "outputs": [],
   "source": []
  }
 ],
 "metadata": {
  "kernelspec": {
   "display_name": "Python 3",
   "language": "python",
   "name": "python3"
  },
  "language_info": {
   "codemirror_mode": {
    "name": "ipython",
    "version": 3
   },
   "file_extension": ".py",
   "mimetype": "text/x-python",
   "name": "python",
   "nbconvert_exporter": "python",
   "pygments_lexer": "ipython3",
   "version": "3.7.1"
  }
 },
 "nbformat": 4,
 "nbformat_minor": 2
}
